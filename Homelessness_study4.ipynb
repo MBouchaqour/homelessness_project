{
  "nbformat": 4,
  "nbformat_minor": 5,
  "metadata": {
    "kernelspec": {
      "display_name": "Python 3",
      "language": "python",
      "name": "python3"
    },
    "language_info": {
      "codemirror_mode": {
        "name": "ipython",
        "version": 3
      },
      "file_extension": ".py",
      "mimetype": "text/x-python",
      "name": "python",
      "nbconvert_exporter": "python",
      "pygments_lexer": "ipython3",
      "version": "3.8.5"
    },
    "colab": {
      "name": "Copy of Homelessness_Study_4.ipynb",
      "provenance": [],
      "collapsed_sections": []
    }
  },
  "cells": [
    {
      "cell_type": "markdown",
      "source": [
        "### Homeless Not Hopeless ###\n",
        "\n",
        "- Data Source:\n",
        "  - Housing Availability and Affordability:\n",
        "    - Monthly Rent Data/Runting in Burdern/Median Income: https://data.cccnewyork.org/\n",
        "\n",
        "    - Children in Shelter: https://data.cccnewyork.org/data\n",
        "\n",
        "- Project Description: In this project, homelessness_study, We used data from different sources to check why homelessness is getting worse within NYC. There are many facts that are impacting the homelessness phenomena such as:\n",
        "    - The increasing price of renting\n",
        "    - Housing is STILL not affordable\n",
        "    - Median Income of Renters: $34,255\n",
        "    - Average 2- Bedroom Rent: $1,651\n",
        "    - Income to afford that rent: $59,430\n",
        "    - Other facts\n"
      ],
      "metadata": {
        "id": "RbQLdC-97K-B"
      },
      "id": "RbQLdC-97K-B"
    },
    {
      "cell_type": "markdown",
      "source": [
        "## Libraries"
      ],
      "metadata": {
        "id": "Z85j4aqC-RTU"
      },
      "id": "Z85j4aqC-RTU"
    },
    {
      "cell_type": "code",
      "source": [
        "import pandas as pd\n",
        "import numpy as np\n",
        "# Visualizing time series data\n",
        "import matplotlib.pyplot as plt\n",
        "import seaborn as sns\n",
        "sns.set(rc={'figure.figsize':(11, 4)})\n",
        "import matplotlib.dates as mdates\n",
        "\n",
        "%matplotlib inline \n",
        "import scipy.stats as stats\n",
        "import re"
      ],
      "metadata": {
        "id": "dAqFFYnr7H5N"
      },
      "id": "dAqFFYnr7H5N",
      "execution_count": 2,
      "outputs": []
    },
    {
      "cell_type": "markdown",
      "source": [
        "## An Overview of Monthly Rent Data\n",
        "- What are the minimum and maximum people can afford to pay for rent"
      ],
      "metadata": {
        "id": "RMP8E90yOZZW"
      },
      "id": "RMP8E90yOZZW"
    },
    {
      "cell_type": "code",
      "source": [
        "#If you want to upload the files into your google colab use this code: \n",
        "# from google.colab import files\n",
        "# uploaded=files.upload()\n",
        "# Median Monthly Rent\n",
        "# path1='/content/Median Monthly Rent.csv'\n",
        "# #Creating dataframe\n",
        "# df=pd.read_csv(path1, skiprows=5)\n",
        "# df.head(5)"
      ],
      "metadata": {
        "colab": {
          "resources": {
            "http://localhost:8080/nbextensions/google.colab/files.js": {
              "data": "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",
              "ok": true,
              "headers": [
                [
                  "content-type",
                  "application/javascript"
                ]
              ],
              "status": 200,
              "status_text": ""
            }
          },
          "base_uri": "https://localhost:8080/",
          "height": 73
        },
        "id": "urtq1lhPPQn5",
        "outputId": "3e9e7f74-e63c-4d10-b907-a3b27eda8807"
      },
      "id": "urtq1lhPPQn5",
      "execution_count": null,
      "outputs": [
        {
          "output_type": "display_data",
          "data": {
            "text/html": [
              "\n",
              "     <input type=\"file\" id=\"files-f1228475-c943-4266-aa85-356668d0fb8f\" name=\"files[]\" multiple disabled\n",
              "        style=\"border:none\" />\n",
              "     <output id=\"result-f1228475-c943-4266-aa85-356668d0fb8f\">\n",
              "      Upload widget is only available when the cell has been executed in the\n",
              "      current browser session. Please rerun this cell to enable.\n",
              "      </output>\n",
              "      <script src=\"/nbextensions/google.colab/files.js\"></script> "
            ],
            "text/plain": [
              "<IPython.core.display.HTML object>"
            ]
          },
          "metadata": {}
        },
        {
          "output_type": "stream",
          "name": "stdout",
          "text": [
            "Saving Median Monthly Rent.csv to Median Monthly Rent.csv\n"
          ]
        }
      ]
    },
    {
      "cell_type": "code",
      "source": [
        "!curl https://raw.githubusercontent.com/MBouchaqour/homelessness_project/main/data/rent/Median%20Monthly%20Rent.csv -o monthly_rent.csv\n"
      ],
      "metadata": {
        "colab": {
          "base_uri": "https://localhost:8080/"
        },
        "id": "IEE2mmih06UG",
        "outputId": "216059fd-1366-4d80-ec07-f453646485ab"
      },
      "id": "IEE2mmih06UG",
      "execution_count": null,
      "outputs": [
        {
          "output_type": "stream",
          "name": "stdout",
          "text": [
            "  % Total    % Received % Xferd  Average Speed   Time    Time     Time  Current\n",
            "                                 Dload  Upload   Total   Spent    Left  Speed\n",
            "\r  0     0    0     0    0     0      0      0 --:--:-- --:--:-- --:--:--     0\r100 41284  100 41284    0     0   403k      0 --:--:-- --:--:-- --:--:--  403k\n"
          ]
        }
      ]
    },
    {
      "cell_type": "code",
      "source": [
        "df=pd.read_csv(\"monthly_rent.csv\")\n",
        "df.head(5)"
      ],
      "metadata": {
        "colab": {
          "base_uri": "https://localhost:8080/",
          "height": 206
        },
        "id": "lxIoKwNw1bZ3",
        "outputId": "c5c44bdd-a08c-4e25-e025-06107f18164c"
      },
      "id": "lxIoKwNw1bZ3",
      "execution_count": null,
      "outputs": [
        {
          "output_type": "execute_result",
          "data": {
            "text/html": [
              "<div>\n",
              "<style scoped>\n",
              "    .dataframe tbody tr th:only-of-type {\n",
              "        vertical-align: middle;\n",
              "    }\n",
              "\n",
              "    .dataframe tbody tr th {\n",
              "        vertical-align: top;\n",
              "    }\n",
              "\n",
              "    .dataframe thead th {\n",
              "        text-align: right;\n",
              "    }\n",
              "</style>\n",
              "<table border=\"1\" class=\"dataframe\">\n",
              "  <thead>\n",
              "    <tr style=\"text-align: right;\">\n",
              "      <th></th>\n",
              "      <th>Location</th>\n",
              "      <th>TimeFrame</th>\n",
              "      <th>DataFormat</th>\n",
              "      <th>Data</th>\n",
              "      <th>Fips</th>\n",
              "    </tr>\n",
              "  </thead>\n",
              "  <tbody>\n",
              "    <tr>\n",
              "      <th>0</th>\n",
              "      <td>Battery Park/Tribeca</td>\n",
              "      <td>2005</td>\n",
              "      <td>Dollars</td>\n",
              "      <td>2230.91670</td>\n",
              "      <td>101</td>\n",
              "    </tr>\n",
              "    <tr>\n",
              "      <th>1</th>\n",
              "      <td>Greenwich Village</td>\n",
              "      <td>2005</td>\n",
              "      <td>Dollars</td>\n",
              "      <td>2230.91670</td>\n",
              "      <td>102</td>\n",
              "    </tr>\n",
              "    <tr>\n",
              "      <th>2</th>\n",
              "      <td>Lower East Side</td>\n",
              "      <td>2005</td>\n",
              "      <td>Dollars</td>\n",
              "      <td>832.00070</td>\n",
              "      <td>103</td>\n",
              "    </tr>\n",
              "    <tr>\n",
              "      <th>3</th>\n",
              "      <td>Chelsea/Clinton</td>\n",
              "      <td>2005</td>\n",
              "      <td>Dollars</td>\n",
              "      <td>1813.60404</td>\n",
              "      <td>104</td>\n",
              "    </tr>\n",
              "    <tr>\n",
              "      <th>4</th>\n",
              "      <td>Midtown Business District</td>\n",
              "      <td>2005</td>\n",
              "      <td>Dollars</td>\n",
              "      <td>1813.60404</td>\n",
              "      <td>105</td>\n",
              "    </tr>\n",
              "  </tbody>\n",
              "</table>\n",
              "</div>"
            ],
            "text/plain": [
              "                    Location  TimeFrame DataFormat        Data  Fips\n",
              "0       Battery Park/Tribeca       2005    Dollars  2230.91670   101\n",
              "1          Greenwich Village       2005    Dollars  2230.91670   102\n",
              "2            Lower East Side       2005    Dollars   832.00070   103\n",
              "3            Chelsea/Clinton       2005    Dollars  1813.60404   104\n",
              "4  Midtown Business District       2005    Dollars  1813.60404   105"
            ]
          },
          "metadata": {},
          "execution_count": 11
        }
      ]
    },
    {
      "cell_type": "code",
      "source": [
        "#The period of data\n",
        "start_date=df['TimeFrame'].min()\n",
        "end_date=df['TimeFrame'].max()\n",
        "print(f'Data is ranged between {start_date} and {end_date}')"
      ],
      "metadata": {
        "colab": {
          "base_uri": "https://localhost:8080/"
        },
        "id": "u_Xwwh_d6v08",
        "outputId": "84ceb008-4c96-43c4-a5b6-8f5802702e1f"
      },
      "id": "u_Xwwh_d6v08",
      "execution_count": null,
      "outputs": [
        {
          "output_type": "stream",
          "name": "stdout",
          "text": [
            "Data is ranged between 2005 and 2019\n"
          ]
        }
      ]
    },
    {
      "cell_type": "code",
      "source": [
        "#filtring locations\n",
        "target_location=['Manhattan','Queens','Staten Island','Bronx','Brooklyn']\n",
        "filter_by_location=df['Location'].isin(target_location)\n",
        "df=df[filter_by_location]\n",
        "df.head(5)"
      ],
      "metadata": {
        "colab": {
          "base_uri": "https://localhost:8080/",
          "height": 206
        },
        "id": "mCTD4fcy1c_P",
        "outputId": "ca9ea81e-f7c1-4198-bb1d-252e251fda4b"
      },
      "id": "mCTD4fcy1c_P",
      "execution_count": null,
      "outputs": [
        {
          "output_type": "execute_result",
          "data": {
            "text/html": [
              "<div>\n",
              "<style scoped>\n",
              "    .dataframe tbody tr th:only-of-type {\n",
              "        vertical-align: middle;\n",
              "    }\n",
              "\n",
              "    .dataframe tbody tr th {\n",
              "        vertical-align: top;\n",
              "    }\n",
              "\n",
              "    .dataframe thead th {\n",
              "        text-align: right;\n",
              "    }\n",
              "</style>\n",
              "<table border=\"1\" class=\"dataframe\">\n",
              "  <thead>\n",
              "    <tr style=\"text-align: right;\">\n",
              "      <th></th>\n",
              "      <th>Location</th>\n",
              "      <th>TimeFrame</th>\n",
              "      <th>DataFormat</th>\n",
              "      <th>Data</th>\n",
              "      <th>Fips</th>\n",
              "    </tr>\n",
              "  </thead>\n",
              "  <tbody>\n",
              "    <tr>\n",
              "      <th>59</th>\n",
              "      <td>Bronx</td>\n",
              "      <td>2005</td>\n",
              "      <td>Dollars</td>\n",
              "      <td>908.11433</td>\n",
              "      <td>36005</td>\n",
              "    </tr>\n",
              "    <tr>\n",
              "      <th>60</th>\n",
              "      <td>Brooklyn</td>\n",
              "      <td>2005</td>\n",
              "      <td>Dollars</td>\n",
              "      <td>1034.09550</td>\n",
              "      <td>36047</td>\n",
              "    </tr>\n",
              "    <tr>\n",
              "      <th>61</th>\n",
              "      <td>Manhattan</td>\n",
              "      <td>2005</td>\n",
              "      <td>Dollars</td>\n",
              "      <td>1245.37644</td>\n",
              "      <td>36061</td>\n",
              "    </tr>\n",
              "    <tr>\n",
              "      <th>62</th>\n",
              "      <td>Queens</td>\n",
              "      <td>2005</td>\n",
              "      <td>Dollars</td>\n",
              "      <td>1236.19031</td>\n",
              "      <td>36081</td>\n",
              "    </tr>\n",
              "    <tr>\n",
              "      <th>63</th>\n",
              "      <td>Staten Island</td>\n",
              "      <td>2005</td>\n",
              "      <td>Dollars</td>\n",
              "      <td>1133.83060</td>\n",
              "      <td>36085</td>\n",
              "    </tr>\n",
              "  </tbody>\n",
              "</table>\n",
              "</div>"
            ],
            "text/plain": [
              "         Location  TimeFrame DataFormat        Data   Fips\n",
              "59          Bronx       2005    Dollars   908.11433  36005\n",
              "60       Brooklyn       2005    Dollars  1034.09550  36047\n",
              "61      Manhattan       2005    Dollars  1245.37644  36061\n",
              "62         Queens       2005    Dollars  1236.19031  36081\n",
              "63  Staten Island       2005    Dollars  1133.83060  36085"
            ]
          },
          "metadata": {},
          "execution_count": 13
        }
      ]
    },
    {
      "cell_type": "code",
      "source": [
        "data_info=[('Null values check: ', df.isnull().sum().sort_values(ascending=False)),\n",
        "           ('Duplicate data: ', df.duplicated().sum()), \n",
        "           ('Type: ' , df.dtypes) ]\n",
        "for item in data_info:\n",
        "  print(item[0], end='\\t')\n",
        "  print(item[1])"
      ],
      "metadata": {
        "colab": {
          "base_uri": "https://localhost:8080/"
        },
        "id": "L9DCPlZX1dCB",
        "outputId": "fd0c7aa5-1344-4efa-df65-a2b02d2184f8"
      },
      "id": "L9DCPlZX1dCB",
      "execution_count": null,
      "outputs": [
        {
          "output_type": "stream",
          "name": "stdout",
          "text": [
            "Null values check: \tFips          0\n",
            "Data          0\n",
            "DataFormat    0\n",
            "TimeFrame     0\n",
            "Location      0\n",
            "dtype: int64\n",
            "Duplicate data: \t0\n",
            "Type: \tLocation       object\n",
            "TimeFrame       int64\n",
            "DataFormat     object\n",
            "Data          float64\n",
            "Fips            int64\n",
            "dtype: object\n"
          ]
        }
      ]
    },
    {
      "cell_type": "code",
      "source": [
        "pivot = df.pivot_table(\n",
        "    index=['Location'], \n",
        "    values=['Data'], \n",
        "    aggfunc='mean')\n",
        "pivot"
      ],
      "metadata": {
        "colab": {
          "base_uri": "https://localhost:8080/",
          "height": 237
        },
        "id": "JnPC5QK021C3",
        "outputId": "2c8b2829-b2ff-485a-a16d-8dac2685f636"
      },
      "id": "JnPC5QK021C3",
      "execution_count": null,
      "outputs": [
        {
          "output_type": "execute_result",
          "data": {
            "text/html": [
              "<div>\n",
              "<style scoped>\n",
              "    .dataframe tbody tr th:only-of-type {\n",
              "        vertical-align: middle;\n",
              "    }\n",
              "\n",
              "    .dataframe tbody tr th {\n",
              "        vertical-align: top;\n",
              "    }\n",
              "\n",
              "    .dataframe thead th {\n",
              "        text-align: right;\n",
              "    }\n",
              "</style>\n",
              "<table border=\"1\" class=\"dataframe\">\n",
              "  <thead>\n",
              "    <tr style=\"text-align: right;\">\n",
              "      <th></th>\n",
              "      <th>Data</th>\n",
              "    </tr>\n",
              "    <tr>\n",
              "      <th>Location</th>\n",
              "      <th></th>\n",
              "    </tr>\n",
              "  </thead>\n",
              "  <tbody>\n",
              "    <tr>\n",
              "      <th>Bronx</th>\n",
              "      <td>1025.550313</td>\n",
              "    </tr>\n",
              "    <tr>\n",
              "      <th>Brooklyn</th>\n",
              "      <td>1190.809277</td>\n",
              "    </tr>\n",
              "    <tr>\n",
              "      <th>Manhattan</th>\n",
              "      <td>1498.786221</td>\n",
              "    </tr>\n",
              "    <tr>\n",
              "      <th>Queens</th>\n",
              "      <td>1362.014676</td>\n",
              "    </tr>\n",
              "    <tr>\n",
              "      <th>Staten Island</th>\n",
              "      <td>1142.549607</td>\n",
              "    </tr>\n",
              "  </tbody>\n",
              "</table>\n",
              "</div>"
            ],
            "text/plain": [
              "                      Data\n",
              "Location                  \n",
              "Bronx          1025.550313\n",
              "Brooklyn       1190.809277\n",
              "Manhattan      1498.786221\n",
              "Queens         1362.014676\n",
              "Staten Island  1142.549607"
            ]
          },
          "metadata": {},
          "execution_count": 15
        }
      ]
    },
    {
      "cell_type": "code",
      "source": [
        "# colours = [\"green\", \"red\", \"purple\", \"blue\", \"orange\" ]\n",
        "pivot.plot(kind='bar', colormap='Paired')\n",
        "plt.title(\"Monthly Median Rent By Boroughs\")\n",
        "plt.xlabel(\"Boroughs\")\n",
        "plt.ylabel(\"Monthly Median Rent\")\n",
        "plt.show()"
      ],
      "metadata": {
        "colab": {
          "base_uri": "https://localhost:8080/",
          "height": 364
        },
        "id": "FSfvk6jA6OnX",
        "outputId": "aeb10650-a45c-4af0-f0af-88fa0b9e7b37"
      },
      "id": "FSfvk6jA6OnX",
      "execution_count": null,
      "outputs": [
        {
          "output_type": "display_data",
          "data": {
            "image/png": "[encoded data removed]",
            "text/plain": [
              "<Figure size 432x288 with 1 Axes>"
            ]
          },
          "metadata": {
            "needs_background": "light"
          }
        }
      ]
    },
    {
      "cell_type": "markdown",
      "source": [
        "* The graph above shows that Manhattan is the leading borough when it comes to higher renting price, while Bronx, is still considered the lower renting price."
      ],
      "metadata": {
        "id": "SHy_WjGs8dj0"
      },
      "id": "SHy_WjGs8dj0"
    },
    {
      "cell_type": "code",
      "source": [
        "plt.scatter(df['TimeFrame'],df['Data'])\n",
        "\n",
        "plt.title(\"The increasing price in rent with time\")\n",
        "plt.xlabel('Years')\n",
        "plt.ylabel('Rent Pricing')\n",
        "plt.show()"
      ],
      "metadata": {
        "colab": {
          "base_uri": "https://localhost:8080/",
          "height": 301
        },
        "id": "jRZ8s1av21F4",
        "outputId": "c52fdd9a-0661-4ec2-ba59-8746be8d3624"
      },
      "id": "jRZ8s1av21F4",
      "execution_count": null,
      "outputs": [
        {
          "output_type": "display_data",
          "data": {
            "image/png": "[encoded data removed]",
            "text/plain": [
              "<Figure size 432x288 with 1 Axes>"
            ]
          },
          "metadata": {
            "needs_background": "light"
          }
        }
      ]
    },
    {
      "cell_type": "markdown",
      "source": [
        "* According to data, we may infer that the renting price is getting higher year after year and that may increase the homelesseness"
      ],
      "metadata": {
        "id": "zlHD-q-X7cGj"
      },
      "id": "zlHD-q-X7cGj"
    },
    {
      "cell_type": "markdown",
      "source": [
        "## Renting in Burden: How much percentage people in low income are paying for rent."
      ],
      "metadata": {
        "id": "mPyFwxV6zwZA"
      },
      "id": "mPyFwxV6zwZA"
    },
    {
      "cell_type": "code",
      "source": [
        "#Working locally from google colab us this code\n",
        "# from google.colab import files\n",
        "# uploaded=files.upload()\n",
        "# # Renting in Burden\n",
        "# path1='/content/Severe Rent Burden.csv'\n",
        "# #Creating dataframe\n",
        "# df_2=pd.read_csv(path1, skiprows=5)\n",
        "# df_2.head(5)"
      ],
      "metadata": {
        "colab": {
          "resources": {
            "http://localhost:8080/nbextensions/google.colab/files.js": {
              "data": "Ly8gQ29weXJpZ2h0IDIwMTcgR29vZ2xlIExMQwovLwovLyBMaWNlbnNlZCB1bmRlciB0aGUgQXBhY2hlIExpY2Vuc2UsIFZlcnNpb24gMi4wICh0aGUgIkxpY2Vuc2UiKTsKLy8geW91IG1heSBub3QgdXNlIHRoaXMgZmlsZSBleGNlcHQgaW4gY29tcGxpYW5jZSB3aXRoIHRoZSBMaWNlbnNlLgovLyBZb3UgbWF5IG9idGFpbiBhIGNvcHkgb2YgdGhlIExpY2Vuc2UgYXQKLy8KLy8gICAgICBodHRwOi8vd3d3LmFwYWNoZS5vcmcvbGljZW5zZXMvTElDRU5TRS0yLjAKLy8KLy8gVW5sZXNzIHJlcXVpcmVkIGJ5IGFwcGxpY2FibGUgbGF3IG9yIGFncmVlZCB0byBpbiB3cml0aW5nLCBzb2Z0d2FyZQovLyBkaXN0cmlidXRlZCB1bmRlciB0aGUgTGljZW5zZSBpcyBkaXN0cmlidXRlZCBvbiBhbiAiQVMgSVMiIEJBU0lTLAovLyBXSVRIT1VUIFdBUlJBTlRJRVMgT1IgQ09ORElUSU9OUyBPRiBBTlkgS0lORCwgZWl0aGVyIGV4cHJlc3Mgb3IgaW1wbGllZC4KLy8gU2VlIHRoZSBMaWNlbnNlIGZvciB0aGUgc3BlY2lmaWMgbGFuZ3VhZ2UgZ292ZXJuaW5nIHBlcm1pc3Npb25zIGFuZAovLyBsaW1pdGF0aW9ucyB1bmRlciB0aGUgTGljZW5zZS4KCi8qKgogKiBAZmlsZW92ZXJ2aWV3IEhlbHBlcnMgZm9yIGdvb2dsZS5jb2xhYiBQeXRob24gbW9kdWxlLgogKi8KKGZ1bmN0aW9uKHNjb3BlKSB7CmZ1bmN0aW9uIHNwYW4odGV4dCwgc3R5bGVBdHRyaWJ1dGVzID0ge30pIHsKICBjb25zdCBlbGVtZW50ID0gZG9jdW1lbnQuY3JlYXRlRWxlbWVudCgnc3BhbicpOwogIGVsZW1lbnQudGV4dENvbnRlbnQgPSB0ZXh0OwogIGZvciAoY29uc3Qga2V5IG9mIE9iamVjdC5rZXlzKHN0eWxlQXR0cmlidXRlcykpIHsKICAgIGVsZW1lbnQuc3R5bGVba2V5XSA9IHN0eWxlQXR0cmlidXRlc1trZXldOwogIH0KICByZXR1cm4gZWxlbWVudDsKfQoKLy8gTWF4IG51bWJlciBvZiBieXRlcyB3aGljaCB3aWxsIGJlIHVwbG9hZGVkIGF0IGEgdGltZS4KY29uc3QgTUFYX1BBWUxPQURfU0laRSA9IDEwMCAqIDEwMjQ7CgpmdW5jdGlvbiBfdXBsb2FkRmlsZXMoaW5wdXRJZCwgb3V0cHV0SWQpIHsKICBjb25zdCBzdGVwcyA9IHVwbG9hZEZpbGVzU3RlcChpbnB1dElkLCBvdXRwdXRJZCk7CiAgY29uc3Qgb3V0cHV0RWxlbWVudCA9IGRvY3VtZW50LmdldEVsZW1lbnRCeUlkKG91dHB1dElkKTsKICAvLyBDYWNoZSBzdGVwcyBvbiB0aGUgb3V0cHV0RWxlbWVudCB0byBtYWtlIGl0IGF2YWlsYWJsZSBmb3IgdGhlIG5leHQgY2FsbAogIC8vIHRvIHVwbG9hZEZpbGVzQ29udGludWUgZnJvbSBQeXRob24uCiAgb3V0cHV0RWxlbWVudC5zdGVwcyA9IHN0ZXBzOwoKICByZXR1cm4gX3VwbG9hZEZpbGVzQ29udGludWUob3V0cHV0SWQpOwp9CgovLyBUaGlzIGlzIHJvdWdobHkgYW4gYXN5bmMgZ2VuZXJhdG9yIChub3Qgc3VwcG9ydGVkIGluIHRoZSBicm93c2VyIHlldCksCi8vIHdoZXJlIHRoZXJlIGFyZSBtdWx0aXBsZSBhc3luY2hyb25vdXMgc3RlcHMgYW5kIHRoZSBQeXRob24gc2lkZSBpcyBnb2luZwovLyB0byBwb2xsIGZvciBjb21wbGV0aW9uIG9mIGVhY2ggc3RlcC4KLy8gVGhpcyB1c2VzIGEgUHJvbWlzZSB0byBibG9jayB0aGUgcHl0aG9uIHNpZGUgb24gY29tcGxldGlvbiBvZiBlYWNoIHN0ZXAsCi8vIHRoZW4gcGFzc2VzIHRoZSByZXN1bHQgb2YgdGhlIHByZXZpb3VzIHN0ZXAgYXMgdGhlIGlucHV0IHRvIHRoZSBuZXh0IHN0ZXAuCmZ1bmN0aW9uIF91cGxvYWRGaWxlc0NvbnRpbnVlKG91dHB1dElkKSB7CiAgY29uc3Qgb3V0cHV0RWxlbWVudCA9IGRvY3VtZW50LmdldEVsZW1lbnRCeUlkKG91dHB1dElkKTsKICBjb25zdCBzdGVwcyA9IG91dHB1dEVsZW1lbnQuc3RlcHM7CgogIGNvbnN0IG5leHQgPSBzdGVwcy5uZXh0KG91dHB1dEVsZW1lbnQubGFzdFByb21pc2VWYWx1ZSk7CiAgcmV0dXJuIFByb21pc2UucmVzb2x2ZShuZXh0LnZhbHVlLnByb21pc2UpLnRoZW4oKHZhbHVlKSA9PiB7CiAgICAvLyBDYWNoZSB0aGUgbGFzdCBwcm9taXNlIHZhbHVlIHRvIG1ha2UgaXQgYXZhaWxhYmxlIHRvIHRoZSBuZXh0CiAgICAvLyBzdGVwIG9mIHRoZSBnZW5lcmF0b3IuCiAgICBvdXRwdXRFbGVtZW50Lmxhc3RQcm9taXNlVmFsdWUgPSB2YWx1ZTsKICAgIHJldHVybiBuZXh0LnZhbHVlLnJlc3BvbnNlOwogIH0pOwp9CgovKioKICogR2VuZXJhdG9yIGZ1bmN0aW9uIHdoaWNoIGlzIGNhbGxlZCBiZXR3ZWVuIGVhY2ggYXN5bmMgc3RlcCBvZiB0aGUgdXBsb2FkCiAqIHByb2Nlc3MuCiAqIEBwYXJhbSB7c3RyaW5nfSBpbnB1dElkIEVsZW1lbnQgSUQgb2YgdGhlIGlucHV0IGZpbGUgcGlja2VyIGVsZW1lbnQuCiAqIEBwYXJhbSB7c3RyaW5nfSBvdXRwdXRJZCBFbGVtZW50IElEIG9mIHRoZSBvdXRwdXQgZGlzcGxheS4KICogQHJldHVybiB7IUl0ZXJhYmxlPCFPYmplY3Q+fSBJdGVyYWJsZSBvZiBuZXh0IHN0ZXBzLgogKi8KZnVuY3Rpb24qIHVwbG9hZEZpbGVzU3RlcChpbnB1dElkLCBvdXRwdXRJZCkgewogIGNvbnN0IGlucHV0RWxlbWVudCA9IGRvY3VtZW50LmdldEVsZW1lbnRCeUlkKGlucHV0SWQpOwogIGlucHV0RWxlbWVudC5kaXNhYmxlZCA9IGZhbHNlOwoKICBjb25zdCBvdXRwdXRFbGVtZW50ID0gZG9jdW1lbnQuZ2V0RWxlbWVudEJ5SWQob3V0cHV0SWQpOwogIG91dHB1dEVsZW1lbnQuaW5uZXJIVE1MID0gJyc7CgogIGNvbnN0IHBpY2tlZFByb21pc2UgPSBuZXcgUHJvbWlzZSgocmVzb2x2ZSkgPT4gewogICAgaW5wdXRFbGVtZW50LmFkZEV2ZW50TGlzdGVuZXIoJ2NoYW5nZScsIChlKSA9PiB7CiAgICAgIHJlc29sdmUoZS50YXJnZXQuZmlsZXMpOwogICAgfSk7CiAgfSk7CgogIGNvbnN0IGNhbmNlbCA9IGRvY3VtZW50LmNyZWF0ZUVsZW1lbnQoJ2J1dHRvbicpOwogIGlucHV0RWxlbWVudC5wYXJlbnRFbGVtZW50LmFwcGVuZENoaWxkKGNhbmNlbCk7CiAgY2FuY2VsLnRleHRDb250ZW50ID0gJ0NhbmNlbCB1cGxvYWQnOwogIGNvbnN0IGNhbmNlbFByb21pc2UgPSBuZXcgUHJvbWlzZSgocmVzb2x2ZSkgPT4gewogICAgY2FuY2VsLm9uY2xpY2sgPSAoKSA9PiB7CiAgICAgIHJlc29sdmUobnVsbCk7CiAgICB9OwogIH0pOwoKICAvLyBXYWl0IGZvciB0aGUgdXNlciB0byBwaWNrIHRoZSBmaWxlcy4KICBjb25zdCBmaWxlcyA9IHlpZWxkIHsKICAgIHByb21pc2U6IFByb21pc2UucmFjZShbcGlja2VkUHJvbWlzZSwgY2FuY2VsUHJvbWlzZV0pLAogICAgcmVzcG9uc2U6IHsKICAgICAgYWN0aW9uOiAnc3RhcnRpbmcnLAogICAgfQogIH07CgogIGNhbmNlbC5yZW1vdmUoKTsKCiAgLy8gRGlzYWJsZSB0aGUgaW5wdXQgZWxlbWVudCBzaW5jZSBmdXJ0aGVyIHBpY2tzIGFyZSBub3QgYWxsb3dlZC4KICBpbnB1dEVsZW1lbnQuZGlzYWJsZWQgPSB0cnVlOwoKICBpZiAoIWZpbGVzKSB7CiAgICByZXR1cm4gewogICAgICByZXNwb25zZTogewogICAgICAgIGFjdGlvbjogJ2NvbXBsZXRlJywKICAgICAgfQogICAgfTsKICB9CgogIGZvciAoY29uc3QgZmlsZSBvZiBmaWxlcykgewogICAgY29uc3QgbGkgPSBkb2N1bWVudC5jcmVhdGVFbGVtZW50KCdsaScpOwogICAgbGkuYXBwZW5kKHNwYW4oZmlsZS5uYW1lLCB7Zm9udFdlaWdodDogJ2JvbGQnfSkpOwogICAgbGkuYXBwZW5kKHNwYW4oCiAgICAgICAgYCgke2ZpbGUudHlwZSB8fCAnbi9hJ30pIC0gJHtmaWxlLnNpemV9IGJ5dGVzLCBgICsKICAgICAgICBgbGFzdCBtb2RpZmllZDogJHsKICAgICAgICAgICAgZmlsZS5sYXN0TW9kaWZpZWREYXRlID8gZmlsZS5sYXN0TW9kaWZpZWREYXRlLnRvTG9jYWxlRGF0ZVN0cmluZygpIDoKICAgICAgICAgICAgICAgICAgICAgICAgICAgICAgICAgICAgJ24vYSd9IC0gYCkpOwogICAgY29uc3QgcGVyY2VudCA9IHNwYW4oJzAlIGRvbmUnKTsKICAgIGxpLmFwcGVuZENoaWxkKHBlcmNlbnQpOwoKICAgIG91dHB1dEVsZW1lbnQuYXBwZW5kQ2hpbGQobGkpOwoKICAgIGNvbnN0IGZpbGVEYXRhUHJvbWlzZSA9IG5ldyBQcm9taXNlKChyZXNvbHZlKSA9PiB7CiAgICAgIGNvbnN0IHJlYWRlciA9IG5ldyBGaWxlUmVhZGVyKCk7CiAgICAgIHJlYWRlci5vbmxvYWQgPSAoZSkgPT4gewogICAgICAgIHJlc29sdmUoZS50YXJnZXQucmVzdWx0KTsKICAgICAgfTsKICAgICAgcmVhZGVyLnJlYWRBc0FycmF5QnVmZmVyKGZpbGUpOwogICAgfSk7CiAgICAvLyBXYWl0IGZvciB0aGUgZGF0YSB0byBiZSByZWFkeS4KICAgIGxldCBmaWxlRGF0YSA9IHlpZWxkIHsKICAgICAgcHJvbWlzZTogZmlsZURhdGFQcm9taXNlLAogICAgICByZXNwb25zZTogewogICAgICAgIGFjdGlvbjogJ2NvbnRpbnVlJywKICAgICAgfQogICAgfTsKCiAgICAvLyBVc2UgYSBjaHVua2VkIHNlbmRpbmcgdG8gYXZvaWQgbWVzc2FnZSBzaXplIGxpbWl0cy4gU2VlIGIvNjIxMTU2NjAuCiAgICBsZXQgcG9zaXRpb24gPSAwOwogICAgZG8gewogICAgICBjb25zdCBsZW5ndGggPSBNYXRoLm1pbihmaWxlRGF0YS5ieXRlTGVuZ3RoIC0gcG9zaXRpb24sIE1BWF9QQVlMT0FEX1NJWkUpOwogICAgICBjb25zdCBjaHVuayA9IG5ldyBVaW50OEFycmF5KGZpbGVEYXRhLCBwb3NpdGlvbiwgbGVuZ3RoKTsKICAgICAgcG9zaXRpb24gKz0gbGVuZ3RoOwoKICAgICAgY29uc3QgYmFzZTY0ID0gYnRvYShTdHJpbmcuZnJvbUNoYXJDb2RlLmFwcGx5KG51bGwsIGNodW5rKSk7CiAgICAgIHlpZWxkIHsKICAgICAgICByZXNwb25zZTogewogICAgICAgICAgYWN0aW9uOiAnYXBwZW5kJywKICAgICAgICAgIGZpbGU6IGZpbGUubmFtZSwKICAgICAgICAgIGRhdGE6IGJhc2U2NCwKICAgICAgICB9LAogICAgICB9OwoKICAgICAgbGV0IHBlcmNlbnREb25lID0gZmlsZURhdGEuYnl0ZUxlbmd0aCA9PT0gMCA/CiAgICAgICAgICAxMDAgOgogICAgICAgICAgTWF0aC5yb3VuZCgocG9zaXRpb24gLyBmaWxlRGF0YS5ieXRlTGVuZ3RoKSAqIDEwMCk7CiAgICAgIHBlcmNlbnQudGV4dENvbnRlbnQgPSBgJHtwZXJjZW50RG9uZX0lIGRvbmVgOwoKICAgIH0gd2hpbGUgKHBvc2l0aW9uIDwgZmlsZURhdGEuYnl0ZUxlbmd0aCk7CiAgfQoKICAvLyBBbGwgZG9uZS4KICB5aWVsZCB7CiAgICByZXNwb25zZTogewogICAgICBhY3Rpb246ICdjb21wbGV0ZScsCiAgICB9CiAgfTsKfQoKc2NvcGUuZ29vZ2xlID0gc2NvcGUuZ29vZ2xlIHx8IHt9OwpzY29wZS5nb29nbGUuY29sYWIgPSBzY29wZS5nb29nbGUuY29sYWIgfHwge307CnNjb3BlLmdvb2dsZS5jb2xhYi5fZmlsZXMgPSB7CiAgX3VwbG9hZEZpbGVzLAogIF91cGxvYWRGaWxlc0NvbnRpbnVlLAp9Owp9KShzZWxmKTsK",
              "ok": true,
              "headers": [
                [
                  "content-type",
                  "application/javascript"
                ]
              ],
              "status": 200,
              "status_text": ""
            }
          },
          "base_uri": "https://localhost:8080/",
          "height": 73
        },
        "id": "nqWPealTzvUP",
        "outputId": "a42640f1-d483-4a26-f74a-2773bfe49125"
      },
      "id": "nqWPealTzvUP",
      "execution_count": null,
      "outputs": [
        {
          "output_type": "display_data",
          "data": {
            "text/html": [
              "\n",
              "     <input type=\"file\" id=\"files-489efca0-c17c-4920-b592-50993562dda1\" name=\"files[]\" multiple disabled\n",
              "        style=\"border:none\" />\n",
              "     <output id=\"result-489efca0-c17c-4920-b592-50993562dda1\">\n",
              "      Upload widget is only available when the cell has been executed in the\n",
              "      current browser session. Please rerun this cell to enable.\n",
              "      </output>\n",
              "      <script src=\"/nbextensions/google.colab/files.js\"></script> "
            ],
            "text/plain": [
              "<IPython.core.display.HTML object>"
            ]
          },
          "metadata": {}
        },
        {
          "output_type": "stream",
          "name": "stdout",
          "text": [
            "Saving Severe Rent Burden.csv to Severe Rent Burden.csv\n"
          ]
        }
      ]
    },
    {
      "cell_type": "code",
      "source": [
        "!curl https://raw.githubusercontent.com/MBouchaqour/homelessness_project/main/data/rent/Severe%20Rent%20Burden.csv -o severe_rent_burden.csv\n"
      ],
      "metadata": {
        "colab": {
          "base_uri": "https://localhost:8080/"
        },
        "id": "EVlphpKQ2eLG",
        "outputId": "d7d7bc0b-3f26-42e6-babc-d1ae5e003631"
      },
      "id": "EVlphpKQ2eLG",
      "execution_count": null,
      "outputs": [
        {
          "output_type": "stream",
          "name": "stdout",
          "text": [
            "  % Total    % Received % Xferd  Average Speed   Time    Time     Time  Current\n",
            "                                 Dload  Upload   Total   Spent    Left  Speed\n",
            "\r  0     0    0     0    0     0      0      0 --:--:-- --:--:-- --:--:--     0\r100 38939  100 38939    0     0  2112k      0 --:--:-- --:--:-- --:--:-- 2112k\n"
          ]
        }
      ]
    },
    {
      "cell_type": "code",
      "source": [
        "df_2=pd.read_csv(\"severe_rent_burden.csv\")\n",
        "df_2.head(5)"
      ],
      "metadata": {
        "colab": {
          "base_uri": "https://localhost:8080/",
          "height": 206
        },
        "id": "2PwQIZb93BhH",
        "outputId": "ef3f8265-f269-42a4-be2e-883760a3f16a"
      },
      "id": "2PwQIZb93BhH",
      "execution_count": null,
      "outputs": [
        {
          "output_type": "execute_result",
          "data": {
            "text/html": [
              "<div>\n",
              "<style scoped>\n",
              "    .dataframe tbody tr th:only-of-type {\n",
              "        vertical-align: middle;\n",
              "    }\n",
              "\n",
              "    .dataframe tbody tr th {\n",
              "        vertical-align: top;\n",
              "    }\n",
              "\n",
              "    .dataframe thead th {\n",
              "        text-align: right;\n",
              "    }\n",
              "</style>\n",
              "<table border=\"1\" class=\"dataframe\">\n",
              "  <thead>\n",
              "    <tr style=\"text-align: right;\">\n",
              "      <th></th>\n",
              "      <th>Location</th>\n",
              "      <th>TimeFrame</th>\n",
              "      <th>DataFormat</th>\n",
              "      <th>Data</th>\n",
              "      <th>Fips</th>\n",
              "    </tr>\n",
              "  </thead>\n",
              "  <tbody>\n",
              "    <tr>\n",
              "      <th>0</th>\n",
              "      <td>New York City</td>\n",
              "      <td>2005</td>\n",
              "      <td>Percent</td>\n",
              "      <td>0.26663</td>\n",
              "      <td>3651000</td>\n",
              "    </tr>\n",
              "    <tr>\n",
              "      <th>1</th>\n",
              "      <td>New York City</td>\n",
              "      <td>2006</td>\n",
              "      <td>Percent</td>\n",
              "      <td>0.26722</td>\n",
              "      <td>3651000</td>\n",
              "    </tr>\n",
              "    <tr>\n",
              "      <th>2</th>\n",
              "      <td>New York City</td>\n",
              "      <td>2007</td>\n",
              "      <td>Percent</td>\n",
              "      <td>0.25429</td>\n",
              "      <td>3651000</td>\n",
              "    </tr>\n",
              "    <tr>\n",
              "      <th>3</th>\n",
              "      <td>New York City</td>\n",
              "      <td>2008</td>\n",
              "      <td>Percent</td>\n",
              "      <td>0.25726</td>\n",
              "      <td>3651000</td>\n",
              "    </tr>\n",
              "    <tr>\n",
              "      <th>4</th>\n",
              "      <td>New York City</td>\n",
              "      <td>2009</td>\n",
              "      <td>Percent</td>\n",
              "      <td>0.26284</td>\n",
              "      <td>3651000</td>\n",
              "    </tr>\n",
              "  </tbody>\n",
              "</table>\n",
              "</div>"
            ],
            "text/plain": [
              "        Location  TimeFrame DataFormat     Data     Fips\n",
              "0  New York City       2005    Percent  0.26663  3651000\n",
              "1  New York City       2006    Percent  0.26722  3651000\n",
              "2  New York City       2007    Percent  0.25429  3651000\n",
              "3  New York City       2008    Percent  0.25726  3651000\n",
              "4  New York City       2009    Percent  0.26284  3651000"
            ]
          },
          "metadata": {},
          "execution_count": 20
        }
      ]
    },
    {
      "cell_type": "code",
      "source": [
        "#filtring locations\n",
        "target_location=['Manhattan','Queens','Staten Island','Bronx','Brooklyn']\n",
        "filter_by_location=df_2['Location'].isin(target_location)\n",
        "df_2=df_2[filter_by_location]\n",
        "df_2.head(5)"
      ],
      "metadata": {
        "colab": {
          "base_uri": "https://localhost:8080/",
          "height": 206
        },
        "id": "iOV9t-Wn0spP",
        "outputId": "18e0d69d-6658-41c9-e1f2-af4fdffc4ccc"
      },
      "id": "iOV9t-Wn0spP",
      "execution_count": null,
      "outputs": [
        {
          "output_type": "execute_result",
          "data": {
            "text/html": [
              "<div>\n",
              "<style scoped>\n",
              "    .dataframe tbody tr th:only-of-type {\n",
              "        vertical-align: middle;\n",
              "    }\n",
              "\n",
              "    .dataframe tbody tr th {\n",
              "        vertical-align: top;\n",
              "    }\n",
              "\n",
              "    .dataframe thead th {\n",
              "        text-align: right;\n",
              "    }\n",
              "</style>\n",
              "<table border=\"1\" class=\"dataframe\">\n",
              "  <thead>\n",
              "    <tr style=\"text-align: right;\">\n",
              "      <th></th>\n",
              "      <th>Location</th>\n",
              "      <th>TimeFrame</th>\n",
              "      <th>DataFormat</th>\n",
              "      <th>Data</th>\n",
              "      <th>Fips</th>\n",
              "    </tr>\n",
              "  </thead>\n",
              "  <tbody>\n",
              "    <tr>\n",
              "      <th>13</th>\n",
              "      <td>Manhattan</td>\n",
              "      <td>2017</td>\n",
              "      <td>Percent</td>\n",
              "      <td>0.20596</td>\n",
              "      <td>36061</td>\n",
              "    </tr>\n",
              "    <tr>\n",
              "      <th>14</th>\n",
              "      <td>Manhattan</td>\n",
              "      <td>2016</td>\n",
              "      <td>Percent</td>\n",
              "      <td>0.22133</td>\n",
              "      <td>36061</td>\n",
              "    </tr>\n",
              "    <tr>\n",
              "      <th>15</th>\n",
              "      <td>Manhattan</td>\n",
              "      <td>2015</td>\n",
              "      <td>Percent</td>\n",
              "      <td>0.21786</td>\n",
              "      <td>36061</td>\n",
              "    </tr>\n",
              "    <tr>\n",
              "      <th>16</th>\n",
              "      <td>Manhattan</td>\n",
              "      <td>2014</td>\n",
              "      <td>Percent</td>\n",
              "      <td>0.20846</td>\n",
              "      <td>36061</td>\n",
              "    </tr>\n",
              "    <tr>\n",
              "      <th>17</th>\n",
              "      <td>Manhattan</td>\n",
              "      <td>2013</td>\n",
              "      <td>Percent</td>\n",
              "      <td>0.23989</td>\n",
              "      <td>36061</td>\n",
              "    </tr>\n",
              "  </tbody>\n",
              "</table>\n",
              "</div>"
            ],
            "text/plain": [
              "     Location  TimeFrame DataFormat     Data   Fips\n",
              "13  Manhattan       2017    Percent  0.20596  36061\n",
              "14  Manhattan       2016    Percent  0.22133  36061\n",
              "15  Manhattan       2015    Percent  0.21786  36061\n",
              "16  Manhattan       2014    Percent  0.20846  36061\n",
              "17  Manhattan       2013    Percent  0.23989  36061"
            ]
          },
          "metadata": {},
          "execution_count": 21
        }
      ]
    },
    {
      "cell_type": "code",
      "source": [
        "data_info=[('Null values check: ', df_2.isnull().sum().sort_values(ascending=False)),\n",
        "           ('Duplicate data: ', df_2.duplicated().sum()), \n",
        "           ('Type: ' , df_2.dtypes) ]\n",
        "for item in data_info:\n",
        "  print(item[0], end='\\t')\n",
        "  print(item[1])"
      ],
      "metadata": {
        "colab": {
          "base_uri": "https://localhost:8080/"
        },
        "id": "lVKhD4j-0sse",
        "outputId": "04d12cb4-3652-42a2-c071-9dfdf49db8c8"
      },
      "id": "lVKhD4j-0sse",
      "execution_count": null,
      "outputs": [
        {
          "output_type": "stream",
          "name": "stdout",
          "text": [
            "Null values check: \tFips          0\n",
            "Data          0\n",
            "DataFormat    0\n",
            "TimeFrame     0\n",
            "Location      0\n",
            "dtype: int64\n",
            "Duplicate data: \t0\n",
            "Type: \tLocation       object\n",
            "TimeFrame       int64\n",
            "DataFormat     object\n",
            "Data          float64\n",
            "Fips            int64\n",
            "dtype: object\n"
          ]
        }
      ]
    },
    {
      "cell_type": "code",
      "source": [
        "dt={\n",
        "    'Location':df_2['Location'],\n",
        "    'AverageIncome%':(df_2['Data']).round(2)\n",
        "}\n",
        "data_frame=pd.DataFrame.from_dict(dt)\n",
        "pivot = data_frame.pivot_table(\n",
        "    index=['Location'], \n",
        "    values=['AverageIncome%'], \n",
        "    aggfunc='mean')\n",
        "pivot\n"
      ],
      "metadata": {
        "colab": {
          "base_uri": "https://localhost:8080/",
          "height": 237
        },
        "id": "CsBXgK8y0swV",
        "outputId": "cefa2197-c779-4e95-9e03-90f89f5fd9c0"
      },
      "id": "CsBXgK8y0swV",
      "execution_count": null,
      "outputs": [
        {
          "output_type": "execute_result",
          "data": {
            "text/html": [
              "<div>\n",
              "<style scoped>\n",
              "    .dataframe tbody tr th:only-of-type {\n",
              "        vertical-align: middle;\n",
              "    }\n",
              "\n",
              "    .dataframe tbody tr th {\n",
              "        vertical-align: top;\n",
              "    }\n",
              "\n",
              "    .dataframe thead th {\n",
              "        text-align: right;\n",
              "    }\n",
              "</style>\n",
              "<table border=\"1\" class=\"dataframe\">\n",
              "  <thead>\n",
              "    <tr style=\"text-align: right;\">\n",
              "      <th></th>\n",
              "      <th>AverageIncome%</th>\n",
              "    </tr>\n",
              "    <tr>\n",
              "      <th>Location</th>\n",
              "      <th></th>\n",
              "    </tr>\n",
              "  </thead>\n",
              "  <tbody>\n",
              "    <tr>\n",
              "      <th>Bronx</th>\n",
              "      <td>0.323333</td>\n",
              "    </tr>\n",
              "    <tr>\n",
              "      <th>Brooklyn</th>\n",
              "      <td>0.283333</td>\n",
              "    </tr>\n",
              "    <tr>\n",
              "      <th>Manhattan</th>\n",
              "      <td>0.217333</td>\n",
              "    </tr>\n",
              "    <tr>\n",
              "      <th>Queens</th>\n",
              "      <td>0.278667</td>\n",
              "    </tr>\n",
              "    <tr>\n",
              "      <th>Staten Island</th>\n",
              "      <td>0.285333</td>\n",
              "    </tr>\n",
              "  </tbody>\n",
              "</table>\n",
              "</div>"
            ],
            "text/plain": [
              "               AverageIncome%\n",
              "Location                     \n",
              "Bronx                0.323333\n",
              "Brooklyn             0.283333\n",
              "Manhattan            0.217333\n",
              "Queens               0.278667\n",
              "Staten Island        0.285333"
            ]
          },
          "metadata": {},
          "execution_count": 23
        }
      ]
    },
    {
      "cell_type": "code",
      "source": [
        "#This code is for comparing the income with how much spending on rent our data is table_income\n",
        "table_per_income=pivot.reset_index()\n",
        "table_per_income.style.format({'AverageIncome%': \"{:.2%}\"})"
      ],
      "metadata": {
        "colab": {
          "base_uri": "https://localhost:8080/",
          "height": 206
        },
        "id": "KaZC2J8RebbQ",
        "outputId": "cdbe282d-44f3-4648-ecba-dfe57ada495a"
      },
      "id": "KaZC2J8RebbQ",
      "execution_count": null,
      "outputs": [
        {
          "output_type": "execute_result",
          "data": {
            "text/html": [
              "<style  type=\"text/css\" >\n",
              "</style><table id=\"T_564f18c2_5ab4_11ec_941b_0242ac1c0002\" class=\"dataframe\"><thead>    <tr>        <th class=\"blank level0\" ></th>        <th class=\"col_heading level0 col0\" >Location</th>        <th class=\"col_heading level0 col1\" >AverageIncome%</th>    </tr></thead><tbody>\n",
              "                <tr>\n",
              "                        <th id=\"T_564f18c2_5ab4_11ec_941b_0242ac1c0002level0_row0\" class=\"row_heading level0 row0\" >0</th>\n",
              "                        <td id=\"T_564f18c2_5ab4_11ec_941b_0242ac1c0002row0_col0\" class=\"data row0 col0\" >Bronx</td>\n",
              "                        <td id=\"T_564f18c2_5ab4_11ec_941b_0242ac1c0002row0_col1\" class=\"data row0 col1\" >32.33%</td>\n",
              "            </tr>\n",
              "            <tr>\n",
              "                        <th id=\"T_564f18c2_5ab4_11ec_941b_0242ac1c0002level0_row1\" class=\"row_heading level0 row1\" >1</th>\n",
              "                        <td id=\"T_564f18c2_5ab4_11ec_941b_0242ac1c0002row1_col0\" class=\"data row1 col0\" >Brooklyn</td>\n",
              "                        <td id=\"T_564f18c2_5ab4_11ec_941b_0242ac1c0002row1_col1\" class=\"data row1 col1\" >28.33%</td>\n",
              "            </tr>\n",
              "            <tr>\n",
              "                        <th id=\"T_564f18c2_5ab4_11ec_941b_0242ac1c0002level0_row2\" class=\"row_heading level0 row2\" >2</th>\n",
              "                        <td id=\"T_564f18c2_5ab4_11ec_941b_0242ac1c0002row2_col0\" class=\"data row2 col0\" >Manhattan</td>\n",
              "                        <td id=\"T_564f18c2_5ab4_11ec_941b_0242ac1c0002row2_col1\" class=\"data row2 col1\" >21.73%</td>\n",
              "            </tr>\n",
              "            <tr>\n",
              "                        <th id=\"T_564f18c2_5ab4_11ec_941b_0242ac1c0002level0_row3\" class=\"row_heading level0 row3\" >3</th>\n",
              "                        <td id=\"T_564f18c2_5ab4_11ec_941b_0242ac1c0002row3_col0\" class=\"data row3 col0\" >Queens</td>\n",
              "                        <td id=\"T_564f18c2_5ab4_11ec_941b_0242ac1c0002row3_col1\" class=\"data row3 col1\" >27.87%</td>\n",
              "            </tr>\n",
              "            <tr>\n",
              "                        <th id=\"T_564f18c2_5ab4_11ec_941b_0242ac1c0002level0_row4\" class=\"row_heading level0 row4\" >4</th>\n",
              "                        <td id=\"T_564f18c2_5ab4_11ec_941b_0242ac1c0002row4_col0\" class=\"data row4 col0\" >Staten Island</td>\n",
              "                        <td id=\"T_564f18c2_5ab4_11ec_941b_0242ac1c0002row4_col1\" class=\"data row4 col1\" >28.53%</td>\n",
              "            </tr>\n",
              "    </tbody></table>"
            ],
            "text/plain": [
              "<pandas.io.formats.style.Styler at 0x7febb26d3f10>"
            ]
          },
          "metadata": {},
          "execution_count": 24
        }
      ]
    },
    {
      "cell_type": "markdown",
      "source": [
        "* Hosehold who lives In boroughs except Manhattan are paying almsot 28% from their income to rent. An example of this will be as the followin: \n",
        "If an individual has income of $25,000 a year, and lives in Brookly, they will be paying at least $7000 just for rent, the remaining will be $18,000. However, most of people who are more likely homeless, their income is either 0 or less than $1000 a year. The next data will further investigate this point. "
      ],
      "metadata": {
        "id": "cBDRMLGM6b80"
      },
      "id": "cBDRMLGM6b80"
    },
    {
      "cell_type": "markdown",
      "source": [
        "# Median Income data"
      ],
      "metadata": {
        "id": "a7HDsXnrBDQr"
      },
      "id": "a7HDsXnrBDQr"
    },
    {
      "cell_type": "code",
      "source": [
        "#using googl colab use this code:\n",
        "# from google.colab import files\n",
        "# uploaded=files.upload()\n",
        "# # Median Income\n",
        "# path1='/content/Median Incomes.csv'\n",
        "# #Creating dataframe\n",
        "# df_3=pd.read_csv(path1, skiprows=5)\n",
        "# df_3.head(5)"
      ],
      "metadata": {
        "colab": {
          "resources": {
            "http://localhost:8080/nbextensions/google.colab/files.js": {
              "data": "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",
              "ok": true,
              "headers": [
                [
                  "content-type",
                  "application/javascript"
                ]
              ],
              "status": 200,
              "status_text": ""
            }
          },
          "base_uri": "https://localhost:8080/",
          "height": 73
        },
        "id": "Kz5ow8uh0s2Y",
        "outputId": "a046156f-4414-499d-e6ce-4a4ac77bef64"
      },
      "id": "Kz5ow8uh0s2Y",
      "execution_count": null,
      "outputs": [
        {
          "output_type": "display_data",
          "data": {
            "text/html": [
              "\n",
              "     <input type=\"file\" id=\"files-c7913e78-74e8-4528-bd01-a7cd49baebd7\" name=\"files[]\" multiple disabled\n",
              "        style=\"border:none\" />\n",
              "     <output id=\"result-c7913e78-74e8-4528-bd01-a7cd49baebd7\">\n",
              "      Upload widget is only available when the cell has been executed in the\n",
              "      current browser session. Please rerun this cell to enable.\n",
              "      </output>\n",
              "      <script src=\"/nbextensions/google.colab/files.js\"></script> "
            ],
            "text/plain": [
              "<IPython.core.display.HTML object>"
            ]
          },
          "metadata": {}
        },
        {
          "output_type": "stream",
          "name": "stdout",
          "text": [
            "Saving Median Incomes.csv to Median Incomes.csv\n"
          ]
        }
      ]
    },
    {
      "cell_type": "code",
      "source": [
        "!curl https://raw.githubusercontent.com/MBouchaqour/homelessness_project/main/data/income/Median%20Incomes.csv -o median_income.csv"
      ],
      "metadata": {
        "colab": {
          "base_uri": "https://localhost:8080/"
        },
        "id": "OJY0YyhL3UGr",
        "outputId": "b9cdb729-f2a3-4346-9676-867e92a41fc4"
      },
      "id": "OJY0YyhL3UGr",
      "execution_count": null,
      "outputs": [
        {
          "output_type": "stream",
          "name": "stdout",
          "text": [
            "  % Total    % Received % Xferd  Average Speed   Time    Time     Time  Current\n",
            "                                 Dload  Upload   Total   Spent    Left  Speed\n",
            "\r  0     0    0     0    0     0      0      0 --:--:-- --:--:-- --:--:--     0\r100  367k  100  367k    0     0  2960k      0 --:--:-- --:--:-- --:--:-- 2960k\n"
          ]
        }
      ]
    },
    {
      "cell_type": "code",
      "source": [
        "df_3=pd.read_csv(\"median_income.csv\")\n",
        "df_3.head(5)"
      ],
      "metadata": {
        "colab": {
          "base_uri": "https://localhost:8080/",
          "height": 206
        },
        "id": "P3d6sHTS0s5Q",
        "outputId": "17b1c195-7f22-42ae-9014-3f1bac8f42b5"
      },
      "id": "P3d6sHTS0s5Q",
      "execution_count": null,
      "outputs": [
        {
          "output_type": "execute_result",
          "data": {
            "text/html": [
              "<div>\n",
              "<style scoped>\n",
              "    .dataframe tbody tr th:only-of-type {\n",
              "        vertical-align: middle;\n",
              "    }\n",
              "\n",
              "    .dataframe tbody tr th {\n",
              "        vertical-align: top;\n",
              "    }\n",
              "\n",
              "    .dataframe thead th {\n",
              "        text-align: right;\n",
              "    }\n",
              "</style>\n",
              "<table border=\"1\" class=\"dataframe\">\n",
              "  <thead>\n",
              "    <tr style=\"text-align: right;\">\n",
              "      <th></th>\n",
              "      <th>Location</th>\n",
              "      <th>Household Type</th>\n",
              "      <th>TimeFrame</th>\n",
              "      <th>DataFormat</th>\n",
              "      <th>Data</th>\n",
              "      <th>Fips</th>\n",
              "    </tr>\n",
              "  </thead>\n",
              "  <tbody>\n",
              "    <tr>\n",
              "      <th>0</th>\n",
              "      <td>Astoria</td>\n",
              "      <td>Families without Children</td>\n",
              "      <td>2019</td>\n",
              "      <td>Dollars</td>\n",
              "      <td>92755</td>\n",
              "      <td>401</td>\n",
              "    </tr>\n",
              "    <tr>\n",
              "      <th>1</th>\n",
              "      <td>Astoria</td>\n",
              "      <td>Families with Children</td>\n",
              "      <td>2019</td>\n",
              "      <td>Dollars</td>\n",
              "      <td>75972</td>\n",
              "      <td>401</td>\n",
              "    </tr>\n",
              "    <tr>\n",
              "      <th>2</th>\n",
              "      <td>Astoria</td>\n",
              "      <td>Families</td>\n",
              "      <td>2019</td>\n",
              "      <td>Dollars</td>\n",
              "      <td>88662</td>\n",
              "      <td>401</td>\n",
              "    </tr>\n",
              "    <tr>\n",
              "      <th>3</th>\n",
              "      <td>Astoria</td>\n",
              "      <td>All Households</td>\n",
              "      <td>2019</td>\n",
              "      <td>Dollars</td>\n",
              "      <td>79180</td>\n",
              "      <td>401</td>\n",
              "    </tr>\n",
              "    <tr>\n",
              "      <th>4</th>\n",
              "      <td>Astoria</td>\n",
              "      <td>Families without Children</td>\n",
              "      <td>2018</td>\n",
              "      <td>Dollars</td>\n",
              "      <td>79374.50784</td>\n",
              "      <td>401</td>\n",
              "    </tr>\n",
              "  </tbody>\n",
              "</table>\n",
              "</div>"
            ],
            "text/plain": [
              "  Location             Household Type  TimeFrame DataFormat         Data  Fips\n",
              "0  Astoria  Families without Children       2019    Dollars        92755   401\n",
              "1  Astoria     Families with Children       2019    Dollars        75972   401\n",
              "2  Astoria                   Families       2019    Dollars        88662   401\n",
              "3  Astoria             All Households       2019    Dollars        79180   401\n",
              "4  Astoria  Families without Children       2018    Dollars  79374.50784   401"
            ]
          },
          "metadata": {},
          "execution_count": 28
        }
      ]
    },
    {
      "cell_type": "code",
      "source": [
        "#filtring locations\n",
        "target_location=['Manhattan','Queens','Staten Island','Bronx','Brooklyn']\n",
        "filter_by_location=df_3['Location'].isin(target_location)\n",
        "df_3=df_3[filter_by_location]\n",
        "df_3.tail(5)"
      ],
      "metadata": {
        "colab": {
          "base_uri": "https://localhost:8080/",
          "height": 206
        },
        "id": "gNSADPl_BmuF",
        "outputId": "8922b7cb-ca4e-425e-de00-fe8c8f43f1f8"
      },
      "id": "gNSADPl_BmuF",
      "execution_count": null,
      "outputs": [
        {
          "output_type": "execute_result",
          "data": {
            "text/html": [
              "<div>\n",
              "<style scoped>\n",
              "    .dataframe tbody tr th:only-of-type {\n",
              "        vertical-align: middle;\n",
              "    }\n",
              "\n",
              "    .dataframe tbody tr th {\n",
              "        vertical-align: top;\n",
              "    }\n",
              "\n",
              "    .dataframe thead th {\n",
              "        text-align: right;\n",
              "    }\n",
              "</style>\n",
              "<table border=\"1\" class=\"dataframe\">\n",
              "  <thead>\n",
              "    <tr style=\"text-align: right;\">\n",
              "      <th></th>\n",
              "      <th>Location</th>\n",
              "      <th>Household Type</th>\n",
              "      <th>TimeFrame</th>\n",
              "      <th>DataFormat</th>\n",
              "      <th>Data</th>\n",
              "      <th>Fips</th>\n",
              "    </tr>\n",
              "  </thead>\n",
              "  <tbody>\n",
              "    <tr>\n",
              "      <th>3115</th>\n",
              "      <td>Staten Island</td>\n",
              "      <td>Families with Children</td>\n",
              "      <td>2006</td>\n",
              "      <td>Dollars</td>\n",
              "      <td>98525.5503</td>\n",
              "      <td>36085</td>\n",
              "    </tr>\n",
              "    <tr>\n",
              "      <th>3116</th>\n",
              "      <td>Staten Island</td>\n",
              "      <td>Families without Children</td>\n",
              "      <td>2005</td>\n",
              "      <td>Dollars</td>\n",
              "      <td>93105.33984</td>\n",
              "      <td>36085</td>\n",
              "    </tr>\n",
              "    <tr>\n",
              "      <th>3117</th>\n",
              "      <td>Staten Island</td>\n",
              "      <td>Families with Children</td>\n",
              "      <td>2005</td>\n",
              "      <td>Dollars</td>\n",
              "      <td>94044.94946</td>\n",
              "      <td>36085</td>\n",
              "    </tr>\n",
              "    <tr>\n",
              "      <th>3118</th>\n",
              "      <td>Staten Island</td>\n",
              "      <td>Families</td>\n",
              "      <td>2005</td>\n",
              "      <td>Dollars</td>\n",
              "      <td>93644.69676</td>\n",
              "      <td>36085</td>\n",
              "    </tr>\n",
              "    <tr>\n",
              "      <th>3119</th>\n",
              "      <td>Staten Island</td>\n",
              "      <td>All Households</td>\n",
              "      <td>2005</td>\n",
              "      <td>Dollars</td>\n",
              "      <td>82705.33113</td>\n",
              "      <td>36085</td>\n",
              "    </tr>\n",
              "  </tbody>\n",
              "</table>\n",
              "</div>"
            ],
            "text/plain": [
              "           Location             Household Type  ...         Data   Fips\n",
              "3115  Staten Island     Families with Children  ...   98525.5503  36085\n",
              "3116  Staten Island  Families without Children  ...  93105.33984  36085\n",
              "3117  Staten Island     Families with Children  ...  94044.94946  36085\n",
              "3118  Staten Island                   Families  ...  93644.69676  36085\n",
              "3119  Staten Island             All Households  ...  82705.33113  36085\n",
              "\n",
              "[5 rows x 6 columns]"
            ]
          },
          "metadata": {},
          "execution_count": 29
        }
      ]
    },
    {
      "cell_type": "code",
      "source": [
        "print('Null values: ', df_3.isnull().sum().sort_values(ascending=False))\n",
        "print()\n",
        "print(\"Duplicate: \", df_3.duplicated().sum())\n",
        "print()\n",
        "print('Data type: ', df_3.dtypes)"
      ],
      "metadata": {
        "colab": {
          "base_uri": "https://localhost:8080/"
        },
        "id": "qWobJUxIEeam",
        "outputId": "4fc90a25-84a0-46af-e2be-c7f3311af3c2"
      },
      "id": "qWobJUxIEeam",
      "execution_count": null,
      "outputs": [
        {
          "output_type": "stream",
          "name": "stdout",
          "text": [
            "Null values:  Fips              0\n",
            "Data              0\n",
            "DataFormat        0\n",
            "TimeFrame         0\n",
            "Household Type    0\n",
            "Location          0\n",
            "dtype: int64\n",
            "\n",
            "Duplicate:  0\n",
            "\n",
            "Data type:  Location          object\n",
            "Household Type    object\n",
            "TimeFrame          int64\n",
            "DataFormat        object\n",
            "Data              object\n",
            "Fips               int64\n",
            "dtype: object\n"
          ]
        }
      ]
    },
    {
      "cell_type": "code",
      "source": [
        "df_3['Data'] = df_3['Data'] .astype(float)\n",
        "print('Data type: ', df_3.dtypes)"
      ],
      "metadata": {
        "colab": {
          "base_uri": "https://localhost:8080/"
        },
        "id": "XxQoKBZLEmWQ",
        "outputId": "91bded80-4437-471c-ffd9-9beab39dba5a"
      },
      "id": "XxQoKBZLEmWQ",
      "execution_count": null,
      "outputs": [
        {
          "output_type": "stream",
          "name": "stdout",
          "text": [
            "Data type:  Location           object\n",
            "Household Type     object\n",
            "TimeFrame           int64\n",
            "DataFormat         object\n",
            "Data              float64\n",
            "Fips                int64\n",
            "dtype: object\n"
          ]
        }
      ]
    },
    {
      "cell_type": "code",
      "source": [
        "pivot = df_3.pivot_table(\n",
        "    index=['Location'], \n",
        "    columns=['Household Type'],\n",
        "    values=['Data'], \n",
        "    aggfunc='median')\n",
        "pivot"
      ],
      "metadata": {
        "colab": {
          "base_uri": "https://localhost:8080/",
          "height": 269
        },
        "id": "xudNM4YrBmx_",
        "outputId": "d91d0273-e57d-4505-8f54-dcfadafb9268"
      },
      "id": "xudNM4YrBmx_",
      "execution_count": null,
      "outputs": [
        {
          "output_type": "execute_result",
          "data": {
            "text/html": [
              "<div>\n",
              "<style scoped>\n",
              "    .dataframe tbody tr th:only-of-type {\n",
              "        vertical-align: middle;\n",
              "    }\n",
              "\n",
              "    .dataframe tbody tr th {\n",
              "        vertical-align: top;\n",
              "    }\n",
              "\n",
              "    .dataframe thead tr th {\n",
              "        text-align: left;\n",
              "    }\n",
              "\n",
              "    .dataframe thead tr:last-of-type th {\n",
              "        text-align: right;\n",
              "    }\n",
              "</style>\n",
              "<table border=\"1\" class=\"dataframe\">\n",
              "  <thead>\n",
              "    <tr>\n",
              "      <th></th>\n",
              "      <th colspan=\"4\" halign=\"left\">Data</th>\n",
              "    </tr>\n",
              "    <tr>\n",
              "      <th>Household Type</th>\n",
              "      <th>All Households</th>\n",
              "      <th>Families</th>\n",
              "      <th>Families with Children</th>\n",
              "      <th>Families without Children</th>\n",
              "    </tr>\n",
              "    <tr>\n",
              "      <th>Location</th>\n",
              "      <th></th>\n",
              "      <th></th>\n",
              "      <th></th>\n",
              "      <th></th>\n",
              "    </tr>\n",
              "  </thead>\n",
              "  <tbody>\n",
              "    <tr>\n",
              "      <th>Bronx</th>\n",
              "      <td>39002.68837</td>\n",
              "      <td>44671.15165</td>\n",
              "      <td>36887.61357</td>\n",
              "      <td>54712.39659</td>\n",
              "    </tr>\n",
              "    <tr>\n",
              "      <th>Brooklyn</th>\n",
              "      <td>51633.94562</td>\n",
              "      <td>58567.59248</td>\n",
              "      <td>51379.15766</td>\n",
              "      <td>64680.60293</td>\n",
              "    </tr>\n",
              "    <tr>\n",
              "      <th>Manhattan</th>\n",
              "      <td>81553.41788</td>\n",
              "      <td>97007.28613</td>\n",
              "      <td>97165.92003</td>\n",
              "      <td>96348.82336</td>\n",
              "    </tr>\n",
              "    <tr>\n",
              "      <th>Queens</th>\n",
              "      <td>65201.72829</td>\n",
              "      <td>72876.01114</td>\n",
              "      <td>66390.57124</td>\n",
              "      <td>78082.73345</td>\n",
              "    </tr>\n",
              "    <tr>\n",
              "      <th>Staten Island</th>\n",
              "      <td>82601.59695</td>\n",
              "      <td>96834.76592</td>\n",
              "      <td>94760.14820</td>\n",
              "      <td>99273.13690</td>\n",
              "    </tr>\n",
              "  </tbody>\n",
              "</table>\n",
              "</div>"
            ],
            "text/plain": [
              "                         Data  ...                          \n",
              "Household Type All Households  ... Families without Children\n",
              "Location                       ...                          \n",
              "Bronx             39002.68837  ...               54712.39659\n",
              "Brooklyn          51633.94562  ...               64680.60293\n",
              "Manhattan         81553.41788  ...               96348.82336\n",
              "Queens            65201.72829  ...               78082.73345\n",
              "Staten Island     82601.59695  ...               99273.13690\n",
              "\n",
              "[5 rows x 4 columns]"
            ]
          },
          "metadata": {},
          "execution_count": 32
        }
      ]
    },
    {
      "cell_type": "code",
      "source": [
        "#This code is for comparing the income with how much spending on rent our data is table_income\n",
        "table_income=pivot.reset_index()\n",
        "Picked_cols=[('Location',                          ''),(    'Data',    'Families with Children')]\n",
        "table_income=table_income[Picked_cols]\n",
        "new_cols=['Location','Families_With_Children']\n",
        "table_income.columns=new_cols\n",
        "table_income"
      ],
      "metadata": {
        "colab": {
          "base_uri": "https://localhost:8080/",
          "height": 206
        },
        "id": "sCddaC3wcCaU",
        "outputId": "1a2233a8-7ab5-4a29-a4ae-a2ae7138f2de"
      },
      "id": "sCddaC3wcCaU",
      "execution_count": null,
      "outputs": [
        {
          "output_type": "execute_result",
          "data": {
            "text/html": [
              "<div>\n",
              "<style scoped>\n",
              "    .dataframe tbody tr th:only-of-type {\n",
              "        vertical-align: middle;\n",
              "    }\n",
              "\n",
              "    .dataframe tbody tr th {\n",
              "        vertical-align: top;\n",
              "    }\n",
              "\n",
              "    .dataframe thead th {\n",
              "        text-align: right;\n",
              "    }\n",
              "</style>\n",
              "<table border=\"1\" class=\"dataframe\">\n",
              "  <thead>\n",
              "    <tr style=\"text-align: right;\">\n",
              "      <th></th>\n",
              "      <th>Location</th>\n",
              "      <th>Families_With_Children</th>\n",
              "    </tr>\n",
              "  </thead>\n",
              "  <tbody>\n",
              "    <tr>\n",
              "      <th>0</th>\n",
              "      <td>Bronx</td>\n",
              "      <td>36887.61357</td>\n",
              "    </tr>\n",
              "    <tr>\n",
              "      <th>1</th>\n",
              "      <td>Brooklyn</td>\n",
              "      <td>51379.15766</td>\n",
              "    </tr>\n",
              "    <tr>\n",
              "      <th>2</th>\n",
              "      <td>Manhattan</td>\n",
              "      <td>97165.92003</td>\n",
              "    </tr>\n",
              "    <tr>\n",
              "      <th>3</th>\n",
              "      <td>Queens</td>\n",
              "      <td>66390.57124</td>\n",
              "    </tr>\n",
              "    <tr>\n",
              "      <th>4</th>\n",
              "      <td>Staten Island</td>\n",
              "      <td>94760.14820</td>\n",
              "    </tr>\n",
              "  </tbody>\n",
              "</table>\n",
              "</div>"
            ],
            "text/plain": [
              "        Location  Families_With_Children\n",
              "0          Bronx             36887.61357\n",
              "1       Brooklyn             51379.15766\n",
              "2      Manhattan             97165.92003\n",
              "3         Queens             66390.57124\n",
              "4  Staten Island             94760.14820"
            ]
          },
          "metadata": {},
          "execution_count": 33
        }
      ]
    },
    {
      "cell_type": "code",
      "source": [
        "pivot.plot()\n",
        "plt.show()"
      ],
      "metadata": {
        "colab": {
          "base_uri": "https://localhost:8080/",
          "height": 285
        },
        "id": "bC4XxB75Bm3M",
        "outputId": "dcdf7471-18e4-4626-d7b6-4d0716804395"
      },
      "id": "bC4XxB75Bm3M",
      "execution_count": null,
      "outputs": [
        {
          "output_type": "display_data",
          "data": {
            "image/png": "[encoded data removed]",
            "text/plain": [
              "<Figure size 432x288 with 1 Axes>"
            ]
          },
          "metadata": {
            "needs_background": "light"
          }
        }
      ]
    },
    {
      "cell_type": "markdown",
      "source": [
        "* We should consider that the lower income occurs in Bronx, with Families with Children in roughly $37,000. In the next dataset we will investigate children in the shelter."
      ],
      "metadata": {
        "id": "-3RnZ81XF1Nu"
      },
      "id": "-3RnZ81XF1Nu"
    },
    {
      "cell_type": "code",
      "source": [
        "# Investigating income based on year\n",
        "def get_location(loc, data=df_3):\n",
        "  cond=df_3['Location']==loc\n",
        "  gp=df_3[cond]\n",
        "  return gp"
      ],
      "metadata": {
        "id": "fpo_vl96mlP4"
      },
      "id": "fpo_vl96mlP4",
      "execution_count": null,
      "outputs": []
    },
    {
      "cell_type": "code",
      "source": [
        "#choose the location\n",
        "data=get_location('Bronx')\n",
        "\n",
        "#See the pattern\n",
        "plt.scatter(data['TimeFrame'],data['Data'])\n",
        "plt.xlabel('Bronx')\n",
        "plt.ylabel('Median Income')\n",
        "plt.show()"
      ],
      "metadata": {
        "colab": {
          "base_uri": "https://localhost:8080/",
          "height": 285
        },
        "id": "nzgX1AklmqVx",
        "outputId": "09eed6a3-abf1-40b8-f549-081e6097dcd2"
      },
      "id": "nzgX1AklmqVx",
      "execution_count": null,
      "outputs": [
        {
          "output_type": "display_data",
          "data": {
            "image/png": "[encoded data removed]",
            "text/plain": [
              "<Figure size 432x288 with 1 Axes>"
            ]
          },
          "metadata": {
            "needs_background": "light"
          }
        }
      ]
    },
    {
      "cell_type": "markdown",
      "source": [
        "* Some more investigation regarding the income and how much goes for rent"
      ],
      "metadata": {
        "id": "e3l-uTqighTC"
      },
      "id": "e3l-uTqighTC"
    },
    {
      "cell_type": "code",
      "source": [
        "#Mergin the two dataframes table_income and table_per_income\n",
        "merged_income_percentage = pd.merge(table_income, table_per_income)\n",
        "merged_income_percentage['How much goes for rent']=merged_income_percentage['Families_With_Children'] * merged_income_percentage['AverageIncome%']\n",
        "merged_income_percentage"
      ],
      "metadata": {
        "colab": {
          "base_uri": "https://localhost:8080/",
          "height": 206
        },
        "id": "f09kfokzggpD",
        "outputId": "6582ef5d-4441-427b-bb7f-001c1dca967e"
      },
      "id": "f09kfokzggpD",
      "execution_count": null,
      "outputs": [
        {
          "output_type": "execute_result",
          "data": {
            "text/html": [
              "<div>\n",
              "<style scoped>\n",
              "    .dataframe tbody tr th:only-of-type {\n",
              "        vertical-align: middle;\n",
              "    }\n",
              "\n",
              "    .dataframe tbody tr th {\n",
              "        vertical-align: top;\n",
              "    }\n",
              "\n",
              "    .dataframe thead th {\n",
              "        text-align: right;\n",
              "    }\n",
              "</style>\n",
              "<table border=\"1\" class=\"dataframe\">\n",
              "  <thead>\n",
              "    <tr style=\"text-align: right;\">\n",
              "      <th></th>\n",
              "      <th>Location</th>\n",
              "      <th>Families_With_Children</th>\n",
              "      <th>AverageIncome%</th>\n",
              "      <th>How much goes for rent</th>\n",
              "    </tr>\n",
              "  </thead>\n",
              "  <tbody>\n",
              "    <tr>\n",
              "      <th>0</th>\n",
              "      <td>Bronx</td>\n",
              "      <td>36887.61357</td>\n",
              "      <td>0.323333</td>\n",
              "      <td>11926.995054</td>\n",
              "    </tr>\n",
              "    <tr>\n",
              "      <th>1</th>\n",
              "      <td>Brooklyn</td>\n",
              "      <td>51379.15766</td>\n",
              "      <td>0.283333</td>\n",
              "      <td>14557.428004</td>\n",
              "    </tr>\n",
              "    <tr>\n",
              "      <th>2</th>\n",
              "      <td>Manhattan</td>\n",
              "      <td>97165.92003</td>\n",
              "      <td>0.217333</td>\n",
              "      <td>21117.393287</td>\n",
              "    </tr>\n",
              "    <tr>\n",
              "      <th>3</th>\n",
              "      <td>Queens</td>\n",
              "      <td>66390.57124</td>\n",
              "      <td>0.278667</td>\n",
              "      <td>18500.839186</td>\n",
              "    </tr>\n",
              "    <tr>\n",
              "      <th>4</th>\n",
              "      <td>Staten Island</td>\n",
              "      <td>94760.14820</td>\n",
              "      <td>0.285333</td>\n",
              "      <td>27038.228953</td>\n",
              "    </tr>\n",
              "  </tbody>\n",
              "</table>\n",
              "</div>"
            ],
            "text/plain": [
              "        Location  ...  How much goes for rent\n",
              "0          Bronx  ...            11926.995054\n",
              "1       Brooklyn  ...            14557.428004\n",
              "2      Manhattan  ...            21117.393287\n",
              "3         Queens  ...            18500.839186\n",
              "4  Staten Island  ...            27038.228953\n",
              "\n",
              "[5 rows x 4 columns]"
            ]
          },
          "metadata": {},
          "execution_count": 37
        }
      ]
    },
    {
      "cell_type": "code",
      "source": [
        "cond=merged_income_percentage['Location']=='Bronx'\n",
        "data=merged_income_percentage[cond]\n",
        "# barWidth = 0.25\n",
        "# fig = plt.subplots(figsize =(12, 8))\n",
        "data.pivot(index='Location', columns=['Families_With_Children','How much goes for rent'], values=['Families_With_Children','How much goes for rent']).plot(kind='bar')\n",
        "plt.title('The difference in median icome Vs Rent')\n",
        "plt.show()"
      ],
      "metadata": {
        "colab": {
          "base_uri": "https://localhost:8080/",
          "height": 323
        },
        "id": "kBNNa784HxTM",
        "outputId": "954541b2-94a8-421d-8320-0b825ff37a6a"
      },
      "id": "kBNNa784HxTM",
      "execution_count": null,
      "outputs": [
        {
          "output_type": "display_data",
          "data": {
            "image/png": "[encoded data removed]",
            "text/plain": [
              "<Figure size 432x288 with 1 Axes>"
            ]
          },
          "metadata": {
            "needs_background": "light"
          }
        }
      ]
    },
    {
      "cell_type": "markdown",
      "source": [
        "## Children in Shelter"
      ],
      "metadata": {
        "id": "CPausg7D-3MS"
      },
      "id": "CPausg7D-3MS"
    },
    {
      "cell_type": "code",
      "metadata": {
        "id": "2e2f803a",
        "colab": {
          "base_uri": "https://localhost:8080/",
          "height": 330
        },
        "outputId": "2a4c6e93-784b-4cc3-f36d-96c21c49cc6e"
      },
      "source": [
        "DHS_Daily_Report = pd.read_csv('https://raw.githubusercontent.com/MBouchaqour/homelessness_project/main/data/DHS_Daily_Report_cleaned.csv')\n",
        "DHS_Daily_Report.head(5)"
      ],
      "id": "2e2f803a",
      "execution_count": 3,
      "outputs": [
        {
          "output_type": "execute_result",
          "data": {
            "text/html": [
              "<div>\n",
              "<style scoped>\n",
              "    .dataframe tbody tr th:only-of-type {\n",
              "        vertical-align: middle;\n",
              "    }\n",
              "\n",
              "    .dataframe tbody tr th {\n",
              "        vertical-align: top;\n",
              "    }\n",
              "\n",
              "    .dataframe thead th {\n",
              "        text-align: right;\n",
              "    }\n",
              "</style>\n",
              "<table border=\"1\" class=\"dataframe\">\n",
              "  <thead>\n",
              "    <tr style=\"text-align: right;\">\n",
              "      <th></th>\n",
              "      <th>Date of Census</th>\n",
              "      <th>Total Adults in Shelter</th>\n",
              "      <th>Total Children in Shelter</th>\n",
              "      <th>Total Individuals in Shelter</th>\n",
              "      <th>Single Adult Men in Shelter</th>\n",
              "      <th>Single Adult Women in Shelter</th>\n",
              "      <th>Total Single Adults in Shelter</th>\n",
              "      <th>Families with Children in Shelter</th>\n",
              "      <th>Adults in Families with Children in Shelter</th>\n",
              "      <th>Children in Families with Children in Shelter</th>\n",
              "      <th>Total Individuals in Families with Children in Shelter</th>\n",
              "      <th>Adult Families in Shelter</th>\n",
              "      <th>Individuals in Adult Families in Shelter</th>\n",
              "    </tr>\n",
              "  </thead>\n",
              "  <tbody>\n",
              "    <tr>\n",
              "      <th>0</th>\n",
              "      <td>9/28/2021</td>\n",
              "      <td>30803.0</td>\n",
              "      <td>14741.0</td>\n",
              "      <td>45544.0</td>\n",
              "      <td>12312.0</td>\n",
              "      <td>4080.0</td>\n",
              "      <td>16392.0</td>\n",
              "      <td>8478.0</td>\n",
              "      <td>11126.0</td>\n",
              "      <td>14741.0</td>\n",
              "      <td>25867.0</td>\n",
              "      <td>1569</td>\n",
              "      <td>3285.0</td>\n",
              "    </tr>\n",
              "    <tr>\n",
              "      <th>1</th>\n",
              "      <td>9/27/2021</td>\n",
              "      <td>30827.0</td>\n",
              "      <td>14789.0</td>\n",
              "      <td>45616.0</td>\n",
              "      <td>12272.0</td>\n",
              "      <td>4076.0</td>\n",
              "      <td>16348.0</td>\n",
              "      <td>8495.0</td>\n",
              "      <td>11161.0</td>\n",
              "      <td>14789.0</td>\n",
              "      <td>25950.0</td>\n",
              "      <td>1585</td>\n",
              "      <td>3318.0</td>\n",
              "    </tr>\n",
              "    <tr>\n",
              "      <th>2</th>\n",
              "      <td>9/26/2021</td>\n",
              "      <td>30764.0</td>\n",
              "      <td>14750.0</td>\n",
              "      <td>45514.0</td>\n",
              "      <td>12261.0</td>\n",
              "      <td>4079.0</td>\n",
              "      <td>16340.0</td>\n",
              "      <td>8471.0</td>\n",
              "      <td>11125.0</td>\n",
              "      <td>14750.0</td>\n",
              "      <td>25875.0</td>\n",
              "      <td>1575</td>\n",
              "      <td>3299.0</td>\n",
              "    </tr>\n",
              "    <tr>\n",
              "      <th>3</th>\n",
              "      <td>9/25/2021</td>\n",
              "      <td>30683.0</td>\n",
              "      <td>14760.0</td>\n",
              "      <td>45443.0</td>\n",
              "      <td>12180.0</td>\n",
              "      <td>4082.0</td>\n",
              "      <td>16262.0</td>\n",
              "      <td>8466.0</td>\n",
              "      <td>11125.0</td>\n",
              "      <td>14760.0</td>\n",
              "      <td>25885.0</td>\n",
              "      <td>1573</td>\n",
              "      <td>3296.0</td>\n",
              "    </tr>\n",
              "    <tr>\n",
              "      <th>4</th>\n",
              "      <td>9/24/2021</td>\n",
              "      <td>30599.0</td>\n",
              "      <td>14721.0</td>\n",
              "      <td>45320.0</td>\n",
              "      <td>12161.0</td>\n",
              "      <td>4073.0</td>\n",
              "      <td>16234.0</td>\n",
              "      <td>8436.0</td>\n",
              "      <td>11082.0</td>\n",
              "      <td>14721.0</td>\n",
              "      <td>25803.0</td>\n",
              "      <td>1568</td>\n",
              "      <td>3283.0</td>\n",
              "    </tr>\n",
              "  </tbody>\n",
              "</table>\n",
              "</div>"
            ],
            "text/plain": [
              "  Date of Census  ...  Individuals in Adult Families in Shelter\n",
              "0      9/28/2021  ...                                    3285.0\n",
              "1      9/27/2021  ...                                    3318.0\n",
              "2      9/26/2021  ...                                    3299.0\n",
              "3      9/25/2021  ...                                    3296.0\n",
              "4      9/24/2021  ...                                    3283.0\n",
              "\n",
              "[5 rows x 13 columns]"
            ]
          },
          "metadata": {},
          "execution_count": 3
        }
      ]
    },
    {
      "cell_type": "code",
      "metadata": {
        "id": "ff0606f4",
        "colab": {
          "base_uri": "https://localhost:8080/"
        },
        "outputId": "b2b9a9c9-beb7-4e4d-bfa6-5df53d5dd2ee"
      },
      "source": [
        "print(\"data shape: \", DHS_Daily_Report.shape)\n",
        "print(\"Date type: \", DHS_Daily_Report.dtypes)"
      ],
      "id": "ff0606f4",
      "execution_count": 4,
      "outputs": [
        {
          "output_type": "stream",
          "name": "stdout",
          "text": [
            "data shape:  (2998, 13)\n",
            "Date type:  Date of Census                                              object\n",
            "Total Adults in Shelter                                    float64\n",
            "Total Children in Shelter                                  float64\n",
            "Total Individuals in Shelter                               float64\n",
            "Single Adult Men in Shelter                                float64\n",
            "Single Adult Women in Shelter                              float64\n",
            "Total Single Adults in Shelter                             float64\n",
            "Families with Children in Shelter                          float64\n",
            "Adults in Families with Children in Shelter                float64\n",
            "Children in Families with Children in Shelter              float64\n",
            "Total Individuals in Families with Children in Shelter     float64\n",
            "Adult Families in Shelter                                    int64\n",
            "Individuals in Adult Families in Shelter                   float64\n",
            "dtype: object\n"
          ]
        }
      ]
    },
    {
      "cell_type": "code",
      "metadata": {
        "id": "vc2E-VoxCMW3",
        "colab": {
          "base_uri": "https://localhost:8080/"
        },
        "outputId": "24762199-b523-4f2d-a220-722611433f0f"
      },
      "source": [
        "#changing the date from object to date\n",
        "DHS_Daily_Report['Date of Census']=pd.to_datetime(DHS_Daily_Report['Date of Census'])\n",
        "DHS_Daily_Report.dtypes"
      ],
      "id": "vc2E-VoxCMW3",
      "execution_count": 5,
      "outputs": [
        {
          "output_type": "execute_result",
          "data": {
            "text/plain": [
              "Date of Census                                             datetime64[ns]\n",
              "Total Adults in Shelter                                           float64\n",
              "Total Children in Shelter                                         float64\n",
              "Total Individuals in Shelter                                      float64\n",
              "Single Adult Men in Shelter                                       float64\n",
              "Single Adult Women in Shelter                                     float64\n",
              "Total Single Adults in Shelter                                    float64\n",
              "Families with Children in Shelter                                 float64\n",
              "Adults in Families with Children in Shelter                       float64\n",
              "Children in Families with Children in Shelter                     float64\n",
              "Total Individuals in Families with Children in Shelter            float64\n",
              "Adult Families in Shelter                                           int64\n",
              "Individuals in Adult Families in Shelter                          float64\n",
              "dtype: object"
            ]
          },
          "metadata": {},
          "execution_count": 5
        }
      ]
    },
    {
      "cell_type": "code",
      "metadata": {
        "id": "ny0VhGyfHb6N",
        "colab": {
          "base_uri": "https://localhost:8080/"
        },
        "outputId": "d0de7372-3bc9-4385-def5-a05264b783a8"
      },
      "source": [
        "DHS_Daily_Report.isnull().sum() # checking for missing data"
      ],
      "id": "ny0VhGyfHb6N",
      "execution_count": 6,
      "outputs": [
        {
          "output_type": "execute_result",
          "data": {
            "text/plain": [
              "Date of Census                                             0\n",
              "Total Adults in Shelter                                    0\n",
              "Total Children in Shelter                                  0\n",
              "Total Individuals in Shelter                               0\n",
              "Single Adult Men in Shelter                                0\n",
              "Single Adult Women in Shelter                              0\n",
              "Total Single Adults in Shelter                             0\n",
              "Families with Children in Shelter                          0\n",
              "Adults in Families with Children in Shelter                0\n",
              "Children in Families with Children in Shelter              0\n",
              "Total Individuals in Families with Children in Shelter     0\n",
              "Adult Families in Shelter                                  0\n",
              "Individuals in Adult Families in Shelter                   0\n",
              "dtype: int64"
            ]
          },
          "metadata": {},
          "execution_count": 6
        }
      ]
    },
    {
      "cell_type": "code",
      "metadata": {
        "id": "SajeSbJ6Hb9B",
        "colab": {
          "base_uri": "https://localhost:8080/"
        },
        "outputId": "4b038002-2d80-4003-d0f2-0c46a28b71d6"
      },
      "source": [
        "# Cheking for duplicate data\n",
        "n_dupes=DHS_Daily_Report.duplicated().sum()\n",
        "print(\"Number of duplicate rows are %i.\" % n_dupes)"
      ],
      "id": "SajeSbJ6Hb9B",
      "execution_count": 7,
      "outputs": [
        {
          "output_type": "stream",
          "name": "stdout",
          "text": [
            "Number of duplicate rows are 1.\n"
          ]
        }
      ]
    },
    {
      "cell_type": "code",
      "metadata": {
        "id": "LAVjM6sUHb_8",
        "colab": {
          "base_uri": "https://localhost:8080/",
          "height": 222
        },
        "outputId": "6978e860-2d6a-45ca-9c70-1d5eca0376d7"
      },
      "source": [
        "#check this one\n",
        "dupplicate=DHS_Daily_Report[DHS_Daily_Report.duplicated()]\n",
        "dupplicate"
      ],
      "id": "LAVjM6sUHb_8",
      "execution_count": 8,
      "outputs": [
        {
          "output_type": "execute_result",
          "data": {
            "text/html": [
              "<div>\n",
              "<style scoped>\n",
              "    .dataframe tbody tr th:only-of-type {\n",
              "        vertical-align: middle;\n",
              "    }\n",
              "\n",
              "    .dataframe tbody tr th {\n",
              "        vertical-align: top;\n",
              "    }\n",
              "\n",
              "    .dataframe thead th {\n",
              "        text-align: right;\n",
              "    }\n",
              "</style>\n",
              "<table border=\"1\" class=\"dataframe\">\n",
              "  <thead>\n",
              "    <tr style=\"text-align: right;\">\n",
              "      <th></th>\n",
              "      <th>Date of Census</th>\n",
              "      <th>Total Adults in Shelter</th>\n",
              "      <th>Total Children in Shelter</th>\n",
              "      <th>Total Individuals in Shelter</th>\n",
              "      <th>Single Adult Men in Shelter</th>\n",
              "      <th>Single Adult Women in Shelter</th>\n",
              "      <th>Total Single Adults in Shelter</th>\n",
              "      <th>Families with Children in Shelter</th>\n",
              "      <th>Adults in Families with Children in Shelter</th>\n",
              "      <th>Children in Families with Children in Shelter</th>\n",
              "      <th>Total Individuals in Families with Children in Shelter</th>\n",
              "      <th>Adult Families in Shelter</th>\n",
              "      <th>Individuals in Adult Families in Shelter</th>\n",
              "    </tr>\n",
              "  </thead>\n",
              "  <tbody>\n",
              "    <tr>\n",
              "      <th>2918</th>\n",
              "      <td>2021-10-21</td>\n",
              "      <td>31102.0</td>\n",
              "      <td>14937.0</td>\n",
              "      <td>46039.0</td>\n",
              "      <td>12365.0</td>\n",
              "      <td>4148.0</td>\n",
              "      <td>16513.0</td>\n",
              "      <td>8611.0</td>\n",
              "      <td>11285.0</td>\n",
              "      <td>14937.0</td>\n",
              "      <td>26222.0</td>\n",
              "      <td>1577</td>\n",
              "      <td>3304.0</td>\n",
              "    </tr>\n",
              "  </tbody>\n",
              "</table>\n",
              "</div>"
            ],
            "text/plain": [
              "     Date of Census  ...  Individuals in Adult Families in Shelter\n",
              "2918     2021-10-21  ...                                    3304.0\n",
              "\n",
              "[1 rows x 13 columns]"
            ]
          },
          "metadata": {},
          "execution_count": 8
        }
      ]
    },
    {
      "cell_type": "code",
      "source": [
        "cond=DHS_Daily_Report['Date of Census']==\"2021-10-21\"\n",
        "DHS_Daily_Report[cond]"
      ],
      "metadata": {
        "id": "JAGOkbA3pxmS",
        "colab": {
          "base_uri": "https://localhost:8080/",
          "height": 271
        },
        "outputId": "4a2472cc-624a-40f6-d511-457161e237b3"
      },
      "id": "JAGOkbA3pxmS",
      "execution_count": 9,
      "outputs": [
        {
          "output_type": "execute_result",
          "data": {
            "text/html": [
              "<div>\n",
              "<style scoped>\n",
              "    .dataframe tbody tr th:only-of-type {\n",
              "        vertical-align: middle;\n",
              "    }\n",
              "\n",
              "    .dataframe tbody tr th {\n",
              "        vertical-align: top;\n",
              "    }\n",
              "\n",
              "    .dataframe thead th {\n",
              "        text-align: right;\n",
              "    }\n",
              "</style>\n",
              "<table border=\"1\" class=\"dataframe\">\n",
              "  <thead>\n",
              "    <tr style=\"text-align: right;\">\n",
              "      <th></th>\n",
              "      <th>Date of Census</th>\n",
              "      <th>Total Adults in Shelter</th>\n",
              "      <th>Total Children in Shelter</th>\n",
              "      <th>Total Individuals in Shelter</th>\n",
              "      <th>Single Adult Men in Shelter</th>\n",
              "      <th>Single Adult Women in Shelter</th>\n",
              "      <th>Total Single Adults in Shelter</th>\n",
              "      <th>Families with Children in Shelter</th>\n",
              "      <th>Adults in Families with Children in Shelter</th>\n",
              "      <th>Children in Families with Children in Shelter</th>\n",
              "      <th>Total Individuals in Families with Children in Shelter</th>\n",
              "      <th>Adult Families in Shelter</th>\n",
              "      <th>Individuals in Adult Families in Shelter</th>\n",
              "    </tr>\n",
              "  </thead>\n",
              "  <tbody>\n",
              "    <tr>\n",
              "      <th>2917</th>\n",
              "      <td>2021-10-21</td>\n",
              "      <td>31102.0</td>\n",
              "      <td>14937.0</td>\n",
              "      <td>46039.0</td>\n",
              "      <td>12365.0</td>\n",
              "      <td>4148.0</td>\n",
              "      <td>16513.0</td>\n",
              "      <td>8611.0</td>\n",
              "      <td>11285.0</td>\n",
              "      <td>14937.0</td>\n",
              "      <td>26222.0</td>\n",
              "      <td>1577</td>\n",
              "      <td>3304.0</td>\n",
              "    </tr>\n",
              "    <tr>\n",
              "      <th>2918</th>\n",
              "      <td>2021-10-21</td>\n",
              "      <td>31102.0</td>\n",
              "      <td>14937.0</td>\n",
              "      <td>46039.0</td>\n",
              "      <td>12365.0</td>\n",
              "      <td>4148.0</td>\n",
              "      <td>16513.0</td>\n",
              "      <td>8611.0</td>\n",
              "      <td>11285.0</td>\n",
              "      <td>14937.0</td>\n",
              "      <td>26222.0</td>\n",
              "      <td>1577</td>\n",
              "      <td>3304.0</td>\n",
              "    </tr>\n",
              "  </tbody>\n",
              "</table>\n",
              "</div>"
            ],
            "text/plain": [
              "     Date of Census  ...  Individuals in Adult Families in Shelter\n",
              "2917     2021-10-21  ...                                    3304.0\n",
              "2918     2021-10-21  ...                                    3304.0\n",
              "\n",
              "[2 rows x 13 columns]"
            ]
          },
          "metadata": {},
          "execution_count": 9
        }
      ]
    },
    {
      "cell_type": "code",
      "metadata": {
        "id": "O6JYx_7QHcDA",
        "colab": {
          "base_uri": "https://localhost:8080/"
        },
        "outputId": "3ee4ee0e-a318-44dc-ffec-30df2d8b88a8"
      },
      "source": [
        "DHS_Daily_Report.drop_duplicates(inplace=True)\n",
        "n_dupes=DHS_Daily_Report.duplicated().sum()\n",
        "print(\"Number of duplicate rows are %i.\" % n_dupes)\n"
      ],
      "id": "O6JYx_7QHcDA",
      "execution_count": 10,
      "outputs": [
        {
          "output_type": "stream",
          "name": "stdout",
          "text": [
            "Number of duplicate rows are 0.\n"
          ]
        }
      ]
    },
    {
      "cell_type": "code",
      "source": [
        "# We should find only one line\n",
        "cond=DHS_Daily_Report['Date of Census']==\"2021-10-21\"\n",
        "DHS_Daily_Report[cond]"
      ],
      "metadata": {
        "id": "3u2fyV5mqNcI",
        "colab": {
          "base_uri": "https://localhost:8080/",
          "height": 222
        },
        "outputId": "e3e44e82-e703-45e6-9974-85137fd45c92"
      },
      "id": "3u2fyV5mqNcI",
      "execution_count": 11,
      "outputs": [
        {
          "output_type": "execute_result",
          "data": {
            "text/html": [
              "<div>\n",
              "<style scoped>\n",
              "    .dataframe tbody tr th:only-of-type {\n",
              "        vertical-align: middle;\n",
              "    }\n",
              "\n",
              "    .dataframe tbody tr th {\n",
              "        vertical-align: top;\n",
              "    }\n",
              "\n",
              "    .dataframe thead th {\n",
              "        text-align: right;\n",
              "    }\n",
              "</style>\n",
              "<table border=\"1\" class=\"dataframe\">\n",
              "  <thead>\n",
              "    <tr style=\"text-align: right;\">\n",
              "      <th></th>\n",
              "      <th>Date of Census</th>\n",
              "      <th>Total Adults in Shelter</th>\n",
              "      <th>Total Children in Shelter</th>\n",
              "      <th>Total Individuals in Shelter</th>\n",
              "      <th>Single Adult Men in Shelter</th>\n",
              "      <th>Single Adult Women in Shelter</th>\n",
              "      <th>Total Single Adults in Shelter</th>\n",
              "      <th>Families with Children in Shelter</th>\n",
              "      <th>Adults in Families with Children in Shelter</th>\n",
              "      <th>Children in Families with Children in Shelter</th>\n",
              "      <th>Total Individuals in Families with Children in Shelter</th>\n",
              "      <th>Adult Families in Shelter</th>\n",
              "      <th>Individuals in Adult Families in Shelter</th>\n",
              "    </tr>\n",
              "  </thead>\n",
              "  <tbody>\n",
              "    <tr>\n",
              "      <th>2917</th>\n",
              "      <td>2021-10-21</td>\n",
              "      <td>31102.0</td>\n",
              "      <td>14937.0</td>\n",
              "      <td>46039.0</td>\n",
              "      <td>12365.0</td>\n",
              "      <td>4148.0</td>\n",
              "      <td>16513.0</td>\n",
              "      <td>8611.0</td>\n",
              "      <td>11285.0</td>\n",
              "      <td>14937.0</td>\n",
              "      <td>26222.0</td>\n",
              "      <td>1577</td>\n",
              "      <td>3304.0</td>\n",
              "    </tr>\n",
              "  </tbody>\n",
              "</table>\n",
              "</div>"
            ],
            "text/plain": [
              "     Date of Census  ...  Individuals in Adult Families in Shelter\n",
              "2917     2021-10-21  ...                                    3304.0\n",
              "\n",
              "[1 rows x 13 columns]"
            ]
          },
          "metadata": {},
          "execution_count": 11
        }
      ]
    },
    {
      "cell_type": "code",
      "source": [
        "#getting the date period\n",
        "star_date=min(DHS_Daily_Report['Date of Census'])\n",
        "end_date=max(DHS_Daily_Report['Date of Census'])\n",
        "print(f\"The period we deal with is started from {star_date.date()} and end at {end_date.date()}\")"
      ],
      "metadata": {
        "id": "HuYrt5rLsQWv",
        "colab": {
          "base_uri": "https://localhost:8080/"
        },
        "outputId": "b3fe8819-41d5-44cf-b8a3-6c2f934731df"
      },
      "id": "HuYrt5rLsQWv",
      "execution_count": 12,
      "outputs": [
        {
          "output_type": "stream",
          "name": "stdout",
          "text": [
            "The period we deal with is started from 2013-08-21 and end at 2021-11-03\n"
          ]
        }
      ]
    },
    {
      "cell_type": "code",
      "source": [
        "#indexing the data by date and creating 3 columns\n",
        "DHS_Daily_Report=DHS_Daily_Report.set_index('Date of Census')\n",
        "DHS_Daily_Report['Year'] = DHS_Daily_Report.index.year\n",
        "DHS_Daily_Report['Month'] = DHS_Daily_Report.index.month_name()\n",
        "DHS_Daily_Report['Weekday_Name'] = DHS_Daily_Report.index.day_name()"
      ],
      "metadata": {
        "id": "sfbOUJFMsDhd"
      },
      "id": "sfbOUJFMsDhd",
      "execution_count": 13,
      "outputs": []
    },
    {
      "cell_type": "code",
      "source": [
        "  #Target variables\n",
        "Childrens=['Total Children in Shelter','Families with Children in Shelter']\n",
        "Adults=['Total Adults in Shelter','Single Adult Men in Shelter']\n",
        "Individuals=['Total Individuals in Shelter','Individuals in Adult Families in Shelter']"
      ],
      "metadata": {
        "id": "d31rD08oyqiy"
      },
      "id": "d31rD08oyqiy",
      "execution_count": 14,
      "outputs": []
    },
    {
      "cell_type": "code",
      "source": [
        "def slicing_Data(group, period, data=DHS_Daily_Report):\n",
        "  try:\n",
        "  #collecting the target group\n",
        "    Childrens=['Total Children in Shelter','Families with Children in Shelter']\n",
        "    Adults=['Total Adults in Shelter','Single Adult Men in Shelter']\n",
        "    Individuals=['Total Individuals in Shelter','Individuals in Adult Families in Shelter']\n",
        "    if group=='Childrens':\n",
        "      group=Childrens[:]\n",
        "    elif group=='Adults':\n",
        "      group=Adults[:]\n",
        "    elif group=='Individuals':\n",
        "      group=Individuals[:]\n",
        "    else:\n",
        "      return 'Type does not exist'\n",
        "    if period not in [\"Year\", \"Month\", \"Weekday_Name\"]:\n",
        "      return 'You picked a wrong Period'\n",
        "    group.append(period)\n",
        "    df_table=data[group]\n",
        "    return df_table\n",
        "  except:\n",
        "    print('An error occurs while we respond to your request')"
      ],
      "metadata": {
        "id": "w1sCX5acxOCe"
      },
      "id": "w1sCX5acxOCe",
      "execution_count": 15,
      "outputs": []
    },
    {
      "cell_type": "code",
      "source": [
        "#slcing data by Year, Month, Weekday_Name /// Childrens/ Adults /// Individuals\n",
        "table=slicing_Data(\"Childrens\",\"Year\")\n",
        "table"
      ],
      "metadata": {
        "id": "j8-oalWZs5tt",
        "colab": {
          "base_uri": "https://localhost:8080/",
          "height": 455
        },
        "outputId": "5d62c24a-303b-4401-ccfe-806154dc5a69"
      },
      "id": "j8-oalWZs5tt",
      "execution_count": 16,
      "outputs": [
        {
          "output_type": "execute_result",
          "data": {
            "text/html": [
              "<div>\n",
              "<style scoped>\n",
              "    .dataframe tbody tr th:only-of-type {\n",
              "        vertical-align: middle;\n",
              "    }\n",
              "\n",
              "    .dataframe tbody tr th {\n",
              "        vertical-align: top;\n",
              "    }\n",
              "\n",
              "    .dataframe thead th {\n",
              "        text-align: right;\n",
              "    }\n",
              "</style>\n",
              "<table border=\"1\" class=\"dataframe\">\n",
              "  <thead>\n",
              "    <tr style=\"text-align: right;\">\n",
              "      <th></th>\n",
              "      <th>Total Children in Shelter</th>\n",
              "      <th>Families with Children in Shelter</th>\n",
              "      <th>Year</th>\n",
              "    </tr>\n",
              "    <tr>\n",
              "      <th>Date of Census</th>\n",
              "      <th></th>\n",
              "      <th></th>\n",
              "      <th></th>\n",
              "    </tr>\n",
              "  </thead>\n",
              "  <tbody>\n",
              "    <tr>\n",
              "      <th>2021-09-28</th>\n",
              "      <td>14741.0</td>\n",
              "      <td>8478.0</td>\n",
              "      <td>2021</td>\n",
              "    </tr>\n",
              "    <tr>\n",
              "      <th>2021-09-27</th>\n",
              "      <td>14789.0</td>\n",
              "      <td>8495.0</td>\n",
              "      <td>2021</td>\n",
              "    </tr>\n",
              "    <tr>\n",
              "      <th>2021-09-26</th>\n",
              "      <td>14750.0</td>\n",
              "      <td>8471.0</td>\n",
              "      <td>2021</td>\n",
              "    </tr>\n",
              "    <tr>\n",
              "      <th>2021-09-25</th>\n",
              "      <td>14760.0</td>\n",
              "      <td>8466.0</td>\n",
              "      <td>2021</td>\n",
              "    </tr>\n",
              "    <tr>\n",
              "      <th>2021-09-24</th>\n",
              "      <td>14721.0</td>\n",
              "      <td>8436.0</td>\n",
              "      <td>2021</td>\n",
              "    </tr>\n",
              "    <tr>\n",
              "      <th>...</th>\n",
              "      <td>...</td>\n",
              "      <td>...</td>\n",
              "      <td>...</td>\n",
              "    </tr>\n",
              "    <tr>\n",
              "      <th>2018-10-10</th>\n",
              "      <td>22375.0</td>\n",
              "      <td>12619.0</td>\n",
              "      <td>2018</td>\n",
              "    </tr>\n",
              "    <tr>\n",
              "      <th>2019-05-13</th>\n",
              "      <td>21606.5</td>\n",
              "      <td>12176.0</td>\n",
              "      <td>2019</td>\n",
              "    </tr>\n",
              "    <tr>\n",
              "      <th>2020-06-07</th>\n",
              "      <td>18967.0</td>\n",
              "      <td>10657.0</td>\n",
              "      <td>2020</td>\n",
              "    </tr>\n",
              "    <tr>\n",
              "      <th>2020-06-16</th>\n",
              "      <td>18967.0</td>\n",
              "      <td>10657.0</td>\n",
              "      <td>2020</td>\n",
              "    </tr>\n",
              "    <tr>\n",
              "      <th>2020-06-27</th>\n",
              "      <td>18967.0</td>\n",
              "      <td>10657.0</td>\n",
              "      <td>2020</td>\n",
              "    </tr>\n",
              "  </tbody>\n",
              "</table>\n",
              "<p>2997 rows × 3 columns</p>\n",
              "</div>"
            ],
            "text/plain": [
              "                Total Children in Shelter  ...  Year\n",
              "Date of Census                             ...      \n",
              "2021-09-28                        14741.0  ...  2021\n",
              "2021-09-27                        14789.0  ...  2021\n",
              "2021-09-26                        14750.0  ...  2021\n",
              "2021-09-25                        14760.0  ...  2021\n",
              "2021-09-24                        14721.0  ...  2021\n",
              "...                                   ...  ...   ...\n",
              "2018-10-10                        22375.0  ...  2018\n",
              "2019-05-13                        21606.5  ...  2019\n",
              "2020-06-07                        18967.0  ...  2020\n",
              "2020-06-16                        18967.0  ...  2020\n",
              "2020-06-27                        18967.0  ...  2020\n",
              "\n",
              "[2997 rows x 3 columns]"
            ]
          },
          "metadata": {},
          "execution_count": 16
        }
      ]
    },
    {
      "cell_type": "code",
      "source": [
        "table.filter(\n",
        "    items=['Total Children in Shelter','Families with Children in Shelter']\n",
        ").plot()\n",
        "plt.show()"
      ],
      "metadata": {
        "colab": {
          "base_uri": "https://localhost:8080/",
          "height": 276
        },
        "id": "jhD9tBQ5ASXh",
        "outputId": "ac2a3e75-f213-489e-e6a1-b3d994c10d87"
      },
      "id": "jhD9tBQ5ASXh",
      "execution_count": 17,
      "outputs": [
        {
          "output_type": "display_data",
          "data": {
            "image/png": "[encoded data removed]",
            "text/plain": [
              "<Figure size 432x288 with 1 Axes>"
            ]
          },
          "metadata": {
            "needs_background": "light"
          }
        }
      ]
    },
    {
      "cell_type": "markdown",
      "source": [
        "* As we can see from the graph, there is a huge drop regarding the number of children in the Shelter. We can't really infer anything. It may be a good or bad sign to see that dropping occurs:\n",
        "As a good interpretation: We may say that childrens are out of shelter and they moved to somewhere else or to houses where they will have normal life.\n",
        "Bad interpretation: We can say that children moved to outddor/street and that occurs because of the bad situation in the shelter (probably not safe), they were encoraged by the weather (When it hot outside families/childrens step out of the shelter). "
      ],
      "metadata": {
        "id": "wGNsvCmow_6F"
      },
      "id": "wGNsvCmow_6F"
    },
    {
      "cell_type": "code",
      "source": [
        "# Activate this function after you create the table:\n",
        "#This function return a pivot table\n",
        "def pivote_table(group, period, data=table):\n",
        "  Childrens=['Total Children in Shelter','Families with Children in Shelter']\n",
        "  Adults=['Total Adults in Shelter','Single Adult Men in Shelter']\n",
        "  Individuals=['Total Individuals in Shelter','Individuals in Adult Families in Shelter']\n",
        "  if group=='Childrens':\n",
        "    group=Childrens[:]\n",
        "  elif group=='Adults':\n",
        "    group=Adults[:]\n",
        "  elif group=='Individuals':\n",
        "    group=Individuals[:]\n",
        "  else:\n",
        "    return 'Type does not exist'\n",
        "  pivot=table.pivot_table(index=period,values=group,aggfunc='sum', margins=True)\n",
        "  return pivot"
      ],
      "metadata": {
        "id": "WOc2Od_mb4CX"
      },
      "id": "WOc2Od_mb4CX",
      "execution_count": 18,
      "outputs": []
    },
    {
      "cell_type": "code",
      "source": [
        "#making sure you pick the same period (Year/Month/Day) as the table above\n",
        "pivot =pivote_table(\"Childrens\",\"Year\")\n",
        "pivot\n"
      ],
      "metadata": {
        "id": "F2sa62aivI7A",
        "colab": {
          "base_uri": "https://localhost:8080/",
          "height": 394
        },
        "outputId": "93a028c6-a27a-4e99-beb3-1f648157ced9"
      },
      "id": "F2sa62aivI7A",
      "execution_count": 19,
      "outputs": [
        {
          "output_type": "execute_result",
          "data": {
            "text/html": [
              "<div>\n",
              "<style scoped>\n",
              "    .dataframe tbody tr th:only-of-type {\n",
              "        vertical-align: middle;\n",
              "    }\n",
              "\n",
              "    .dataframe tbody tr th {\n",
              "        vertical-align: top;\n",
              "    }\n",
              "\n",
              "    .dataframe thead th {\n",
              "        text-align: right;\n",
              "    }\n",
              "</style>\n",
              "<table border=\"1\" class=\"dataframe\">\n",
              "  <thead>\n",
              "    <tr style=\"text-align: right;\">\n",
              "      <th></th>\n",
              "      <th>Families with Children in Shelter</th>\n",
              "      <th>Total Children in Shelter</th>\n",
              "    </tr>\n",
              "    <tr>\n",
              "      <th>Year</th>\n",
              "      <th></th>\n",
              "      <th></th>\n",
              "    </tr>\n",
              "  </thead>\n",
              "  <tbody>\n",
              "    <tr>\n",
              "      <th>2013</th>\n",
              "      <td>1397300.5</td>\n",
              "      <td>2910095.0</td>\n",
              "    </tr>\n",
              "    <tr>\n",
              "      <th>2014</th>\n",
              "      <td>4136235.0</td>\n",
              "      <td>8579676.5</td>\n",
              "    </tr>\n",
              "    <tr>\n",
              "      <th>2015</th>\n",
              "      <td>4337913.0</td>\n",
              "      <td>8628659.0</td>\n",
              "    </tr>\n",
              "    <tr>\n",
              "      <th>2016</th>\n",
              "      <td>4614610.0</td>\n",
              "      <td>8493048.0</td>\n",
              "    </tr>\n",
              "    <tr>\n",
              "      <th>2017</th>\n",
              "      <td>4632119.0</td>\n",
              "      <td>8299623.0</td>\n",
              "    </tr>\n",
              "    <tr>\n",
              "      <th>2018</th>\n",
              "      <td>4589189.0</td>\n",
              "      <td>8138639.0</td>\n",
              "    </tr>\n",
              "    <tr>\n",
              "      <th>2019</th>\n",
              "      <td>4441058.0</td>\n",
              "      <td>7848557.5</td>\n",
              "    </tr>\n",
              "    <tr>\n",
              "      <th>2020</th>\n",
              "      <td>3964584.0</td>\n",
              "      <td>7048925.0</td>\n",
              "    </tr>\n",
              "    <tr>\n",
              "      <th>2021</th>\n",
              "      <td>2742112.0</td>\n",
              "      <td>4777725.0</td>\n",
              "    </tr>\n",
              "    <tr>\n",
              "      <th>All</th>\n",
              "      <td>34855120.5</td>\n",
              "      <td>64724948.0</td>\n",
              "    </tr>\n",
              "  </tbody>\n",
              "</table>\n",
              "</div>"
            ],
            "text/plain": [
              "      Families with Children in Shelter  Total Children in Shelter\n",
              "Year                                                              \n",
              "2013                          1397300.5                  2910095.0\n",
              "2014                          4136235.0                  8579676.5\n",
              "2015                          4337913.0                  8628659.0\n",
              "2016                          4614610.0                  8493048.0\n",
              "2017                          4632119.0                  8299623.0\n",
              "2018                          4589189.0                  8138639.0\n",
              "2019                          4441058.0                  7848557.5\n",
              "2020                          3964584.0                  7048925.0\n",
              "2021                          2742112.0                  4777725.0\n",
              "All                          34855120.5                 64724948.0"
            ]
          },
          "metadata": {},
          "execution_count": 19
        }
      ]
    },
    {
      "cell_type": "code",
      "source": [
        "#graphing the pivot table\n",
        "pivot.plot()\n",
        "plt.show()"
      ],
      "metadata": {
        "id": "axBgRLCW8cO0",
        "colab": {
          "base_uri": "https://localhost:8080/",
          "height": 296
        },
        "outputId": "4f2207c8-2bfc-4a4d-b2bf-6a0fd879dbb3"
      },
      "id": "axBgRLCW8cO0",
      "execution_count": null,
      "outputs": [
        {
          "output_type": "display_data",
          "data": {
            "image/png": "[encoded data removed]",
            "text/plain": [
              "<Figure size 432x288 with 1 Axes>"
            ]
          },
          "metadata": {
            "needs_background": "light"
          }
        }
      ]
    },
    {
      "cell_type": "markdown",
      "source": [
        "* This graph tells us that the number of children that enters to shelter increased in 2021. We will investigate this case further. "
      ],
      "metadata": {
        "id": "y3s-0_q7y9lN"
      },
      "id": "y3s-0_q7y9lN"
    },
    {
      "cell_type": "code",
      "source": [
        "#Intro to Time series\n",
        "#Checking the differences between entries children for each day/date\n",
        "\n",
        "new_table=table.iloc[:,0:2]\n",
        "new_table.columns=['Total', 'T_familes']\n",
        "new_table['Difference']=new_table.eval('Total - T_familes')\n",
        "new_table"
      ],
      "metadata": {
        "id": "rTgh63qiMUzQ",
        "colab": {
          "base_uri": "https://localhost:8080/",
          "height": 455
        },
        "outputId": "abb98a05-fe0b-47c2-fea7-6a4a9e805638"
      },
      "id": "rTgh63qiMUzQ",
      "execution_count": 20,
      "outputs": [
        {
          "output_type": "execute_result",
          "data": {
            "text/html": [
              "<div>\n",
              "<style scoped>\n",
              "    .dataframe tbody tr th:only-of-type {\n",
              "        vertical-align: middle;\n",
              "    }\n",
              "\n",
              "    .dataframe tbody tr th {\n",
              "        vertical-align: top;\n",
              "    }\n",
              "\n",
              "    .dataframe thead th {\n",
              "        text-align: right;\n",
              "    }\n",
              "</style>\n",
              "<table border=\"1\" class=\"dataframe\">\n",
              "  <thead>\n",
              "    <tr style=\"text-align: right;\">\n",
              "      <th></th>\n",
              "      <th>Total</th>\n",
              "      <th>T_familes</th>\n",
              "      <th>Difference</th>\n",
              "    </tr>\n",
              "    <tr>\n",
              "      <th>Date of Census</th>\n",
              "      <th></th>\n",
              "      <th></th>\n",
              "      <th></th>\n",
              "    </tr>\n",
              "  </thead>\n",
              "  <tbody>\n",
              "    <tr>\n",
              "      <th>2021-09-28</th>\n",
              "      <td>14741.0</td>\n",
              "      <td>8478.0</td>\n",
              "      <td>6263.0</td>\n",
              "    </tr>\n",
              "    <tr>\n",
              "      <th>2021-09-27</th>\n",
              "      <td>14789.0</td>\n",
              "      <td>8495.0</td>\n",
              "      <td>6294.0</td>\n",
              "    </tr>\n",
              "    <tr>\n",
              "      <th>2021-09-26</th>\n",
              "      <td>14750.0</td>\n",
              "      <td>8471.0</td>\n",
              "      <td>6279.0</td>\n",
              "    </tr>\n",
              "    <tr>\n",
              "      <th>2021-09-25</th>\n",
              "      <td>14760.0</td>\n",
              "      <td>8466.0</td>\n",
              "      <td>6294.0</td>\n",
              "    </tr>\n",
              "    <tr>\n",
              "      <th>2021-09-24</th>\n",
              "      <td>14721.0</td>\n",
              "      <td>8436.0</td>\n",
              "      <td>6285.0</td>\n",
              "    </tr>\n",
              "    <tr>\n",
              "      <th>...</th>\n",
              "      <td>...</td>\n",
              "      <td>...</td>\n",
              "      <td>...</td>\n",
              "    </tr>\n",
              "    <tr>\n",
              "      <th>2018-10-10</th>\n",
              "      <td>22375.0</td>\n",
              "      <td>12619.0</td>\n",
              "      <td>9756.0</td>\n",
              "    </tr>\n",
              "    <tr>\n",
              "      <th>2019-05-13</th>\n",
              "      <td>21606.5</td>\n",
              "      <td>12176.0</td>\n",
              "      <td>9430.5</td>\n",
              "    </tr>\n",
              "    <tr>\n",
              "      <th>2020-06-07</th>\n",
              "      <td>18967.0</td>\n",
              "      <td>10657.0</td>\n",
              "      <td>8310.0</td>\n",
              "    </tr>\n",
              "    <tr>\n",
              "      <th>2020-06-16</th>\n",
              "      <td>18967.0</td>\n",
              "      <td>10657.0</td>\n",
              "      <td>8310.0</td>\n",
              "    </tr>\n",
              "    <tr>\n",
              "      <th>2020-06-27</th>\n",
              "      <td>18967.0</td>\n",
              "      <td>10657.0</td>\n",
              "      <td>8310.0</td>\n",
              "    </tr>\n",
              "  </tbody>\n",
              "</table>\n",
              "<p>2997 rows × 3 columns</p>\n",
              "</div>"
            ],
            "text/plain": [
              "                  Total  T_familes  Difference\n",
              "Date of Census                                \n",
              "2021-09-28      14741.0     8478.0      6263.0\n",
              "2021-09-27      14789.0     8495.0      6294.0\n",
              "2021-09-26      14750.0     8471.0      6279.0\n",
              "2021-09-25      14760.0     8466.0      6294.0\n",
              "2021-09-24      14721.0     8436.0      6285.0\n",
              "...                 ...        ...         ...\n",
              "2018-10-10      22375.0    12619.0      9756.0\n",
              "2019-05-13      21606.5    12176.0      9430.5\n",
              "2020-06-07      18967.0    10657.0      8310.0\n",
              "2020-06-16      18967.0    10657.0      8310.0\n",
              "2020-06-27      18967.0    10657.0      8310.0\n",
              "\n",
              "[2997 rows x 3 columns]"
            ]
          },
          "metadata": {},
          "execution_count": 20
        }
      ]
    },
    {
      "cell_type": "code",
      "source": [
        "# date is ranged from 2013-08-21 and  2021-11-03\n",
        "ax1 = new_table.loc['2021-8':'2021-9', 'Difference']\n",
        "ax1.plot(linewidth=2.5)"
      ],
      "metadata": {
        "colab": {
          "base_uri": "https://localhost:8080/",
          "height": 311
        },
        "id": "v6S5C8b5EkZq",
        "outputId": "93d76df8-0882-4d0a-98ed-8dbe5242fad9"
      },
      "id": "v6S5C8b5EkZq",
      "execution_count": 21,
      "outputs": [
        {
          "output_type": "execute_result",
          "data": {
            "text/plain": [
              "<matplotlib.axes._subplots.AxesSubplot at 0x7f03b4df4b50>"
            ]
          },
          "metadata": {},
          "execution_count": 21
        },
        {
          "output_type": "display_data",
          "data": {
            "image/png": "[encoded data removed]",
            "text/plain": [
              "<Figure size 432x288 with 1 Axes>"
            ]
          },
          "metadata": {
            "needs_background": "light"
          }
        }
      ]
    },
    {
      "cell_type": "markdown",
      "source": [
        "* The increas we see in the begening of 2021 is more detailed within the graph above. We've seen a huge drop again from Jan to July: This happened because families/childrens decided first to back to shelter then they started leaving shelters. From July to September we saw almost no change, then some increasing happaned again starting from Sept.  "
      ],
      "metadata": {
        "id": "LUX7rUjO0Rc_"
      },
      "id": "LUX7rUjO0Rc_"
    },
    {
      "cell_type": "code",
      "source": [
        "#Rolling over July to November\n",
        "#Change period you wanted to investigate further in above function \n",
        "ax = ax1.plot(alpha=0.30)\n",
        "ax1.rolling(5).mean().plot(ax=ax)\n",
        "ax.legend([\"2021\",\"Rolling Mean\"])"
      ],
      "metadata": {
        "colab": {
          "base_uri": "https://localhost:8080/",
          "height": 311
        },
        "id": "QyYwows9Fn0K",
        "outputId": "367786f5-9395-4826-8669-80fe4605a149"
      },
      "id": "QyYwows9Fn0K",
      "execution_count": 22,
      "outputs": [
        {
          "output_type": "execute_result",
          "data": {
            "text/plain": [
              "<matplotlib.legend.Legend at 0x7f03b35e4e90>"
            ]
          },
          "metadata": {},
          "execution_count": 22
        },
        {
          "output_type": "display_data",
          "data": {
            "image/png": "[encoded data removed]",
            "text/plain": [
              "<Figure size 432x288 with 1 Axes>"
            ]
          },
          "metadata": {
            "needs_background": "light"
          }
        }
      ]
    },
    {
      "cell_type": "code",
      "source": [
        "#An overview of what is happening\n",
        "new_table.plot()\n",
        "plt.ylabel('Yearly children in Shelter');"
      ],
      "metadata": {
        "id": "RugI2INtTRBZ",
        "colab": {
          "base_uri": "https://localhost:8080/",
          "height": 276
        },
        "outputId": "ac1270ca-94ed-4280-eb8a-c0a66307dbea"
      },
      "id": "RugI2INtTRBZ",
      "execution_count": 23,
      "outputs": [
        {
          "output_type": "display_data",
          "data": {
            "image/png": "[encoded data removed]",
            "text/plain": [
              "<Figure size 432x288 with 1 Axes>"
            ]
          },
          "metadata": {
            "needs_background": "light"
          }
        }
      ]
    },
    {
      "cell_type": "code",
      "source": [
        "#QS stands for Quarter Start\n",
        "#MS Month Start\n",
        "#BA stands for Business year end\n",
        "# Q\tQuarter end\n",
        "\n",
        "#Resampling and checking the change in the graph\n",
        "Monthly = new_table.resample('BA').mean()\n",
        "Monthly.plot(style=[':', '--', '-'])\n",
        "plt.ylabel('Monthly children in Shelter');"
      ],
      "metadata": {
        "id": "-KLguG7vOBLr",
        "colab": {
          "base_uri": "https://localhost:8080/",
          "height": 285
        },
        "outputId": "a4ad6a00-8ca2-43df-f74a-271632904f9b"
      },
      "id": "-KLguG7vOBLr",
      "execution_count": 24,
      "outputs": [
        {
          "output_type": "display_data",
          "data": {
            "image/png": "[encoded data removed]",
            "text/plain": [
              "<Figure size 432x288 with 1 Axes>"
            ]
          },
          "metadata": {
            "needs_background": "light"
          }
        }
      ]
    },
    {
      "cell_type": "code",
      "source": [
        "#Rooling data\n",
        "daily = new_table.resample('Q').sum()\n",
        "daily.rolling(1, center=True).sum().plot(style=[':', '--', '-'])\n",
        "plt.ylabel('mean hourly count');"
      ],
      "metadata": {
        "id": "ONrgr5lxGq0t",
        "colab": {
          "base_uri": "https://localhost:8080/",
          "height": 296
        },
        "outputId": "aed6eac9-7bb8-4ae7-f7a5-92d26dd9fda2"
      },
      "id": "ONrgr5lxGq0t",
      "execution_count": 27,
      "outputs": [
        {
          "output_type": "display_data",
          "data": {
            "image/png": "[encoded data removed]",
            "text/plain": [
              "<Figure size 432x288 with 1 Axes>"
            ]
          },
          "metadata": {
            "needs_background": "light"
          }
        }
      ]
    },
    {
      "cell_type": "code",
      "metadata": {
        "id": "O9xTa5gKOhW_"
      },
      "source": [
        "#More details in data\n",
        "#requesting data by date1:date2\n",
        "def data_time_base(given_date,col=DHS_Daily_Report.columns,data=DHS_Daily_Report):\n",
        "  if given_date.find(\":\")!=-1:\n",
        "    arrange_date=given_date.split(\":\")\n",
        "    if date_exist(arrange_date[0]) and date_exist(arrange_date[1]):\n",
        "      return data.loc[arrange_date[0]:arrange_date[1]][col]\n",
        "  \n",
        "  elif given_date in data.index:\n",
        "    return data.loc[given_date][col]\n",
        "  else:\n",
        "    return 'Wrong date or not exist in data'"
      ],
      "id": "O9xTa5gKOhW_",
      "execution_count": 28,
      "outputs": []
    },
    {
      "cell_type": "code",
      "metadata": {
        "id": "lj5GJ7VyaZUN"
      },
      "source": [
        "#Check if the date exist in data\n",
        "def date_exist(given_date,data=DHS_Daily_Report.index):\n",
        "  if given_date in data:\n",
        "    return True\n",
        "  else:\n",
        "    return False"
      ],
      "id": "lj5GJ7VyaZUN",
      "execution_count": 29,
      "outputs": []
    },
    {
      "cell_type": "code",
      "metadata": {
        "id": "Yiko22MTYWEc",
        "colab": {
          "base_uri": "https://localhost:8080/",
          "height": 295
        },
        "outputId": "af4c5c65-3290-487e-b04c-d7d8b0d0b96c"
      },
      "source": [
        "#Picking up some specific period within the dataset\n",
        "reques_date=data_time_base('2021-7:2021-11','Total Children in Shelter')\n",
        "reques_date.plot()\n",
        "plt.show()"
      ],
      "id": "Yiko22MTYWEc",
      "execution_count": 30,
      "outputs": [
        {
          "output_type": "display_data",
          "data": {
            "image/png": "[encoded data removed]",
            "text/plain": [
              "<Figure size 432x288 with 1 Axes>"
            ]
          },
          "metadata": {
            "needs_background": "light"
          }
        }
      ]
    },
    {
      "cell_type": "markdown",
      "source": [
        "* Roughly speaking, in the year 2020, from July to november, we see a decreasing in number of children in shelters. In contrast, in other years, 2013 up to 2019 including the year 2021, we see the same pattern which is increasing in the numbers the children entering the shelters.  "
      ],
      "metadata": {
        "id": "O8kxFuFI8JH7"
      },
      "id": "O8kxFuFI8JH7"
    },
    {
      "cell_type": "code",
      "source": [
        "reques_date=data_time_base('2021-07: 2021-11','Total Children in Shelter')"
      ],
      "metadata": {
        "id": "QPInJXjSC2ES"
      },
      "id": "QPInJXjSC2ES",
      "execution_count": 31,
      "outputs": []
    },
    {
      "cell_type": "code",
      "source": [
        "reques_date.plot()\n",
        "plt.show()"
      ],
      "metadata": {
        "id": "EPiwMGkIElpB",
        "colab": {
          "base_uri": "https://localhost:8080/",
          "height": 295
        },
        "outputId": "9d6a3d60-96e7-437e-fef5-88892498128f"
      },
      "id": "EPiwMGkIElpB",
      "execution_count": 32,
      "outputs": [
        {
          "output_type": "display_data",
          "data": {
            "image/png": "[encoded data removed]",
            "text/plain": [
              "<Figure size 432x288 with 1 Axes>"
            ]
          },
          "metadata": {
            "needs_background": "light"
          }
        }
      ]
    },
    {
      "cell_type": "code",
      "metadata": {
        "id": "xv5wsDrloRvE",
        "colab": {
          "base_uri": "https://localhost:8080/",
          "height": 524
        },
        "outputId": "d1849c97-673b-4513-ceb1-5711cd793b79"
      },
      "source": [
        "cols_plot =Childrens\n",
        "axes=DHS_Daily_Report[cols_plot].plot(marker='.', alpha=0.5, linestyle='None', figsize=(11, 9), subplots=True)\n",
        "# axes = data_time_base('2020-01:2020-02',cols_plot).plot(marker='.', alpha=0.5, linestyle='None', figsize=(11, 9), subplots=True)\n",
        "for ax in axes:\n",
        "    ax.set_ylabel('Children in shelter')"
      ],
      "id": "xv5wsDrloRvE",
      "execution_count": 33,
      "outputs": [
        {
          "output_type": "display_data",
          "data": {
            "image/png": "[encoded data removed]",
            "text/plain": [
              "<Figure size 792x648 with 2 Axes>"
            ]
          },
          "metadata": {
            "needs_background": "light"
          }
        }
      ]
    },
    {
      "cell_type": "code",
      "metadata": {
        "id": "-DbfpcdyOhZ1",
        "colab": {
          "base_uri": "https://localhost:8080/",
          "height": 314
        },
        "outputId": "c487654a-35ab-42dd-f70c-ad98c1504ee9"
      },
      "source": [
        "# Some visualization\n",
        "ax=data_time_base('2017','Total Children in Shelter').plot()\n",
        "ax.set_ylabel('Variance number of children in the shelter');"
      ],
      "id": "-DbfpcdyOhZ1",
      "execution_count": 34,
      "outputs": [
        {
          "output_type": "display_data",
          "data": {
            "image/png": "[encoded data removed]",
            "text/plain": [
              "<Figure size 432x288 with 1 Axes>"
            ]
          },
          "metadata": {
            "needs_background": "light"
          }
        }
      ]
    },
    {
      "cell_type": "code",
      "metadata": {
        "id": "FclwYqL5yD8i",
        "colab": {
          "base_uri": "https://localhost:8080/",
          "height": 323
        },
        "outputId": "185cd88c-6a4d-4ec7-c0e1-16cfc1428e0c"
      },
      "source": [
        "ax =data_time_base('2017-01:2017-02','Total Children in Shelter').plot(marker='o', linestyle='-')\n",
        "ax.set_ylabel('Variance number of children in the shelter');"
      ],
      "id": "FclwYqL5yD8i",
      "execution_count": 35,
      "outputs": [
        {
          "output_type": "display_data",
          "data": {
            "image/png": "[encoded data removed]",
            "text/plain": [
              "<Figure size 432x288 with 1 Axes>"
            ]
          },
          "metadata": {
            "needs_background": "light"
          }
        }
      ]
    },
    {
      "cell_type": "markdown",
      "source": [
        ""
      ],
      "metadata": {
        "id": "4d3wbAYp_VAq"
      },
      "id": "4d3wbAYp_VAq"
    },
    {
      "cell_type": "code",
      "metadata": {
        "id": "HPL5IXmBOhcX"
      },
      "source": [
        ""
      ],
      "id": "HPL5IXmBOhcX",
      "execution_count": null,
      "outputs": []
    },
    {
      "cell_type": "code",
      "metadata": {
        "id": "mC3M19naoR02"
      },
      "source": [
        ""
      ],
      "id": "mC3M19naoR02",
      "execution_count": null,
      "outputs": []
    },
    {
      "cell_type": "code",
      "metadata": {
        "id": "oMj9meZLoR4D"
      },
      "source": [
        ""
      ],
      "id": "oMj9meZLoR4D",
      "execution_count": null,
      "outputs": []
    },
    {
      "cell_type": "code",
      "metadata": {
        "id": "nSY58B1ToR7F"
      },
      "source": [
        ""
      ],
      "id": "nSY58B1ToR7F",
      "execution_count": null,
      "outputs": []
    },
    {
      "cell_type": "code",
      "metadata": {
        "id": "KX7u8UP7oR93"
      },
      "source": [
        ""
      ],
      "id": "KX7u8UP7oR93",
      "execution_count": null,
      "outputs": []
    },
    {
      "cell_type": "code",
      "metadata": {
        "id": "_lDLkA1ToSA3"
      },
      "source": [
        ""
      ],
      "id": "_lDLkA1ToSA3",
      "execution_count": null,
      "outputs": []
    },
    {
      "cell_type": "code",
      "metadata": {
        "id": "DXqaEpaAoSEb"
      },
      "source": [
        ""
      ],
      "id": "DXqaEpaAoSEb",
      "execution_count": null,
      "outputs": []
    },
    {
      "cell_type": "code",
      "metadata": {
        "id": "Jaa4LSlaoSIQ"
      },
      "source": [
        ""
      ],
      "id": "Jaa4LSlaoSIQ",
      "execution_count": null,
      "outputs": []
    },
    {
      "cell_type": "code",
      "metadata": {
        "id": "UdQGljbNJHLI"
      },
      "source": [
        ""
      ],
      "id": "UdQGljbNJHLI",
      "execution_count": null,
      "outputs": []
    },
    {
      "cell_type": "code",
      "metadata": {
        "id": "JzbG_OVSJHNg"
      },
      "source": [
        ""
      ],
      "id": "JzbG_OVSJHNg",
      "execution_count": null,
      "outputs": []
    },
    {
      "cell_type": "code",
      "metadata": {
        "id": "CR6fJM-qJHTh"
      },
      "source": [
        ""
      ],
      "id": "CR6fJM-qJHTh",
      "execution_count": null,
      "outputs": []
    },
    {
      "cell_type": "code",
      "metadata": {
        "id": "zv3WgGpaJHXP"
      },
      "source": [
        ""
      ],
      "id": "zv3WgGpaJHXP",
      "execution_count": null,
      "outputs": []
    },
    {
      "cell_type": "code",
      "metadata": {
        "id": "P6wCJ1ehHcI7"
      },
      "source": [
        ""
      ],
      "id": "P6wCJ1ehHcI7",
      "execution_count": null,
      "outputs": []
    },
    {
      "cell_type": "code",
      "metadata": {
        "id": "T0csnt2THcLm"
      },
      "source": [
        ""
      ],
      "id": "T0csnt2THcLm",
      "execution_count": null,
      "outputs": []
    },
    {
      "cell_type": "code",
      "metadata": {
        "id": "15SH5zfkHcRK"
      },
      "source": [
        ""
      ],
      "id": "15SH5zfkHcRK",
      "execution_count": null,
      "outputs": []
    },
    {
      "cell_type": "code",
      "metadata": {
        "id": "NhN3jwtMHcUP"
      },
      "source": [
        ""
      ],
      "id": "NhN3jwtMHcUP",
      "execution_count": null,
      "outputs": []
    },
    {
      "cell_type": "code",
      "metadata": {
        "id": "yWF8USBvHcXM"
      },
      "source": [
        ""
      ],
      "id": "yWF8USBvHcXM",
      "execution_count": null,
      "outputs": []
    },
    {
      "cell_type": "code",
      "metadata": {
        "id": "W-kec3O-HcaX"
      },
      "source": [
        ""
      ],
      "id": "W-kec3O-HcaX",
      "execution_count": null,
      "outputs": []
    },
    {
      "cell_type": "code",
      "metadata": {
        "id": "waPr20YTHcdd"
      },
      "source": [
        ""
      ],
      "id": "waPr20YTHcdd",
      "execution_count": null,
      "outputs": []
    },
    {
      "cell_type": "code",
      "metadata": {
        "id": "ccb5nmeXHcgU"
      },
      "source": [
        ""
      ],
      "id": "ccb5nmeXHcgU",
      "execution_count": null,
      "outputs": []
    },
    {
      "cell_type": "code",
      "metadata": {
        "id": "Zk0-ExpGHcjf"
      },
      "source": [
        ""
      ],
      "id": "Zk0-ExpGHcjf",
      "execution_count": null,
      "outputs": []
    },
    {
      "cell_type": "code",
      "metadata": {
        "id": "JkxekHdtHcmO"
      },
      "source": [
        ""
      ],
      "id": "JkxekHdtHcmO",
      "execution_count": null,
      "outputs": []
    },
    {
      "cell_type": "code",
      "metadata": {
        "id": "JCTC8-XYD1Q5"
      },
      "source": [
        ""
      ],
      "id": "JCTC8-XYD1Q5",
      "execution_count": null,
      "outputs": []
    },
    {
      "cell_type": "code",
      "metadata": {
        "id": "dhCs_k0YD1Tn"
      },
      "source": [
        ""
      ],
      "id": "dhCs_k0YD1Tn",
      "execution_count": null,
      "outputs": []
    },
    {
      "cell_type": "code",
      "metadata": {
        "id": "Y_LqFk8_D1WZ"
      },
      "source": [
        ""
      ],
      "id": "Y_LqFk8_D1WZ",
      "execution_count": null,
      "outputs": []
    },
    {
      "cell_type": "code",
      "metadata": {
        "id": "TZq7dUmzCMlS"
      },
      "source": [
        ""
      ],
      "id": "TZq7dUmzCMlS",
      "execution_count": null,
      "outputs": []
    },
    {
      "cell_type": "code",
      "metadata": {
        "id": "w5HngxkSCMoG"
      },
      "source": [
        ""
      ],
      "id": "w5HngxkSCMoG",
      "execution_count": null,
      "outputs": []
    }
  ]
}