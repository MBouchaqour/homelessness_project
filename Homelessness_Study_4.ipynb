{
  "nbformat": 4,
  "nbformat_minor": 5,
  "metadata": {
    "kernelspec": {
      "display_name": "Python 3",
      "language": "python",
      "name": "python3"
    },
    "language_info": {
      "codemirror_mode": {
        "name": "ipython",
        "version": 3
      },
      "file_extension": ".py",
      "mimetype": "text/x-python",
      "name": "python",
      "nbconvert_exporter": "python",
      "pygments_lexer": "ipython3",
      "version": "3.8.5"
    },
    "colab": {
      "name": "Homelessness_Study_4.ipynb",
      "provenance": [],
      "collapsed_sections": []
    }
  },
  "cells": [
    {
      "cell_type": "markdown",
      "source": [
        "### Homeless Not Hopeless ###\n",
        "\n",
        "- Data Source:\n",
        "  - Housing Availability and Affordability:\n",
        "    - Monthly Rent Data/Runting in Burdern/Median Income: https://data.cccnewyork.org/\n",
        "\n",
        "    - Children in Shelter: https://data.cccnewyork.org/data\n",
        "\n",
        "- Project Description: In this project, homelessness_study, We used data from different sources to check why homelessness is getting worse within NYC. There are many facts that are impacting the homelessness phenomena such as:\n",
        "    - The increasing price of renting\n",
        "    - Housing is STILL not affordable\n",
        "    - Median Income of Renters: $34,255\n",
        "    - Average 2- Bedroom Rent: $1,651\n",
        "    - Income to afford that rent: $59,430\n",
        "    - Other facts\n"
      ],
      "metadata": {
        "id": "RbQLdC-97K-B"
      },
      "id": "RbQLdC-97K-B"
    },
    {
      "cell_type": "markdown",
      "source": [
        "## Libraries"
      ],
      "metadata": {
        "id": "Z85j4aqC-RTU"
      },
      "id": "Z85j4aqC-RTU"
    },
    {
      "cell_type": "code",
      "source": [
        "import pandas as pd\n",
        "import numpy as np\n",
        "# Visualizing time series data\n",
        "import matplotlib.pyplot as plt\n",
        "import seaborn as sns\n",
        "sns.set(rc={'figure.figsize':(11, 4)})\n",
        "import matplotlib.dates as mdates\n",
        "\n",
        "%matplotlib inline \n",
        "import scipy.stats as stats\n",
        "import re"
      ],
      "metadata": {
        "id": "dAqFFYnr7H5N"
      },
      "id": "dAqFFYnr7H5N",
      "execution_count": null,
      "outputs": []
    },
    {
      "cell_type": "markdown",
      "source": [
        "## An Overview of Monthly Rent Data\n",
        "- What are the minimum and maximum people can afford to pay for rent"
      ],
      "metadata": {
        "id": "RMP8E90yOZZW"
      },
      "id": "RMP8E90yOZZW"
    },
    {
      "cell_type": "code",
      "source": [
        "#If you want to upload the files into your google colab use this code: \n",
        "# from google.colab import files\n",
        "# uploaded=files.upload()\n",
        "# Median Monthly Rent\n",
        "# path1='/content/Median Monthly Rent.csv'\n",
        "# #Creating dataframe\n",
        "# df=pd.read_csv(path1, skiprows=5)\n",
        "# df.head(5)"
      ],
      "metadata": {
        "id": "urtq1lhPPQn5"
      },
      "id": "urtq1lhPPQn5",
      "execution_count": null,
      "outputs": []
    },
    {
      "cell_type": "code",
      "source": [
        "!curl https://raw.githubusercontent.com/MBouchaqour/homelessness_project/main/data/rent/Median%20Monthly%20Rent.csv -o monthly_rent.csv\n"
      ],
      "metadata": {
        "id": "IEE2mmih06UG"
      },
      "id": "IEE2mmih06UG",
      "execution_count": null,
      "outputs": []
    },
    {
      "cell_type": "code",
      "source": [
        "df=pd.read_csv(\"monthly_rent.csv\")\n",
        "df.head(5)"
      ],
      "metadata": {
        "id": "lxIoKwNw1bZ3"
      },
      "id": "lxIoKwNw1bZ3",
      "execution_count": null,
      "outputs": []
    },
    {
      "cell_type": "code",
      "source": [
        "#The period of data\n",
        "start_date=df['TimeFrame'].min()\n",
        "end_date=df['TimeFrame'].max()\n",
        "print(f'Data is ranged between {start_date} and {end_date}')"
      ],
      "metadata": {
        "id": "u_Xwwh_d6v08"
      },
      "id": "u_Xwwh_d6v08",
      "execution_count": null,
      "outputs": []
    },
    {
      "cell_type": "code",
      "source": [
        "#filtring locations\n",
        "target_location=['Manhattan','Queens','Staten Island','Bronx','Brooklyn']\n",
        "filter_by_location=df['Location'].isin(target_location)\n",
        "df=df[filter_by_location]\n",
        "df.head(5)"
      ],
      "metadata": {
        "id": "mCTD4fcy1c_P"
      },
      "id": "mCTD4fcy1c_P",
      "execution_count": null,
      "outputs": []
    },
    {
      "cell_type": "code",
      "source": [
        "data_info=[('Null values check: ', df.isnull().sum().sort_values(ascending=False)),\n",
        "           ('Duplicate data: ', df.duplicated().sum()), \n",
        "           ('Type: ' , df.dtypes) ]\n",
        "for item in data_info:\n",
        "  print(item[0], end='\\t')\n",
        "  print(item[1])"
      ],
      "metadata": {
        "id": "L9DCPlZX1dCB"
      },
      "id": "L9DCPlZX1dCB",
      "execution_count": null,
      "outputs": []
    },
    {
      "cell_type": "code",
      "source": [
        "pivot = df.pivot_table(\n",
        "    index=['Location'], \n",
        "    values=['Data'], \n",
        "    aggfunc='mean')\n",
        "pivot"
      ],
      "metadata": {
        "id": "JnPC5QK021C3"
      },
      "id": "JnPC5QK021C3",
      "execution_count": null,
      "outputs": []
    },
    {
      "cell_type": "code",
      "source": [
        "# colours = [\"green\", \"red\", \"purple\", \"blue\", \"orange\" ]\n",
        "pivot.plot(kind='bar', colormap='Paired')\n",
        "plt.title(\"Monthly Median Rent By Boroughs\")\n",
        "plt.xlabel(\"Boroughs\")\n",
        "plt.ylabel(\"Monthly Median Rent\")\n",
        "plt.show()"
      ],
      "metadata": {
        "id": "FSfvk6jA6OnX"
      },
      "id": "FSfvk6jA6OnX",
      "execution_count": null,
      "outputs": []
    },
    {
      "cell_type": "markdown",
      "source": [
        "* The graph above shows that Manhattan is the leading borough when it comes to higher renting price, while Bronx, is still considered the lower renting price."
      ],
      "metadata": {
        "id": "SHy_WjGs8dj0"
      },
      "id": "SHy_WjGs8dj0"
    },
    {
      "cell_type": "code",
      "source": [
        "plt.scatter(df['TimeFrame'],df['Data'])\n",
        "\n",
        "plt.title(\"The increasing price in rent with time\")\n",
        "plt.xlabel('Years')\n",
        "plt.ylabel('Rent Pricing')\n",
        "plt.show()"
      ],
      "metadata": {
        "id": "jRZ8s1av21F4"
      },
      "id": "jRZ8s1av21F4",
      "execution_count": null,
      "outputs": []
    },
    {
      "cell_type": "markdown",
      "source": [
        "* According to data, we may infer that the renting price is getting higher year after year and that may increase the homelesseness"
      ],
      "metadata": {
        "id": "zlHD-q-X7cGj"
      },
      "id": "zlHD-q-X7cGj"
    },
    {
      "cell_type": "markdown",
      "source": [
        "## Renting in Burden: How much percentage people in low income are paying for rent."
      ],
      "metadata": {
        "id": "mPyFwxV6zwZA"
      },
      "id": "mPyFwxV6zwZA"
    },
    {
      "cell_type": "code",
      "source": [
        "#Working locally from google colab us this code\n",
        "# from google.colab import files\n",
        "# uploaded=files.upload()\n",
        "# # Renting in Burden\n",
        "# path1='/content/Severe Rent Burden.csv'\n",
        "# #Creating dataframe\n",
        "# df_2=pd.read_csv(path1, skiprows=5)\n",
        "# df_2.head(5)"
      ],
      "metadata": {
        "id": "nqWPealTzvUP"
      },
      "id": "nqWPealTzvUP",
      "execution_count": null,
      "outputs": []
    },
    {
      "cell_type": "code",
      "source": [
        "!curl https://raw.githubusercontent.com/MBouchaqour/homelessness_project/main/data/rent/Severe%20Rent%20Burden.csv -o severe_rent_burden.csv\n"
      ],
      "metadata": {
        "id": "EVlphpKQ2eLG"
      },
      "id": "EVlphpKQ2eLG",
      "execution_count": null,
      "outputs": []
    },
    {
      "cell_type": "code",
      "source": [
        "df_2=pd.read_csv(\"severe_rent_burden.csv\")\n",
        "df_2.head(5)"
      ],
      "metadata": {
        "id": "2PwQIZb93BhH"
      },
      "id": "2PwQIZb93BhH",
      "execution_count": null,
      "outputs": []
    },
    {
      "cell_type": "code",
      "source": [
        "#filtring locations\n",
        "target_location=['Manhattan','Queens','Staten Island','Bronx','Brooklyn']\n",
        "filter_by_location=df_2['Location'].isin(target_location)\n",
        "df_2=df_2[filter_by_location]\n",
        "df_2.head(5)"
      ],
      "metadata": {
        "id": "iOV9t-Wn0spP"
      },
      "id": "iOV9t-Wn0spP",
      "execution_count": null,
      "outputs": []
    },
    {
      "cell_type": "code",
      "source": [
        "data_info=[('Null values check: ', df_2.isnull().sum().sort_values(ascending=False)),\n",
        "           ('Duplicate data: ', df_2.duplicated().sum()), \n",
        "           ('Type: ' , df_2.dtypes) ]\n",
        "for item in data_info:\n",
        "  print(item[0], end='\\t')\n",
        "  print(item[1])"
      ],
      "metadata": {
        "id": "lVKhD4j-0sse"
      },
      "id": "lVKhD4j-0sse",
      "execution_count": null,
      "outputs": []
    },
    {
      "cell_type": "code",
      "source": [
        "dt={\n",
        "    'Location':df_2['Location'],\n",
        "    'AverageIncome%':(df_2['Data']).round(2)\n",
        "}\n",
        "data_frame=pd.DataFrame.from_dict(dt)\n",
        "pivot = data_frame.pivot_table(\n",
        "    index=['Location'], \n",
        "    values=['AverageIncome%'], \n",
        "    aggfunc='mean')\n",
        "pivot\n"
      ],
      "metadata": {
        "id": "CsBXgK8y0swV"
      },
      "id": "CsBXgK8y0swV",
      "execution_count": null,
      "outputs": []
    },
    {
      "cell_type": "code",
      "source": [
        "#This code is for comparing the income with how much spending on rent our data is table_income\n",
        "table_per_income=pivot.reset_index()\n",
        "table_per_income.style.format({'AverageIncome%': \"{:.2%}\"})"
      ],
      "metadata": {
        "id": "KaZC2J8RebbQ"
      },
      "id": "KaZC2J8RebbQ",
      "execution_count": null,
      "outputs": []
    },
    {
      "cell_type": "markdown",
      "source": [
        "* Hosehold who lives In boroughs except Manhattan are paying almsot 28% from their income to rent. An example of this will be as the followin: \n",
        "If an individual has income of $25,000 a year, and lives in Brookly, they will be paying at least $7000 just for rent, the remaining will be $18,000. However, most of people who are more likely homeless, their income is either 0 or less than $1000 a year. The next data will further investigate this point. "
      ],
      "metadata": {
        "id": "cBDRMLGM6b80"
      },
      "id": "cBDRMLGM6b80"
    },
    {
      "cell_type": "markdown",
      "source": [
        "# Median Income data"
      ],
      "metadata": {
        "id": "a7HDsXnrBDQr"
      },
      "id": "a7HDsXnrBDQr"
    },
    {
      "cell_type": "code",
      "source": [
        "#using googl colab use this code:\n",
        "# from google.colab import files\n",
        "# uploaded=files.upload()\n",
        "# # Median Income\n",
        "# path1='/content/Median Incomes.csv'\n",
        "# #Creating dataframe\n",
        "# df_3=pd.read_csv(path1, skiprows=5)\n",
        "# df_3.head(5)"
      ],
      "metadata": {
        "id": "Kz5ow8uh0s2Y"
      },
      "id": "Kz5ow8uh0s2Y",
      "execution_count": null,
      "outputs": []
    },
    {
      "cell_type": "code",
      "source": [
        "!curl https://raw.githubusercontent.com/MBouchaqour/homelessness_project/main/data/income/Median%20Incomes.csv -o median_income.csv"
      ],
      "metadata": {
        "id": "OJY0YyhL3UGr"
      },
      "id": "OJY0YyhL3UGr",
      "execution_count": null,
      "outputs": []
    },
    {
      "cell_type": "code",
      "source": [
        "df_3=pd.read_csv(\"median_income.csv\")\n",
        "df_3.head(5)"
      ],
      "metadata": {
        "id": "P3d6sHTS0s5Q"
      },
      "id": "P3d6sHTS0s5Q",
      "execution_count": null,
      "outputs": []
    },
    {
      "cell_type": "code",
      "source": [
        "#filtring locations\n",
        "target_location=['Manhattan','Queens','Staten Island','Bronx','Brooklyn']\n",
        "filter_by_location=df_3['Location'].isin(target_location)\n",
        "df_3=df_3[filter_by_location]\n",
        "df_3.tail(5)"
      ],
      "metadata": {
        "id": "gNSADPl_BmuF"
      },
      "id": "gNSADPl_BmuF",
      "execution_count": null,
      "outputs": []
    },
    {
      "cell_type": "code",
      "source": [
        "print('Null values: ', df_3.isnull().sum().sort_values(ascending=False))\n",
        "print()\n",
        "print(\"Duplicate: \", df_3.duplicated().sum())\n",
        "print()\n",
        "print('Data type: ', df_3.dtypes)"
      ],
      "metadata": {
        "id": "qWobJUxIEeam"
      },
      "id": "qWobJUxIEeam",
      "execution_count": null,
      "outputs": []
    },
    {
      "cell_type": "code",
      "source": [
        "df_3['Data'] = df_3['Data'] .astype(float)\n",
        "print('Data type: ', df_3.dtypes)"
      ],
      "metadata": {
        "id": "XxQoKBZLEmWQ"
      },
      "id": "XxQoKBZLEmWQ",
      "execution_count": null,
      "outputs": []
    },
    {
      "cell_type": "code",
      "source": [
        "pivot = df_3.pivot_table(\n",
        "    index=['Location'], \n",
        "    columns=['Household Type'],\n",
        "    values=['Data'], \n",
        "    aggfunc='median')\n",
        "pivot"
      ],
      "metadata": {
        "id": "xudNM4YrBmx_"
      },
      "id": "xudNM4YrBmx_",
      "execution_count": null,
      "outputs": []
    },
    {
      "cell_type": "code",
      "source": [
        "#This code is for comparing the income with how much spending on rent our data is table_income\n",
        "table_income=pivot.reset_index()\n",
        "Picked_cols=[('Location',                          ''),(    'Data',    'Families with Children')]\n",
        "table_income=table_income[Picked_cols]\n",
        "new_cols=['Location','Families_With_Children']\n",
        "table_income.columns=new_cols\n",
        "table_income"
      ],
      "metadata": {
        "id": "sCddaC3wcCaU"
      },
      "id": "sCddaC3wcCaU",
      "execution_count": null,
      "outputs": []
    },
    {
      "cell_type": "code",
      "source": [
        "pivot.plot()\n",
        "plt.show()"
      ],
      "metadata": {
        "id": "bC4XxB75Bm3M"
      },
      "id": "bC4XxB75Bm3M",
      "execution_count": null,
      "outputs": []
    },
    {
      "cell_type": "markdown",
      "source": [
        "* We should consider that the lower income occurs in Bronx, with Families with Children in roughly $37,000. In the next dataset we will investigate children in the shelter."
      ],
      "metadata": {
        "id": "-3RnZ81XF1Nu"
      },
      "id": "-3RnZ81XF1Nu"
    },
    {
      "cell_type": "code",
      "source": [
        "# Investigating income based on year\n",
        "def get_location(loc, data=df_3):\n",
        "  cond=df_3['Location']==loc\n",
        "  gp=df_3[cond]\n",
        "  return gp"
      ],
      "metadata": {
        "id": "fpo_vl96mlP4"
      },
      "id": "fpo_vl96mlP4",
      "execution_count": null,
      "outputs": []
    },
    {
      "cell_type": "code",
      "source": [
        "#choose the location\n",
        "data=get_location('Bronx')\n",
        "\n",
        "#See the pattern\n",
        "plt.scatter(data['TimeFrame'],data['Data'])\n",
        "plt.xlabel('Bronx')\n",
        "plt.ylabel('Median Income')\n",
        "plt.show()"
      ],
      "metadata": {
        "id": "nzgX1AklmqVx"
      },
      "id": "nzgX1AklmqVx",
      "execution_count": null,
      "outputs": []
    },
    {
      "cell_type": "markdown",
      "source": [
        "* Some more investigation regarding the income and how much goes for rent"
      ],
      "metadata": {
        "id": "e3l-uTqighTC"
      },
      "id": "e3l-uTqighTC"
    },
    {
      "cell_type": "code",
      "source": [
        "#Mergin the two dataframes table_income and table_per_income\n",
        "merged_income_percentage = pd.merge(table_income, table_per_income)\n",
        "merged_income_percentage['How much goes for rent']=merged_income_percentage['Families_With_Children'] * merged_income_percentage['AverageIncome%']\n",
        "merged_income_percentage"
      ],
      "metadata": {
        "id": "f09kfokzggpD"
      },
      "id": "f09kfokzggpD",
      "execution_count": null,
      "outputs": []
    },
    {
      "cell_type": "code",
      "source": [
        "cond=merged_income_percentage['Location']=='Bronx'\n",
        "data=merged_income_percentage[cond]\n",
        "# barWidth = 0.25\n",
        "# fig = plt.subplots(figsize =(12, 8))\n",
        "data.pivot(index='Location', columns=['Families_With_Children','How much goes for rent'], values=['Families_With_Children','How much goes for rent']).plot(kind='bar')\n",
        "plt.title('The difference in median icome Vs Rent')\n",
        "plt.show()"
      ],
      "metadata": {
        "id": "kBNNa784HxTM"
      },
      "id": "kBNNa784HxTM",
      "execution_count": null,
      "outputs": []
    },
    {
      "cell_type": "markdown",
      "source": [
        "## Children in Shelter"
      ],
      "metadata": {
        "id": "CPausg7D-3MS"
      },
      "id": "CPausg7D-3MS"
    },
    {
      "cell_type": "code",
      "metadata": {
        "id": "2e2f803a"
      },
      "source": [
        "DHS_Daily_Report = pd.read_csv('https://raw.githubusercontent.com/MBouchaqour/homelessness_project/main/data/DHS_Daily_Report.csv')\n",
        "DHS_Daily_Report.head(5)"
      ],
      "id": "2e2f803a",
      "execution_count": null,
      "outputs": []
    },
    {
      "cell_type": "code",
      "source": [
        "# The period we deal with is started from 2013-08-21 and end at 2021-11-03\n",
        "check_date=list(pd.date_range('2013-08-21', '2021-11-03', freq='D'))\n",
        "check_date"
      ],
      "metadata": {
        "id": "3sC3mDO-Hju1"
      },
      "id": "3sC3mDO-Hju1",
      "execution_count": null,
      "outputs": []
    },
    {
      "cell_type": "code",
      "source": [
        "current_date= list(DHS_Daily_Report.index)\n"
      ],
      "metadata": {
        "id": "M6yFoC-EJH6-"
      },
      "id": "M6yFoC-EJH6-",
      "execution_count": null,
      "outputs": []
    },
    {
      "cell_type": "code",
      "source": [
        "DHS_Daily_Report.columns"
      ],
      "metadata": {
        "id": "fUUm2vm3Kh6y"
      },
      "id": "fUUm2vm3Kh6y",
      "execution_count": null,
      "outputs": []
    },
    {
      "cell_type": "code",
      "source": [
        "DHS_Daily_Report.loc['2013']"
      ],
      "metadata": {
        "id": "ypeOTv0DKlb0"
      },
      "id": "ypeOTv0DKlb0",
      "execution_count": null,
      "outputs": []
    },
    {
      "cell_type": "code",
      "source": [
        "diff=[item for item in check_date if item not in current_date ]\n",
        "def filter_years(year,data=diff):\n",
        "  new_list=[]\n",
        "  for n in data:\n",
        "    txt=str(n)\n",
        "    if txt.find(year)!=-1:\n",
        "      new_list.append(n)\n",
        "  return new_list"
      ],
      "metadata": {
        "id": "lBmsK9VyJM4d"
      },
      "id": "lBmsK9VyJM4d",
      "execution_count": null,
      "outputs": []
    },
    {
      "cell_type": "code",
      "source": [
        "filter_years('2013')"
      ],
      "metadata": {
        "id": "zxVRKwQsN4uN"
      },
      "id": "zxVRKwQsN4uN",
      "execution_count": null,
      "outputs": []
    },
    {
      "cell_type": "code",
      "source": [
        "data={\n",
        "       'Date of Census':filter_years('2013'),\n",
        "      'Total Adults in Shelter':DHS_Daily_Report.loc['2013']['Total Adults in Shelter'].median(), \n",
        "      'Total Children in Shelter':DHS_Daily_Report.loc['2013']['Total Children in Shelter'].median(),\n",
        "       'Total Individuals in Shelter':DHS_Daily_Report.loc['2013']['Total Individuals in Shelter'].median(), \n",
        "      'Single Adult Men in Shelter':DHS_Daily_Report.loc['2013']['Single Adult Men in Shelter'].median(),\n",
        "       'Single Adult Women in Shelter':DHS_Daily_Report.loc['2013']['Single Adult Women in Shelter'].median(), \n",
        "      'Total Single Adults in Shelter':DHS_Daily_Report.loc['2013']['Total Adults in Shelter'].median(),\n",
        "       'Families with Children in Shelter':DHS_Daily_Report.loc['2013']['Families with Children in Shelter'].median(),\n",
        "       'Adults in Families with Children in Shelter':DHS_Daily_Report.loc['2013']['Adults in Families with Children in Shelter'].median(),\n",
        "       'Children in Families with Children in Shelter':DHS_Daily_Report.loc['2013']['Children in Families with Children in Shelter'].median(),\n",
        "       'Total Individuals in Families with Children in Shelter ':DHS_Daily_Report.loc['2013']['Total Individuals in Families with Children in Shelter '].median(),\n",
        "       'Adult Families in Shelter':DHS_Daily_Report.loc['2013']['Adult Families in Shelter'].median(), \n",
        "      'Individuals in Adult Families in Shelter':DHS_Daily_Report.loc['2013']['Individuals in Adult Families in Shelter'].median()\n",
        "      \n",
        "}\n",
        "\n"
      ],
      "metadata": {
        "id": "or9XeUhoOlC7"
      },
      "id": "or9XeUhoOlC7",
      "execution_count": null,
      "outputs": []
    },
    {
      "cell_type": "code",
      "source": [
        ""
      ],
      "metadata": {
        "id": "NR3abOajOlFz"
      },
      "id": "NR3abOajOlFz",
      "execution_count": null,
      "outputs": []
    },
    {
      "cell_type": "code",
      "source": [
        ""
      ],
      "metadata": {
        "id": "5A2rBaVjOlIp"
      },
      "id": "5A2rBaVjOlIp",
      "execution_count": null,
      "outputs": []
    },
    {
      "cell_type": "code",
      "source": [
        ""
      ],
      "metadata": {
        "id": "JDU8pX00OlLq"
      },
      "id": "JDU8pX00OlLq",
      "execution_count": null,
      "outputs": []
    },
    {
      "cell_type": "code",
      "source": [
        ""
      ],
      "metadata": {
        "id": "Obs-yK07OlOw"
      },
      "id": "Obs-yK07OlOw",
      "execution_count": null,
      "outputs": []
    },
    {
      "cell_type": "code",
      "source": [
        ""
      ],
      "metadata": {
        "id": "smXUjv-eOlSB"
      },
      "id": "smXUjv-eOlSB",
      "execution_count": null,
      "outputs": []
    },
    {
      "cell_type": "code",
      "source": [
        ""
      ],
      "metadata": {
        "id": "eaE-V7sDOlUd"
      },
      "id": "eaE-V7sDOlUd",
      "execution_count": null,
      "outputs": []
    },
    {
      "cell_type": "code",
      "source": [
        ""
      ],
      "metadata": {
        "id": "L6uEenKuOlXc"
      },
      "id": "L6uEenKuOlXc",
      "execution_count": null,
      "outputs": []
    },
    {
      "cell_type": "code",
      "source": [
        ""
      ],
      "metadata": {
        "id": "ewqT6rfyOlaR"
      },
      "id": "ewqT6rfyOlaR",
      "execution_count": null,
      "outputs": []
    },
    {
      "cell_type": "code",
      "source": [
        ""
      ],
      "metadata": {
        "id": "VMx0kb_-OldN"
      },
      "id": "VMx0kb_-OldN",
      "execution_count": null,
      "outputs": []
    },
    {
      "cell_type": "code",
      "metadata": {
        "id": "ff0606f4"
      },
      "source": [
        "print(\"data shape: \", DHS_Daily_Report.shape)\n",
        "print(\"Date type: \", DHS_Daily_Report.dtypes)"
      ],
      "id": "ff0606f4",
      "execution_count": null,
      "outputs": []
    },
    {
      "cell_type": "code",
      "metadata": {
        "id": "vc2E-VoxCMW3"
      },
      "source": [
        "#changing the date from object to date\n",
        "DHS_Daily_Report['Date of Census']=pd.to_datetime(DHS_Daily_Report['Date of Census'])\n",
        "DHS_Daily_Report.dtypes"
      ],
      "id": "vc2E-VoxCMW3",
      "execution_count": null,
      "outputs": []
    },
    {
      "cell_type": "code",
      "source": [
        "DHS_Daily_Report.sort_values(by=['Date of Census'], inplace=True)\n",
        "DHS_Daily_Report.head(5)"
      ],
      "metadata": {
        "id": "7zhHcAwnECA-"
      },
      "id": "7zhHcAwnECA-",
      "execution_count": null,
      "outputs": []
    },
    {
      "cell_type": "code",
      "metadata": {
        "id": "ny0VhGyfHb6N"
      },
      "source": [
        "DHS_Daily_Report.isnull().sum() # checking for missing data"
      ],
      "id": "ny0VhGyfHb6N",
      "execution_count": null,
      "outputs": []
    },
    {
      "cell_type": "code",
      "metadata": {
        "id": "SajeSbJ6Hb9B"
      },
      "source": [
        "# Cheking for duplicate data\n",
        "n_dupes=DHS_Daily_Report.duplicated().sum()\n",
        "print(\"Number of duplicate rows are %i.\" % n_dupes)"
      ],
      "id": "SajeSbJ6Hb9B",
      "execution_count": null,
      "outputs": []
    },
    {
      "cell_type": "code",
      "metadata": {
        "id": "LAVjM6sUHb_8"
      },
      "source": [
        "#check this one\n",
        "dupplicate=DHS_Daily_Report[DHS_Daily_Report.duplicated()]\n",
        "dupplicate"
      ],
      "id": "LAVjM6sUHb_8",
      "execution_count": null,
      "outputs": []
    },
    {
      "cell_type": "code",
      "source": [
        "cond=DHS_Daily_Report['Date of Census']==\"2021-10-21\"\n",
        "DHS_Daily_Report[cond]"
      ],
      "metadata": {
        "id": "JAGOkbA3pxmS"
      },
      "id": "JAGOkbA3pxmS",
      "execution_count": null,
      "outputs": []
    },
    {
      "cell_type": "code",
      "metadata": {
        "id": "O6JYx_7QHcDA"
      },
      "source": [
        "DHS_Daily_Report.drop_duplicates(inplace=True)\n",
        "n_dupes=DHS_Daily_Report.duplicated().sum()\n",
        "print(\"Number of duplicate rows are %i.\" % n_dupes)\n"
      ],
      "id": "O6JYx_7QHcDA",
      "execution_count": null,
      "outputs": []
    },
    {
      "cell_type": "code",
      "source": [
        "#getting the date period\n",
        "star_date=min(DHS_Daily_Report['Date of Census'])\n",
        "end_date=max(DHS_Daily_Report['Date of Census'])\n",
        "print(f\"The period we deal with is started from {star_date.date()} and end at {end_date.date()}\")"
      ],
      "metadata": {
        "id": "HuYrt5rLsQWv"
      },
      "id": "HuYrt5rLsQWv",
      "execution_count": null,
      "outputs": []
    },
    {
      "cell_type": "code",
      "source": [
        "#indexing the data by date and creating 3 columns\n",
        "DHS_Daily_Report=DHS_Daily_Report.set_index('Date of Census')\n",
        "DHS_Daily_Report['Year'] = DHS_Daily_Report.index.year\n",
        "DHS_Daily_Report['Month'] = DHS_Daily_Report.index.month_name()\n",
        "DHS_Daily_Report['Weekday_Name'] = DHS_Daily_Report.index.day_name()"
      ],
      "metadata": {
        "id": "sfbOUJFMsDhd"
      },
      "id": "sfbOUJFMsDhd",
      "execution_count": null,
      "outputs": []
    },
    {
      "cell_type": "code",
      "source": [
        "  #Target variables\n",
        "Childrens=['Total Children in Shelter','Families with Children in Shelter']\n",
        "Adults=['Total Adults in Shelter','Single Adult Men in Shelter']\n",
        "Individuals=['Total Individuals in Shelter','Individuals in Adult Families in Shelter']"
      ],
      "metadata": {
        "id": "d31rD08oyqiy"
      },
      "id": "d31rD08oyqiy",
      "execution_count": null,
      "outputs": []
    },
    {
      "cell_type": "code",
      "source": [
        "def slicing_Data(group, period, data=DHS_Daily_Report):\n",
        "  try:\n",
        "  #collecting the target group\n",
        "    Childrens=['Total Children in Shelter','Families with Children in Shelter']\n",
        "    Adults=['Total Adults in Shelter','Single Adult Men in Shelter']\n",
        "    Individuals=['Total Individuals in Shelter','Individuals in Adult Families in Shelter']\n",
        "    if group=='Childrens':\n",
        "      group=Childrens[:]\n",
        "    elif group=='Adults':\n",
        "      group=Adults[:]\n",
        "    elif group=='Individuals':\n",
        "      group=Individuals[:]\n",
        "    else:\n",
        "      return 'Type does not exist'\n",
        "    if period not in [\"Year\", \"Month\", \"Weekday_Name\"]:\n",
        "      return 'You picked a wrong Period'\n",
        "    group.append(period)\n",
        "    df_table=data[group]\n",
        "    return df_table\n",
        "  except:\n",
        "    print('An error occurs while we respond to your request')"
      ],
      "metadata": {
        "id": "w1sCX5acxOCe"
      },
      "id": "w1sCX5acxOCe",
      "execution_count": null,
      "outputs": []
    },
    {
      "cell_type": "code",
      "source": [
        "#slcing data by Year, Month, Weekday_Name /// Childrens/ Adults /// Individuals\n",
        "table=slicing_Data(\"Childrens\",\"Year\")\n",
        "table"
      ],
      "metadata": {
        "id": "j8-oalWZs5tt"
      },
      "id": "j8-oalWZs5tt",
      "execution_count": null,
      "outputs": []
    },
    {
      "cell_type": "code",
      "source": [
        "table.filter(\n",
        "    items=['Total Children in Shelter','Families with Children in Shelter']\n",
        ").plot()\n",
        "plt.show()"
      ],
      "metadata": {
        "id": "jhD9tBQ5ASXh"
      },
      "id": "jhD9tBQ5ASXh",
      "execution_count": null,
      "outputs": []
    },
    {
      "cell_type": "markdown",
      "source": [
        "* As we can see from the graph, there is a huge drop regarding the number of children in the Shelter. We can't really infer anything. It may be a good or bad sign to see that dropping occurs:\n",
        "As a good interpretation: We may say that childrens are out of shelter and they moved to somewhere else or to houses where they will have normal life.\n",
        "Bad interpretation: We can say that children moved to outddor/street and that occurs because of the bad situation in the shelter (probably not safe), they were encoraged by the weather (When it hot outside families/childrens step out of the shelter). "
      ],
      "metadata": {
        "id": "wGNsvCmow_6F"
      },
      "id": "wGNsvCmow_6F"
    },
    {
      "cell_type": "code",
      "source": [
        "# Activate this function after you create the table:\n",
        "#This function return a pivot table\n",
        "def pivote_table(group, period, data=table):\n",
        "  Childrens=['Total Children in Shelter','Families with Children in Shelter']\n",
        "  Adults=['Total Adults in Shelter','Single Adult Men in Shelter']\n",
        "  Individuals=['Total Individuals in Shelter','Individuals in Adult Families in Shelter']\n",
        "  if group=='Childrens':\n",
        "    group=Childrens[:]\n",
        "  elif group=='Adults':\n",
        "    group=Adults[:]\n",
        "  elif group=='Individuals':\n",
        "    group=Individuals[:]\n",
        "  else:\n",
        "    return 'Type does not exist'\n",
        "  pivot=table.pivot_table(index=period,values=group,aggfunc='sum', margins=True)\n",
        "  return pivot"
      ],
      "metadata": {
        "id": "WOc2Od_mb4CX"
      },
      "id": "WOc2Od_mb4CX",
      "execution_count": null,
      "outputs": []
    },
    {
      "cell_type": "code",
      "source": [
        "#making sure you pick the same period (Year/Month/Day) as the table above\n",
        "pivot =pivote_table(\"Childrens\",\"Year\")\n",
        "pivot\n"
      ],
      "metadata": {
        "id": "F2sa62aivI7A"
      },
      "id": "F2sa62aivI7A",
      "execution_count": null,
      "outputs": []
    },
    {
      "cell_type": "code",
      "source": [
        "#graphing the pivot table\n",
        "# new_pivot=pivot.reset_index()\n",
        "pivot.plot(kind='bar')\n",
        "plt.show()"
      ],
      "metadata": {
        "id": "axBgRLCW8cO0"
      },
      "id": "axBgRLCW8cO0",
      "execution_count": null,
      "outputs": []
    },
    {
      "cell_type": "markdown",
      "source": [
        "* This graph tells us that the number of children that enters to shelter increased in 2021. We will investigate this case further. "
      ],
      "metadata": {
        "id": "y3s-0_q7y9lN"
      },
      "id": "y3s-0_q7y9lN"
    },
    {
      "cell_type": "code",
      "source": [
        "#Intro to Time series\n",
        "#Checking the differences between entries children for each day/date\n",
        "\n",
        "new_table=table.iloc[:,0:2]\n",
        "new_table.columns=['Total', 'T_familes']\n",
        "new_table['Difference']=new_table.eval('Total - T_familes')\n",
        "new_table"
      ],
      "metadata": {
        "id": "rTgh63qiMUzQ"
      },
      "id": "rTgh63qiMUzQ",
      "execution_count": null,
      "outputs": []
    },
    {
      "cell_type": "code",
      "source": [
        "# date is ranged from 2013-08-21 and  2021-11-03\n",
        "ax1 = new_table.loc['2021-8':'2021-9', 'Difference']\n",
        "ax1.plot(linewidth=2.5)"
      ],
      "metadata": {
        "id": "v6S5C8b5EkZq"
      },
      "id": "v6S5C8b5EkZq",
      "execution_count": null,
      "outputs": []
    },
    {
      "cell_type": "markdown",
      "source": [
        "* The increas we see in the begening of 2021 is more detailed within the graph above. We've seen a huge drop again from Jan to July: This happened because families/childrens decided first to back to shelter then they started leaving shelters. From July to September we saw almost no change, then some increasing happaned again starting from Sept.  "
      ],
      "metadata": {
        "id": "LUX7rUjO0Rc_"
      },
      "id": "LUX7rUjO0Rc_"
    },
    {
      "cell_type": "code",
      "source": [
        "#Rolling over July to November\n",
        "#Change period you wanted to investigate further in above function \n",
        "ax = ax1.plot(alpha=0.30)\n",
        "ax1.rolling(5).mean().plot(ax=ax)\n",
        "ax.legend([\"2021\",\"Rolling Mean\"])"
      ],
      "metadata": {
        "id": "QyYwows9Fn0K"
      },
      "id": "QyYwows9Fn0K",
      "execution_count": null,
      "outputs": []
    },
    {
      "cell_type": "code",
      "source": [
        "#An overview of what is happening\n",
        "new_table.plot()\n",
        "plt.ylabel('Yearly children in Shelter');"
      ],
      "metadata": {
        "id": "RugI2INtTRBZ"
      },
      "id": "RugI2INtTRBZ",
      "execution_count": null,
      "outputs": []
    },
    {
      "cell_type": "code",
      "source": [
        "#QS stands for Quarter Start\n",
        "#MS Month Start\n",
        "#BA stands for Business year end\n",
        "# Q\tQuarter end\n",
        "\n",
        "#Resampling and checking the change in the graph\n",
        "Monthly = new_table.resample('BA').mean()\n",
        "Monthly.plot(style=[':', '--', '-'])\n",
        "plt.ylabel('Monthly children in Shelter');"
      ],
      "metadata": {
        "id": "-KLguG7vOBLr"
      },
      "id": "-KLguG7vOBLr",
      "execution_count": null,
      "outputs": []
    },
    {
      "cell_type": "code",
      "source": [
        "#Rooling data\n",
        "daily = new_table.resample('Q').sum()\n",
        "daily.rolling(1, center=True).sum().plot(style=[':', '--', '-'])\n",
        "plt.ylabel('mean hourly count');"
      ],
      "metadata": {
        "id": "ONrgr5lxGq0t"
      },
      "id": "ONrgr5lxGq0t",
      "execution_count": null,
      "outputs": []
    },
    {
      "cell_type": "code",
      "metadata": {
        "id": "O9xTa5gKOhW_"
      },
      "source": [
        "#More details in data\n",
        "#requesting data by date1:date2\n",
        "def data_time_base(given_date,col=DHS_Daily_Report.columns,data=DHS_Daily_Report):\n",
        "  if given_date.find(\":\")!=-1:\n",
        "    arrange_date=given_date.split(\":\")\n",
        "    if date_exist(arrange_date[0]) and date_exist(arrange_date[1]):\n",
        "      return data.loc[arrange_date[0]:arrange_date[1]][col]\n",
        "  \n",
        "  elif given_date in data.index:\n",
        "    return data.loc[given_date][col]\n",
        "  else:\n",
        "    return 'Wrong date or not exist in data'"
      ],
      "id": "O9xTa5gKOhW_",
      "execution_count": null,
      "outputs": []
    },
    {
      "cell_type": "code",
      "metadata": {
        "id": "lj5GJ7VyaZUN"
      },
      "source": [
        "#Check if the date exist in data\n",
        "def date_exist(given_date,data=DHS_Daily_Report.index):\n",
        "  if given_date in data:\n",
        "    return True\n",
        "  else:\n",
        "    return False"
      ],
      "id": "lj5GJ7VyaZUN",
      "execution_count": null,
      "outputs": []
    },
    {
      "cell_type": "code",
      "metadata": {
        "id": "Yiko22MTYWEc"
      },
      "source": [
        "#Picking up some specific period within the dataset\n",
        "reques_date=data_time_base('2021-7:2021-11','Total Children in Shelter')\n",
        "reques_date.plot()\n",
        "plt.show()"
      ],
      "id": "Yiko22MTYWEc",
      "execution_count": null,
      "outputs": []
    },
    {
      "cell_type": "markdown",
      "source": [
        "* Roughly speaking, in the year 2020, from July to november, we see a decreasing in number of children in shelters. In contrast, in other years, 2013 up to 2019 including the year 2021, we see the same pattern which is increasing in the numbers the children entering the shelters.  "
      ],
      "metadata": {
        "id": "O8kxFuFI8JH7"
      },
      "id": "O8kxFuFI8JH7"
    },
    {
      "cell_type": "code",
      "source": [
        "reques_date=data_time_base('2021-07: 2021-11','Total Children in Shelter')"
      ],
      "metadata": {
        "id": "QPInJXjSC2ES"
      },
      "id": "QPInJXjSC2ES",
      "execution_count": null,
      "outputs": []
    },
    {
      "cell_type": "code",
      "source": [
        "reques_date.plot()\n",
        "plt.show()"
      ],
      "metadata": {
        "id": "EPiwMGkIElpB"
      },
      "id": "EPiwMGkIElpB",
      "execution_count": null,
      "outputs": []
    },
    {
      "cell_type": "code",
      "metadata": {
        "id": "xv5wsDrloRvE"
      },
      "source": [
        "cols_plot =Childrens\n",
        "axes=DHS_Daily_Report[cols_plot].plot(marker='.', alpha=0.5, linestyle='None', figsize=(11, 9), subplots=True)\n",
        "# axes = data_time_base('2020-01:2020-02',cols_plot).plot(marker='.', alpha=0.5, linestyle='None', figsize=(11, 9), subplots=True)\n",
        "for ax in axes:\n",
        "    ax.set_ylabel('Children in shelter')"
      ],
      "id": "xv5wsDrloRvE",
      "execution_count": null,
      "outputs": []
    },
    {
      "cell_type": "code",
      "metadata": {
        "id": "-DbfpcdyOhZ1"
      },
      "source": [
        "# Some visualization\n",
        "ax=data_time_base('2017','Total Children in Shelter').plot()\n",
        "ax.set_ylabel('Variance number of children in the shelter');"
      ],
      "id": "-DbfpcdyOhZ1",
      "execution_count": null,
      "outputs": []
    },
    {
      "cell_type": "code",
      "metadata": {
        "id": "FclwYqL5yD8i"
      },
      "source": [
        "ax =data_time_base('2017-01:2017-02','Total Children in Shelter').plot(marker='o', linestyle='-')\n",
        "ax.set_ylabel('Variance number of children in the shelter');"
      ],
      "id": "FclwYqL5yD8i",
      "execution_count": null,
      "outputs": []
    },
    {
      "cell_type": "markdown",
      "source": [
        ""
      ],
      "metadata": {
        "id": "4d3wbAYp_VAq"
      },
      "id": "4d3wbAYp_VAq"
    },
    {
      "cell_type": "code",
      "metadata": {
        "id": "HPL5IXmBOhcX"
      },
      "source": [
        ""
      ],
      "id": "HPL5IXmBOhcX",
      "execution_count": null,
      "outputs": []
    },
    {
      "cell_type": "code",
      "metadata": {
        "id": "mC3M19naoR02"
      },
      "source": [
        ""
      ],
      "id": "mC3M19naoR02",
      "execution_count": null,
      "outputs": []
    },
    {
      "cell_type": "code",
      "metadata": {
        "id": "oMj9meZLoR4D"
      },
      "source": [
        ""
      ],
      "id": "oMj9meZLoR4D",
      "execution_count": null,
      "outputs": []
    },
    {
      "cell_type": "code",
      "metadata": {
        "id": "nSY58B1ToR7F"
      },
      "source": [
        ""
      ],
      "id": "nSY58B1ToR7F",
      "execution_count": null,
      "outputs": []
    },
    {
      "cell_type": "code",
      "metadata": {
        "id": "KX7u8UP7oR93"
      },
      "source": [
        ""
      ],
      "id": "KX7u8UP7oR93",
      "execution_count": null,
      "outputs": []
    },
    {
      "cell_type": "code",
      "metadata": {
        "id": "_lDLkA1ToSA3"
      },
      "source": [
        ""
      ],
      "id": "_lDLkA1ToSA3",
      "execution_count": null,
      "outputs": []
    },
    {
      "cell_type": "code",
      "metadata": {
        "id": "DXqaEpaAoSEb"
      },
      "source": [
        ""
      ],
      "id": "DXqaEpaAoSEb",
      "execution_count": null,
      "outputs": []
    },
    {
      "cell_type": "code",
      "metadata": {
        "id": "Jaa4LSlaoSIQ"
      },
      "source": [
        ""
      ],
      "id": "Jaa4LSlaoSIQ",
      "execution_count": null,
      "outputs": []
    },
    {
      "cell_type": "code",
      "metadata": {
        "id": "UdQGljbNJHLI"
      },
      "source": [
        ""
      ],
      "id": "UdQGljbNJHLI",
      "execution_count": null,
      "outputs": []
    },
    {
      "cell_type": "code",
      "metadata": {
        "id": "JzbG_OVSJHNg"
      },
      "source": [
        ""
      ],
      "id": "JzbG_OVSJHNg",
      "execution_count": null,
      "outputs": []
    },
    {
      "cell_type": "code",
      "metadata": {
        "id": "CR6fJM-qJHTh"
      },
      "source": [
        ""
      ],
      "id": "CR6fJM-qJHTh",
      "execution_count": null,
      "outputs": []
    },
    {
      "cell_type": "code",
      "metadata": {
        "id": "zv3WgGpaJHXP"
      },
      "source": [
        ""
      ],
      "id": "zv3WgGpaJHXP",
      "execution_count": null,
      "outputs": []
    },
    {
      "cell_type": "code",
      "metadata": {
        "id": "P6wCJ1ehHcI7"
      },
      "source": [
        ""
      ],
      "id": "P6wCJ1ehHcI7",
      "execution_count": null,
      "outputs": []
    },
    {
      "cell_type": "code",
      "metadata": {
        "id": "T0csnt2THcLm"
      },
      "source": [
        ""
      ],
      "id": "T0csnt2THcLm",
      "execution_count": null,
      "outputs": []
    },
    {
      "cell_type": "code",
      "metadata": {
        "id": "15SH5zfkHcRK"
      },
      "source": [
        ""
      ],
      "id": "15SH5zfkHcRK",
      "execution_count": null,
      "outputs": []
    },
    {
      "cell_type": "code",
      "metadata": {
        "id": "NhN3jwtMHcUP"
      },
      "source": [
        ""
      ],
      "id": "NhN3jwtMHcUP",
      "execution_count": null,
      "outputs": []
    },
    {
      "cell_type": "code",
      "metadata": {
        "id": "yWF8USBvHcXM"
      },
      "source": [
        ""
      ],
      "id": "yWF8USBvHcXM",
      "execution_count": null,
      "outputs": []
    },
    {
      "cell_type": "code",
      "metadata": {
        "id": "W-kec3O-HcaX"
      },
      "source": [
        ""
      ],
      "id": "W-kec3O-HcaX",
      "execution_count": null,
      "outputs": []
    },
    {
      "cell_type": "code",
      "metadata": {
        "id": "waPr20YTHcdd"
      },
      "source": [
        ""
      ],
      "id": "waPr20YTHcdd",
      "execution_count": null,
      "outputs": []
    },
    {
      "cell_type": "code",
      "metadata": {
        "id": "ccb5nmeXHcgU"
      },
      "source": [
        ""
      ],
      "id": "ccb5nmeXHcgU",
      "execution_count": null,
      "outputs": []
    },
    {
      "cell_type": "code",
      "metadata": {
        "id": "Zk0-ExpGHcjf"
      },
      "source": [
        ""
      ],
      "id": "Zk0-ExpGHcjf",
      "execution_count": null,
      "outputs": []
    },
    {
      "cell_type": "code",
      "metadata": {
        "id": "JkxekHdtHcmO"
      },
      "source": [
        ""
      ],
      "id": "JkxekHdtHcmO",
      "execution_count": null,
      "outputs": []
    },
    {
      "cell_type": "code",
      "metadata": {
        "id": "JCTC8-XYD1Q5"
      },
      "source": [
        ""
      ],
      "id": "JCTC8-XYD1Q5",
      "execution_count": null,
      "outputs": []
    },
    {
      "cell_type": "code",
      "metadata": {
        "id": "dhCs_k0YD1Tn"
      },
      "source": [
        ""
      ],
      "id": "dhCs_k0YD1Tn",
      "execution_count": null,
      "outputs": []
    },
    {
      "cell_type": "code",
      "metadata": {
        "id": "Y_LqFk8_D1WZ"
      },
      "source": [
        ""
      ],
      "id": "Y_LqFk8_D1WZ",
      "execution_count": null,
      "outputs": []
    },
    {
      "cell_type": "code",
      "metadata": {
        "id": "TZq7dUmzCMlS"
      },
      "source": [
        ""
      ],
      "id": "TZq7dUmzCMlS",
      "execution_count": null,
      "outputs": []
    },
    {
      "cell_type": "code",
      "metadata": {
        "id": "w5HngxkSCMoG"
      },
      "source": [
        ""
      ],
      "id": "w5HngxkSCMoG",
      "execution_count": null,
      "outputs": []
    }
  ]
}