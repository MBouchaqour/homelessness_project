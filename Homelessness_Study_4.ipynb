{
  "nbformat": 4,
  "nbformat_minor": 5,
  "metadata": {
    "kernelspec": {
      "display_name": "Python 3",
      "language": "python",
      "name": "python3"
    },
    "language_info": {
      "codemirror_mode": {
        "name": "ipython",
        "version": 3
      },
      "file_extension": ".py",
      "mimetype": "text/x-python",
      "name": "python",
      "nbconvert_exporter": "python",
      "pygments_lexer": "ipython3",
      "version": "3.8.5"
    },
    "colab": {
      "name": "Homelessness_Study_4.ipynb",
      "provenance": [],
      "collapsed_sections": [],
      "include_colab_link": true
    }
  },
  "cells": [
    {
      "cell_type": "markdown",
      "metadata": {
        "id": "view-in-github",
        "colab_type": "text"
      },
      "source": [
        "<a href=\"https://colab.research.google.com/github/MBouchaqour/homelessness_project/blob/main/Homelessness_Study_4.ipynb\" target=\"_parent\"><img src=\"https://colab.research.google.com/assets/colab-badge.svg\" alt=\"Open In Colab\"/></a>"
      ]
    },
    {
      "cell_type": "markdown",
      "source": [
        "### Homeless Not Hopeless ###\n",
        "\n",
        "- Data Source:\n",
        "  - Housing Availability and Affordability:\n",
        "    - Monthly Rent Data/Runting in Burdern/Median Income: https://data.cccnewyork.org/\n",
        "\n",
        "    - Children in Shelter: https://data.cccnewyork.org/data\n",
        "\n",
        "- Project Description: In this project, homelessness_study, We used data from different sources to check why homelessness is getting worse within NYC. There are many facts that are impacting the homelessness phenomena such as:\n",
        "    - The increasing price of renting\n",
        "    - Housing is STILL not affordable\n",
        "    - Median Income of Renters: $34,255\n",
        "    - Average 2- Bedroom Rent: $1,651\n",
        "    - Income to afford that rent: $59,430\n",
        "    - Other facts\n"
      ],
      "metadata": {
        "id": "RbQLdC-97K-B"
      },
      "id": "RbQLdC-97K-B"
    },
    {
      "cell_type": "markdown",
      "source": [
        "## Libraries"
      ],
      "metadata": {
        "id": "Z85j4aqC-RTU"
      },
      "id": "Z85j4aqC-RTU"
    },
    {
      "cell_type": "code",
      "source": [
        "import pandas as pd\n",
        "import numpy as np\n",
        "# Visualizing time series data\n",
        "import matplotlib.pyplot as plt\n",
        "import seaborn as sns\n",
        "sns.set(rc={'figure.figsize':(11, 4)})\n",
        "import matplotlib.dates as mdates\n",
        "\n",
        "%matplotlib inline \n",
        "import scipy.stats as stats\n",
        "import re"
      ],
      "metadata": {
        "id": "dAqFFYnr7H5N"
      },
      "id": "dAqFFYnr7H5N",
      "execution_count": 1,
      "outputs": []
    },
    {
      "cell_type": "markdown",
      "source": [
        "## An Overview of Monthly Rent Data\n",
        "- What are the minimum and maximum people can afford to pay for rent"
      ],
      "metadata": {
        "id": "RMP8E90yOZZW"
      },
      "id": "RMP8E90yOZZW"
    },
    {
      "cell_type": "code",
      "source": [
        "#If you want to upload the files into your google colab use this code: \n",
        "# from google.colab import files\n",
        "# uploaded=files.upload()\n",
        "# Median Monthly Rent\n",
        "# path1='/content/Median Monthly Rent.csv'\n",
        "# #Creating dataframe\n",
        "# df=pd.read_csv(path1, skiprows=5)\n",
        "# df.head(5)"
      ],
      "metadata": {
<<<<<<< HEAD
        "id": "urtq1lhPPQn5"
=======
        "colab": {
          "resources": {
            "http://localhost:8080/nbextensions/google.colab/files.js": {
              "data": "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",
              "ok": true,
              "headers": [
                [
                  "content-type",
                  "application/javascript"
                ]
              ],
              "status": 200,
              "status_text": ""
            }
          },
          "base_uri": "https://localhost:8080/",
          "height": 73
        },
        "id": "urtq1lhPPQn5",
        "outputId": "3e9e7f74-e63c-4d10-b907-a3b27eda8807"
>>>>>>> 8a416e602847a086291faa032f7e900c9fb337dd
      },
      "id": "urtq1lhPPQn5",
      "execution_count": null,
      "outputs": []
    },
    {
      "cell_type": "code",
      "source": [
        "!curl https://raw.githubusercontent.com/MBouchaqour/homelessness_project/main/data/rent/Median%20Monthly%20Rent.csv -o monthly_rent.csv\n"
      ],
      "metadata": {
<<<<<<< HEAD
        "id": "IEE2mmih06UG"
      },
      "id": "IEE2mmih06UG",
      "execution_count": null,
      "outputs": []
=======
        "colab": {
          "base_uri": "https://localhost:8080/"
        },
        "id": "IEE2mmih06UG",
        "outputId": "216059fd-1366-4d80-ec07-f453646485ab"
      },
      "id": "IEE2mmih06UG",
      "execution_count": 9,
      "outputs": [
        {
          "output_type": "stream",
          "name": "stdout",
          "text": [
            "  % Total    % Received % Xferd  Average Speed   Time    Time     Time  Current\n",
            "                                 Dload  Upload   Total   Spent    Left  Speed\n",
            "\r  0     0    0     0    0     0      0      0 --:--:-- --:--:-- --:--:--     0\r100 41284  100 41284    0     0   403k      0 --:--:-- --:--:-- --:--:--  403k\n"
          ]
        }
      ]
>>>>>>> 8a416e602847a086291faa032f7e900c9fb337dd
    },
    {
      "cell_type": "code",
      "source": [
        "df=pd.read_csv(\"monthly_rent.csv\")\n",
        "df.head(5)"
      ],
      "metadata": {
<<<<<<< HEAD
        "id": "lxIoKwNw1bZ3"
      },
      "id": "lxIoKwNw1bZ3",
      "execution_count": null,
      "outputs": []
=======
        "colab": {
          "base_uri": "https://localhost:8080/",
          "height": 206
        },
        "id": "lxIoKwNw1bZ3",
        "outputId": "c5c44bdd-a08c-4e25-e025-06107f18164c"
      },
      "id": "lxIoKwNw1bZ3",
      "execution_count": 11,
      "outputs": [
        {
          "output_type": "execute_result",
          "data": {
            "text/html": [
              "<div>\n",
              "<style scoped>\n",
              "    .dataframe tbody tr th:only-of-type {\n",
              "        vertical-align: middle;\n",
              "    }\n",
              "\n",
              "    .dataframe tbody tr th {\n",
              "        vertical-align: top;\n",
              "    }\n",
              "\n",
              "    .dataframe thead th {\n",
              "        text-align: right;\n",
              "    }\n",
              "</style>\n",
              "<table border=\"1\" class=\"dataframe\">\n",
              "  <thead>\n",
              "    <tr style=\"text-align: right;\">\n",
              "      <th></th>\n",
              "      <th>Location</th>\n",
              "      <th>TimeFrame</th>\n",
              "      <th>DataFormat</th>\n",
              "      <th>Data</th>\n",
              "      <th>Fips</th>\n",
              "    </tr>\n",
              "  </thead>\n",
              "  <tbody>\n",
              "    <tr>\n",
              "      <th>0</th>\n",
              "      <td>Battery Park/Tribeca</td>\n",
              "      <td>2005</td>\n",
              "      <td>Dollars</td>\n",
              "      <td>2230.91670</td>\n",
              "      <td>101</td>\n",
              "    </tr>\n",
              "    <tr>\n",
              "      <th>1</th>\n",
              "      <td>Greenwich Village</td>\n",
              "      <td>2005</td>\n",
              "      <td>Dollars</td>\n",
              "      <td>2230.91670</td>\n",
              "      <td>102</td>\n",
              "    </tr>\n",
              "    <tr>\n",
              "      <th>2</th>\n",
              "      <td>Lower East Side</td>\n",
              "      <td>2005</td>\n",
              "      <td>Dollars</td>\n",
              "      <td>832.00070</td>\n",
              "      <td>103</td>\n",
              "    </tr>\n",
              "    <tr>\n",
              "      <th>3</th>\n",
              "      <td>Chelsea/Clinton</td>\n",
              "      <td>2005</td>\n",
              "      <td>Dollars</td>\n",
              "      <td>1813.60404</td>\n",
              "      <td>104</td>\n",
              "    </tr>\n",
              "    <tr>\n",
              "      <th>4</th>\n",
              "      <td>Midtown Business District</td>\n",
              "      <td>2005</td>\n",
              "      <td>Dollars</td>\n",
              "      <td>1813.60404</td>\n",
              "      <td>105</td>\n",
              "    </tr>\n",
              "  </tbody>\n",
              "</table>\n",
              "</div>"
            ],
            "text/plain": [
              "                    Location  TimeFrame DataFormat        Data  Fips\n",
              "0       Battery Park/Tribeca       2005    Dollars  2230.91670   101\n",
              "1          Greenwich Village       2005    Dollars  2230.91670   102\n",
              "2            Lower East Side       2005    Dollars   832.00070   103\n",
              "3            Chelsea/Clinton       2005    Dollars  1813.60404   104\n",
              "4  Midtown Business District       2005    Dollars  1813.60404   105"
            ]
          },
          "metadata": {},
          "execution_count": 11
        }
      ]
>>>>>>> 8a416e602847a086291faa032f7e900c9fb337dd
    },
    {
      "cell_type": "code",
      "source": [
        "#The period of data\n",
        "start_date=df['TimeFrame'].min()\n",
        "end_date=df['TimeFrame'].max()\n",
        "print(f'Data is ranged between {start_date} and {end_date}')"
      ],
      "metadata": {
<<<<<<< HEAD
        "id": "u_Xwwh_d6v08"
      },
      "id": "u_Xwwh_d6v08",
      "execution_count": null,
      "outputs": []
=======
        "colab": {
          "base_uri": "https://localhost:8080/"
        },
        "id": "u_Xwwh_d6v08",
        "outputId": "84ceb008-4c96-43c4-a5b6-8f5802702e1f"
      },
      "id": "u_Xwwh_d6v08",
      "execution_count": 12,
      "outputs": [
        {
          "output_type": "stream",
          "name": "stdout",
          "text": [
            "Data is ranged between 2005 and 2019\n"
          ]
        }
      ]
>>>>>>> 8a416e602847a086291faa032f7e900c9fb337dd
    },
    {
      "cell_type": "code",
      "source": [
        "#filtring locations\n",
        "target_location=['Manhattan','Queens','Staten Island','Bronx','Brooklyn']\n",
        "filter_by_location=df['Location'].isin(target_location)\n",
        "df=df[filter_by_location]\n",
        "df.head(5)"
      ],
      "metadata": {
<<<<<<< HEAD
        "id": "mCTD4fcy1c_P"
      },
      "id": "mCTD4fcy1c_P",
      "execution_count": null,
      "outputs": []
=======
        "colab": {
          "base_uri": "https://localhost:8080/",
          "height": 206
        },
        "id": "mCTD4fcy1c_P",
        "outputId": "ca9ea81e-f7c1-4198-bb1d-252e251fda4b"
      },
      "id": "mCTD4fcy1c_P",
      "execution_count": 13,
      "outputs": [
        {
          "output_type": "execute_result",
          "data": {
            "text/html": [
              "<div>\n",
              "<style scoped>\n",
              "    .dataframe tbody tr th:only-of-type {\n",
              "        vertical-align: middle;\n",
              "    }\n",
              "\n",
              "    .dataframe tbody tr th {\n",
              "        vertical-align: top;\n",
              "    }\n",
              "\n",
              "    .dataframe thead th {\n",
              "        text-align: right;\n",
              "    }\n",
              "</style>\n",
              "<table border=\"1\" class=\"dataframe\">\n",
              "  <thead>\n",
              "    <tr style=\"text-align: right;\">\n",
              "      <th></th>\n",
              "      <th>Location</th>\n",
              "      <th>TimeFrame</th>\n",
              "      <th>DataFormat</th>\n",
              "      <th>Data</th>\n",
              "      <th>Fips</th>\n",
              "    </tr>\n",
              "  </thead>\n",
              "  <tbody>\n",
              "    <tr>\n",
              "      <th>59</th>\n",
              "      <td>Bronx</td>\n",
              "      <td>2005</td>\n",
              "      <td>Dollars</td>\n",
              "      <td>908.11433</td>\n",
              "      <td>36005</td>\n",
              "    </tr>\n",
              "    <tr>\n",
              "      <th>60</th>\n",
              "      <td>Brooklyn</td>\n",
              "      <td>2005</td>\n",
              "      <td>Dollars</td>\n",
              "      <td>1034.09550</td>\n",
              "      <td>36047</td>\n",
              "    </tr>\n",
              "    <tr>\n",
              "      <th>61</th>\n",
              "      <td>Manhattan</td>\n",
              "      <td>2005</td>\n",
              "      <td>Dollars</td>\n",
              "      <td>1245.37644</td>\n",
              "      <td>36061</td>\n",
              "    </tr>\n",
              "    <tr>\n",
              "      <th>62</th>\n",
              "      <td>Queens</td>\n",
              "      <td>2005</td>\n",
              "      <td>Dollars</td>\n",
              "      <td>1236.19031</td>\n",
              "      <td>36081</td>\n",
              "    </tr>\n",
              "    <tr>\n",
              "      <th>63</th>\n",
              "      <td>Staten Island</td>\n",
              "      <td>2005</td>\n",
              "      <td>Dollars</td>\n",
              "      <td>1133.83060</td>\n",
              "      <td>36085</td>\n",
              "    </tr>\n",
              "  </tbody>\n",
              "</table>\n",
              "</div>"
            ],
            "text/plain": [
              "         Location  TimeFrame DataFormat        Data   Fips\n",
              "59          Bronx       2005    Dollars   908.11433  36005\n",
              "60       Brooklyn       2005    Dollars  1034.09550  36047\n",
              "61      Manhattan       2005    Dollars  1245.37644  36061\n",
              "62         Queens       2005    Dollars  1236.19031  36081\n",
              "63  Staten Island       2005    Dollars  1133.83060  36085"
            ]
          },
          "metadata": {},
          "execution_count": 13
        }
      ]
>>>>>>> 8a416e602847a086291faa032f7e900c9fb337dd
    },
    {
      "cell_type": "code",
      "source": [
        "data_info=[('Null values check: ', df.isnull().sum().sort_values(ascending=False)),\n",
        "           ('Duplicate data: ', df.duplicated().sum()), \n",
        "           ('Type: ' , df.dtypes) ]\n",
        "for item in data_info:\n",
        "  print(item[0], end='\\t')\n",
        "  print(item[1])"
      ],
      "metadata": {
<<<<<<< HEAD
        "id": "L9DCPlZX1dCB"
      },
      "id": "L9DCPlZX1dCB",
      "execution_count": null,
      "outputs": []
=======
        "colab": {
          "base_uri": "https://localhost:8080/"
        },
        "id": "L9DCPlZX1dCB",
        "outputId": "fd0c7aa5-1344-4efa-df65-a2b02d2184f8"
      },
      "id": "L9DCPlZX1dCB",
      "execution_count": 14,
      "outputs": [
        {
          "output_type": "stream",
          "name": "stdout",
          "text": [
            "Null values check: \tFips          0\n",
            "Data          0\n",
            "DataFormat    0\n",
            "TimeFrame     0\n",
            "Location      0\n",
            "dtype: int64\n",
            "Duplicate data: \t0\n",
            "Type: \tLocation       object\n",
            "TimeFrame       int64\n",
            "DataFormat     object\n",
            "Data          float64\n",
            "Fips            int64\n",
            "dtype: object\n"
          ]
        }
      ]
>>>>>>> 8a416e602847a086291faa032f7e900c9fb337dd
    },
    {
      "cell_type": "code",
      "source": [
        "pivot = df.pivot_table(\n",
        "    index=['Location'], \n",
        "    values=['Data'], \n",
        "    aggfunc='mean')\n",
        "pivot"
      ],
      "metadata": {
<<<<<<< HEAD
        "id": "JnPC5QK021C3"
      },
      "id": "JnPC5QK021C3",
      "execution_count": null,
      "outputs": []
=======
        "colab": {
          "base_uri": "https://localhost:8080/",
          "height": 237
        },
        "id": "JnPC5QK021C3",
        "outputId": "2c8b2829-b2ff-485a-a16d-8dac2685f636"
      },
      "id": "JnPC5QK021C3",
      "execution_count": 15,
      "outputs": [
        {
          "output_type": "execute_result",
          "data": {
            "text/html": [
              "<div>\n",
              "<style scoped>\n",
              "    .dataframe tbody tr th:only-of-type {\n",
              "        vertical-align: middle;\n",
              "    }\n",
              "\n",
              "    .dataframe tbody tr th {\n",
              "        vertical-align: top;\n",
              "    }\n",
              "\n",
              "    .dataframe thead th {\n",
              "        text-align: right;\n",
              "    }\n",
              "</style>\n",
              "<table border=\"1\" class=\"dataframe\">\n",
              "  <thead>\n",
              "    <tr style=\"text-align: right;\">\n",
              "      <th></th>\n",
              "      <th>Data</th>\n",
              "    </tr>\n",
              "    <tr>\n",
              "      <th>Location</th>\n",
              "      <th></th>\n",
              "    </tr>\n",
              "  </thead>\n",
              "  <tbody>\n",
              "    <tr>\n",
              "      <th>Bronx</th>\n",
              "      <td>1025.550313</td>\n",
              "    </tr>\n",
              "    <tr>\n",
              "      <th>Brooklyn</th>\n",
              "      <td>1190.809277</td>\n",
              "    </tr>\n",
              "    <tr>\n",
              "      <th>Manhattan</th>\n",
              "      <td>1498.786221</td>\n",
              "    </tr>\n",
              "    <tr>\n",
              "      <th>Queens</th>\n",
              "      <td>1362.014676</td>\n",
              "    </tr>\n",
              "    <tr>\n",
              "      <th>Staten Island</th>\n",
              "      <td>1142.549607</td>\n",
              "    </tr>\n",
              "  </tbody>\n",
              "</table>\n",
              "</div>"
            ],
            "text/plain": [
              "                      Data\n",
              "Location                  \n",
              "Bronx          1025.550313\n",
              "Brooklyn       1190.809277\n",
              "Manhattan      1498.786221\n",
              "Queens         1362.014676\n",
              "Staten Island  1142.549607"
            ]
          },
          "metadata": {},
          "execution_count": 15
        }
      ]
>>>>>>> 8a416e602847a086291faa032f7e900c9fb337dd
    },
    {
      "cell_type": "code",
      "source": [
        "# colours = [\"green\", \"red\", \"purple\", \"blue\", \"orange\" ]\n",
        "pivot.plot(kind='bar', colormap='Paired')\n",
        "plt.title(\"Monthly Median Rent By Boroughs\")\n",
        "plt.xlabel(\"Boroughs\")\n",
        "plt.ylabel(\"Monthly Median Rent\")\n",
        "plt.show()"
      ],
      "metadata": {
<<<<<<< HEAD
        "id": "FSfvk6jA6OnX"
      },
      "id": "FSfvk6jA6OnX",
      "execution_count": null,
      "outputs": []
=======
        "colab": {
          "base_uri": "https://localhost:8080/",
          "height": 364
        },
        "id": "FSfvk6jA6OnX",
        "outputId": "aeb10650-a45c-4af0-f0af-88fa0b9e7b37"
      },
      "id": "FSfvk6jA6OnX",
      "execution_count": 16,
      "outputs": [
        {
          "output_type": "display_data",
          "data": {
            "image/png": "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\n",
            "text/plain": [
              "<Figure size 432x288 with 1 Axes>"
            ]
          },
          "metadata": {
            "needs_background": "light"
          }
        }
      ]
>>>>>>> 8a416e602847a086291faa032f7e900c9fb337dd
    },
    {
      "cell_type": "markdown",
      "source": [
        "* The graph above shows that Manhattan is the leading borough when it comes to higher renting price, while Bronx, is still considered the lower renting price."
      ],
      "metadata": {
        "id": "SHy_WjGs8dj0"
      },
      "id": "SHy_WjGs8dj0"
    },
    {
      "cell_type": "code",
      "source": [
        "plt.scatter(df['TimeFrame'],df['Data'])\n",
        "\n",
        "plt.title(\"The increasing price in rent with time\")\n",
        "plt.xlabel('Years')\n",
        "plt.ylabel('Rent Pricing')\n",
        "plt.show()"
      ],
      "metadata": {
<<<<<<< HEAD
        "id": "jRZ8s1av21F4"
      },
      "id": "jRZ8s1av21F4",
      "execution_count": null,
      "outputs": []
=======
        "colab": {
          "base_uri": "https://localhost:8080/",
          "height": 301
        },
        "id": "jRZ8s1av21F4",
        "outputId": "c52fdd9a-0661-4ec2-ba59-8746be8d3624"
      },
      "id": "jRZ8s1av21F4",
      "execution_count": 17,
      "outputs": [
        {
          "output_type": "display_data",
          "data": {
            "image/png": "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\n",
            "text/plain": [
              "<Figure size 432x288 with 1 Axes>"
            ]
          },
          "metadata": {
            "needs_background": "light"
          }
        }
      ]
>>>>>>> 8a416e602847a086291faa032f7e900c9fb337dd
    },
    {
      "cell_type": "markdown",
      "source": [
        "* According to data, we may infer that the renting price is getting higher year after year and that may increase the homelesseness"
      ],
      "metadata": {
        "id": "zlHD-q-X7cGj"
      },
      "id": "zlHD-q-X7cGj"
    },
    {
      "cell_type": "markdown",
      "source": [
        "## Renting in Burden: How much percentage people in low income are paying for rent."
      ],
      "metadata": {
        "id": "mPyFwxV6zwZA"
      },
      "id": "mPyFwxV6zwZA"
    },
    {
      "cell_type": "code",
      "source": [
        "#Working locally from google colab us this code\n",
        "# from google.colab import files\n",
        "# uploaded=files.upload()\n",
        "# # Renting in Burden\n",
        "# path1='/content/Severe Rent Burden.csv'\n",
        "# #Creating dataframe\n",
        "# df_2=pd.read_csv(path1, skiprows=5)\n",
        "# df_2.head(5)"
      ],
      "metadata": {
        "id": "nqWPealTzvUP"
      },
      "id": "nqWPealTzvUP",
      "execution_count": null,
<<<<<<< HEAD
      "outputs": []
=======
      "outputs": [
        {
          "output_type": "display_data",
          "data": {
            "text/html": [
              "\n",
              "     <input type=\"file\" id=\"files-489efca0-c17c-4920-b592-50993562dda1\" name=\"files[]\" multiple disabled\n",
              "        style=\"border:none\" />\n",
              "     <output id=\"result-489efca0-c17c-4920-b592-50993562dda1\">\n",
              "      Upload widget is only available when the cell has been executed in the\n",
              "      current browser session. Please rerun this cell to enable.\n",
              "      </output>\n",
              "      <script src=\"/nbextensions/google.colab/files.js\"></script> "
            ],
            "text/plain": [
              "<IPython.core.display.HTML object>"
            ]
          },
          "metadata": {}
        },
        {
          "output_type": "stream",
          "name": "stdout",
          "text": [
            "Saving Severe Rent Burden.csv to Severe Rent Burden.csv\n"
          ]
        }
      ]
>>>>>>> 8a416e602847a086291faa032f7e900c9fb337dd
    },
    {
      "cell_type": "code",
      "source": [
        "!curl https://raw.githubusercontent.com/MBouchaqour/homelessness_project/main/data/rent/Severe%20Rent%20Burden.csv -o severe_rent_burden.csv\n"
      ],
      "metadata": {
<<<<<<< HEAD
        "id": "EVlphpKQ2eLG"
      },
      "id": "EVlphpKQ2eLG",
      "execution_count": null,
      "outputs": []
=======
        "colab": {
          "base_uri": "https://localhost:8080/"
        },
        "id": "EVlphpKQ2eLG",
        "outputId": "d7d7bc0b-3f26-42e6-babc-d1ae5e003631"
      },
      "id": "EVlphpKQ2eLG",
      "execution_count": 19,
      "outputs": [
        {
          "output_type": "stream",
          "name": "stdout",
          "text": [
            "  % Total    % Received % Xferd  Average Speed   Time    Time     Time  Current\n",
            "                                 Dload  Upload   Total   Spent    Left  Speed\n",
            "\r  0     0    0     0    0     0      0      0 --:--:-- --:--:-- --:--:--     0\r100 38939  100 38939    0     0  2112k      0 --:--:-- --:--:-- --:--:-- 2112k\n"
          ]
        }
      ]
>>>>>>> 8a416e602847a086291faa032f7e900c9fb337dd
    },
    {
      "cell_type": "code",
      "source": [
        "df_2=pd.read_csv(\"severe_rent_burden.csv\")\n",
        "df_2.head(5)"
      ],
      "metadata": {
<<<<<<< HEAD
        "id": "2PwQIZb93BhH"
      },
      "id": "2PwQIZb93BhH",
      "execution_count": null,
      "outputs": []
=======
        "colab": {
          "base_uri": "https://localhost:8080/",
          "height": 206
        },
        "id": "2PwQIZb93BhH",
        "outputId": "ef3f8265-f269-42a4-be2e-883760a3f16a"
      },
      "id": "2PwQIZb93BhH",
      "execution_count": 20,
      "outputs": [
        {
          "output_type": "execute_result",
          "data": {
            "text/html": [
              "<div>\n",
              "<style scoped>\n",
              "    .dataframe tbody tr th:only-of-type {\n",
              "        vertical-align: middle;\n",
              "    }\n",
              "\n",
              "    .dataframe tbody tr th {\n",
              "        vertical-align: top;\n",
              "    }\n",
              "\n",
              "    .dataframe thead th {\n",
              "        text-align: right;\n",
              "    }\n",
              "</style>\n",
              "<table border=\"1\" class=\"dataframe\">\n",
              "  <thead>\n",
              "    <tr style=\"text-align: right;\">\n",
              "      <th></th>\n",
              "      <th>Location</th>\n",
              "      <th>TimeFrame</th>\n",
              "      <th>DataFormat</th>\n",
              "      <th>Data</th>\n",
              "      <th>Fips</th>\n",
              "    </tr>\n",
              "  </thead>\n",
              "  <tbody>\n",
              "    <tr>\n",
              "      <th>0</th>\n",
              "      <td>New York City</td>\n",
              "      <td>2005</td>\n",
              "      <td>Percent</td>\n",
              "      <td>0.26663</td>\n",
              "      <td>3651000</td>\n",
              "    </tr>\n",
              "    <tr>\n",
              "      <th>1</th>\n",
              "      <td>New York City</td>\n",
              "      <td>2006</td>\n",
              "      <td>Percent</td>\n",
              "      <td>0.26722</td>\n",
              "      <td>3651000</td>\n",
              "    </tr>\n",
              "    <tr>\n",
              "      <th>2</th>\n",
              "      <td>New York City</td>\n",
              "      <td>2007</td>\n",
              "      <td>Percent</td>\n",
              "      <td>0.25429</td>\n",
              "      <td>3651000</td>\n",
              "    </tr>\n",
              "    <tr>\n",
              "      <th>3</th>\n",
              "      <td>New York City</td>\n",
              "      <td>2008</td>\n",
              "      <td>Percent</td>\n",
              "      <td>0.25726</td>\n",
              "      <td>3651000</td>\n",
              "    </tr>\n",
              "    <tr>\n",
              "      <th>4</th>\n",
              "      <td>New York City</td>\n",
              "      <td>2009</td>\n",
              "      <td>Percent</td>\n",
              "      <td>0.26284</td>\n",
              "      <td>3651000</td>\n",
              "    </tr>\n",
              "  </tbody>\n",
              "</table>\n",
              "</div>"
            ],
            "text/plain": [
              "        Location  TimeFrame DataFormat     Data     Fips\n",
              "0  New York City       2005    Percent  0.26663  3651000\n",
              "1  New York City       2006    Percent  0.26722  3651000\n",
              "2  New York City       2007    Percent  0.25429  3651000\n",
              "3  New York City       2008    Percent  0.25726  3651000\n",
              "4  New York City       2009    Percent  0.26284  3651000"
            ]
          },
          "metadata": {},
          "execution_count": 20
        }
      ]
>>>>>>> 8a416e602847a086291faa032f7e900c9fb337dd
    },
    {
      "cell_type": "code",
      "source": [
        "#filtring locations\n",
        "target_location=['Manhattan','Queens','Staten Island','Bronx','Brooklyn']\n",
        "filter_by_location=df_2['Location'].isin(target_location)\n",
        "df_2=df_2[filter_by_location]\n",
        "df_2.head(5)"
      ],
      "metadata": {
<<<<<<< HEAD
        "id": "iOV9t-Wn0spP"
      },
      "id": "iOV9t-Wn0spP",
      "execution_count": null,
      "outputs": []
=======
        "colab": {
          "base_uri": "https://localhost:8080/",
          "height": 206
        },
        "id": "iOV9t-Wn0spP",
        "outputId": "18e0d69d-6658-41c9-e1f2-af4fdffc4ccc"
      },
      "id": "iOV9t-Wn0spP",
      "execution_count": 21,
      "outputs": [
        {
          "output_type": "execute_result",
          "data": {
            "text/html": [
              "<div>\n",
              "<style scoped>\n",
              "    .dataframe tbody tr th:only-of-type {\n",
              "        vertical-align: middle;\n",
              "    }\n",
              "\n",
              "    .dataframe tbody tr th {\n",
              "        vertical-align: top;\n",
              "    }\n",
              "\n",
              "    .dataframe thead th {\n",
              "        text-align: right;\n",
              "    }\n",
              "</style>\n",
              "<table border=\"1\" class=\"dataframe\">\n",
              "  <thead>\n",
              "    <tr style=\"text-align: right;\">\n",
              "      <th></th>\n",
              "      <th>Location</th>\n",
              "      <th>TimeFrame</th>\n",
              "      <th>DataFormat</th>\n",
              "      <th>Data</th>\n",
              "      <th>Fips</th>\n",
              "    </tr>\n",
              "  </thead>\n",
              "  <tbody>\n",
              "    <tr>\n",
              "      <th>13</th>\n",
              "      <td>Manhattan</td>\n",
              "      <td>2017</td>\n",
              "      <td>Percent</td>\n",
              "      <td>0.20596</td>\n",
              "      <td>36061</td>\n",
              "    </tr>\n",
              "    <tr>\n",
              "      <th>14</th>\n",
              "      <td>Manhattan</td>\n",
              "      <td>2016</td>\n",
              "      <td>Percent</td>\n",
              "      <td>0.22133</td>\n",
              "      <td>36061</td>\n",
              "    </tr>\n",
              "    <tr>\n",
              "      <th>15</th>\n",
              "      <td>Manhattan</td>\n",
              "      <td>2015</td>\n",
              "      <td>Percent</td>\n",
              "      <td>0.21786</td>\n",
              "      <td>36061</td>\n",
              "    </tr>\n",
              "    <tr>\n",
              "      <th>16</th>\n",
              "      <td>Manhattan</td>\n",
              "      <td>2014</td>\n",
              "      <td>Percent</td>\n",
              "      <td>0.20846</td>\n",
              "      <td>36061</td>\n",
              "    </tr>\n",
              "    <tr>\n",
              "      <th>17</th>\n",
              "      <td>Manhattan</td>\n",
              "      <td>2013</td>\n",
              "      <td>Percent</td>\n",
              "      <td>0.23989</td>\n",
              "      <td>36061</td>\n",
              "    </tr>\n",
              "  </tbody>\n",
              "</table>\n",
              "</div>"
            ],
            "text/plain": [
              "     Location  TimeFrame DataFormat     Data   Fips\n",
              "13  Manhattan       2017    Percent  0.20596  36061\n",
              "14  Manhattan       2016    Percent  0.22133  36061\n",
              "15  Manhattan       2015    Percent  0.21786  36061\n",
              "16  Manhattan       2014    Percent  0.20846  36061\n",
              "17  Manhattan       2013    Percent  0.23989  36061"
            ]
          },
          "metadata": {},
          "execution_count": 21
        }
      ]
>>>>>>> 8a416e602847a086291faa032f7e900c9fb337dd
    },
    {
      "cell_type": "code",
      "source": [
        "data_info=[('Null values check: ', df_2.isnull().sum().sort_values(ascending=False)),\n",
        "           ('Duplicate data: ', df_2.duplicated().sum()), \n",
        "           ('Type: ' , df_2.dtypes) ]\n",
        "for item in data_info:\n",
        "  print(item[0], end='\\t')\n",
        "  print(item[1])"
      ],
      "metadata": {
<<<<<<< HEAD
        "id": "lVKhD4j-0sse"
      },
      "id": "lVKhD4j-0sse",
      "execution_count": null,
      "outputs": []
=======
        "colab": {
          "base_uri": "https://localhost:8080/"
        },
        "id": "lVKhD4j-0sse",
        "outputId": "04d12cb4-3652-42a2-c071-9dfdf49db8c8"
      },
      "id": "lVKhD4j-0sse",
      "execution_count": 22,
      "outputs": [
        {
          "output_type": "stream",
          "name": "stdout",
          "text": [
            "Null values check: \tFips          0\n",
            "Data          0\n",
            "DataFormat    0\n",
            "TimeFrame     0\n",
            "Location      0\n",
            "dtype: int64\n",
            "Duplicate data: \t0\n",
            "Type: \tLocation       object\n",
            "TimeFrame       int64\n",
            "DataFormat     object\n",
            "Data          float64\n",
            "Fips            int64\n",
            "dtype: object\n"
          ]
        }
      ]
>>>>>>> 8a416e602847a086291faa032f7e900c9fb337dd
    },
    {
      "cell_type": "code",
      "source": [
        "dt={\n",
        "    'Location':df_2['Location'],\n",
        "    'AverageIncome%':(df_2['Data']).round(2)\n",
        "}\n",
        "data_frame=pd.DataFrame.from_dict(dt)\n",
        "pivot = data_frame.pivot_table(\n",
        "    index=['Location'], \n",
        "    values=['AverageIncome%'], \n",
        "    aggfunc='mean')\n",
        "pivot\n"
      ],
      "metadata": {
<<<<<<< HEAD
        "id": "CsBXgK8y0swV"
      },
      "id": "CsBXgK8y0swV",
      "execution_count": null,
      "outputs": []
=======
        "colab": {
          "base_uri": "https://localhost:8080/",
          "height": 237
        },
        "id": "CsBXgK8y0swV",
        "outputId": "cefa2197-c779-4e95-9e03-90f89f5fd9c0"
      },
      "id": "CsBXgK8y0swV",
      "execution_count": 23,
      "outputs": [
        {
          "output_type": "execute_result",
          "data": {
            "text/html": [
              "<div>\n",
              "<style scoped>\n",
              "    .dataframe tbody tr th:only-of-type {\n",
              "        vertical-align: middle;\n",
              "    }\n",
              "\n",
              "    .dataframe tbody tr th {\n",
              "        vertical-align: top;\n",
              "    }\n",
              "\n",
              "    .dataframe thead th {\n",
              "        text-align: right;\n",
              "    }\n",
              "</style>\n",
              "<table border=\"1\" class=\"dataframe\">\n",
              "  <thead>\n",
              "    <tr style=\"text-align: right;\">\n",
              "      <th></th>\n",
              "      <th>AverageIncome%</th>\n",
              "    </tr>\n",
              "    <tr>\n",
              "      <th>Location</th>\n",
              "      <th></th>\n",
              "    </tr>\n",
              "  </thead>\n",
              "  <tbody>\n",
              "    <tr>\n",
              "      <th>Bronx</th>\n",
              "      <td>0.323333</td>\n",
              "    </tr>\n",
              "    <tr>\n",
              "      <th>Brooklyn</th>\n",
              "      <td>0.283333</td>\n",
              "    </tr>\n",
              "    <tr>\n",
              "      <th>Manhattan</th>\n",
              "      <td>0.217333</td>\n",
              "    </tr>\n",
              "    <tr>\n",
              "      <th>Queens</th>\n",
              "      <td>0.278667</td>\n",
              "    </tr>\n",
              "    <tr>\n",
              "      <th>Staten Island</th>\n",
              "      <td>0.285333</td>\n",
              "    </tr>\n",
              "  </tbody>\n",
              "</table>\n",
              "</div>"
            ],
            "text/plain": [
              "               AverageIncome%\n",
              "Location                     \n",
              "Bronx                0.323333\n",
              "Brooklyn             0.283333\n",
              "Manhattan            0.217333\n",
              "Queens               0.278667\n",
              "Staten Island        0.285333"
            ]
          },
          "metadata": {},
          "execution_count": 23
        }
      ]
>>>>>>> 8a416e602847a086291faa032f7e900c9fb337dd
    },
    {
      "cell_type": "code",
      "source": [
        "#This code is for comparing the income with how much spending on rent our data is table_income\n",
        "table_per_income=pivot.reset_index()\n",
        "table_per_income.style.format({'AverageIncome%': \"{:.2%}\"})"
      ],
      "metadata": {
<<<<<<< HEAD
        "id": "KaZC2J8RebbQ"
      },
      "id": "KaZC2J8RebbQ",
      "execution_count": null,
      "outputs": []
=======
        "colab": {
          "base_uri": "https://localhost:8080/",
          "height": 206
        },
        "id": "KaZC2J8RebbQ",
        "outputId": "cdbe282d-44f3-4648-ecba-dfe57ada495a"
      },
      "id": "KaZC2J8RebbQ",
      "execution_count": 24,
      "outputs": [
        {
          "output_type": "execute_result",
          "data": {
            "text/html": [
              "<style  type=\"text/css\" >\n",
              "</style><table id=\"T_564f18c2_5ab4_11ec_941b_0242ac1c0002\" class=\"dataframe\"><thead>    <tr>        <th class=\"blank level0\" ></th>        <th class=\"col_heading level0 col0\" >Location</th>        <th class=\"col_heading level0 col1\" >AverageIncome%</th>    </tr></thead><tbody>\n",
              "                <tr>\n",
              "                        <th id=\"T_564f18c2_5ab4_11ec_941b_0242ac1c0002level0_row0\" class=\"row_heading level0 row0\" >0</th>\n",
              "                        <td id=\"T_564f18c2_5ab4_11ec_941b_0242ac1c0002row0_col0\" class=\"data row0 col0\" >Bronx</td>\n",
              "                        <td id=\"T_564f18c2_5ab4_11ec_941b_0242ac1c0002row0_col1\" class=\"data row0 col1\" >32.33%</td>\n",
              "            </tr>\n",
              "            <tr>\n",
              "                        <th id=\"T_564f18c2_5ab4_11ec_941b_0242ac1c0002level0_row1\" class=\"row_heading level0 row1\" >1</th>\n",
              "                        <td id=\"T_564f18c2_5ab4_11ec_941b_0242ac1c0002row1_col0\" class=\"data row1 col0\" >Brooklyn</td>\n",
              "                        <td id=\"T_564f18c2_5ab4_11ec_941b_0242ac1c0002row1_col1\" class=\"data row1 col1\" >28.33%</td>\n",
              "            </tr>\n",
              "            <tr>\n",
              "                        <th id=\"T_564f18c2_5ab4_11ec_941b_0242ac1c0002level0_row2\" class=\"row_heading level0 row2\" >2</th>\n",
              "                        <td id=\"T_564f18c2_5ab4_11ec_941b_0242ac1c0002row2_col0\" class=\"data row2 col0\" >Manhattan</td>\n",
              "                        <td id=\"T_564f18c2_5ab4_11ec_941b_0242ac1c0002row2_col1\" class=\"data row2 col1\" >21.73%</td>\n",
              "            </tr>\n",
              "            <tr>\n",
              "                        <th id=\"T_564f18c2_5ab4_11ec_941b_0242ac1c0002level0_row3\" class=\"row_heading level0 row3\" >3</th>\n",
              "                        <td id=\"T_564f18c2_5ab4_11ec_941b_0242ac1c0002row3_col0\" class=\"data row3 col0\" >Queens</td>\n",
              "                        <td id=\"T_564f18c2_5ab4_11ec_941b_0242ac1c0002row3_col1\" class=\"data row3 col1\" >27.87%</td>\n",
              "            </tr>\n",
              "            <tr>\n",
              "                        <th id=\"T_564f18c2_5ab4_11ec_941b_0242ac1c0002level0_row4\" class=\"row_heading level0 row4\" >4</th>\n",
              "                        <td id=\"T_564f18c2_5ab4_11ec_941b_0242ac1c0002row4_col0\" class=\"data row4 col0\" >Staten Island</td>\n",
              "                        <td id=\"T_564f18c2_5ab4_11ec_941b_0242ac1c0002row4_col1\" class=\"data row4 col1\" >28.53%</td>\n",
              "            </tr>\n",
              "    </tbody></table>"
            ],
            "text/plain": [
              "<pandas.io.formats.style.Styler at 0x7febb26d3f10>"
            ]
          },
          "metadata": {},
          "execution_count": 24
        }
      ]
>>>>>>> 8a416e602847a086291faa032f7e900c9fb337dd
    },
    {
      "cell_type": "markdown",
      "source": [
        "* Hosehold who lives In boroughs except Manhattan are paying almsot 28% from their income to rent. An example of this will be as the followin: \n",
        "If an individual has income of $25,000 a year, and lives in Brookly, they will be paying at least $7000 just for rent, the remaining will be $18,000. However, most of people who are more likely homeless, their income is either 0 or less than $1000 a year. The next data will further investigate this point. "
      ],
      "metadata": {
        "id": "cBDRMLGM6b80"
      },
      "id": "cBDRMLGM6b80"
    },
    {
      "cell_type": "markdown",
      "source": [
        "# Median Income data"
      ],
      "metadata": {
        "id": "a7HDsXnrBDQr"
      },
      "id": "a7HDsXnrBDQr"
    },
    {
      "cell_type": "code",
      "source": [
        "#using googl colab use this code:\n",
        "# from google.colab import files\n",
        "# uploaded=files.upload()\n",
        "# # Median Income\n",
        "# path1='/content/Median Incomes.csv'\n",
        "# #Creating dataframe\n",
        "# df_3=pd.read_csv(path1, skiprows=5)\n",
        "# df_3.head(5)"
      ],
      "metadata": {
        "id": "Kz5ow8uh0s2Y"
      },
      "id": "Kz5ow8uh0s2Y",
      "execution_count": null,
<<<<<<< HEAD
      "outputs": []
=======
      "outputs": [
        {
          "output_type": "display_data",
          "data": {
            "text/html": [
              "\n",
              "     <input type=\"file\" id=\"files-c7913e78-74e8-4528-bd01-a7cd49baebd7\" name=\"files[]\" multiple disabled\n",
              "        style=\"border:none\" />\n",
              "     <output id=\"result-c7913e78-74e8-4528-bd01-a7cd49baebd7\">\n",
              "      Upload widget is only available when the cell has been executed in the\n",
              "      current browser session. Please rerun this cell to enable.\n",
              "      </output>\n",
              "      <script src=\"/nbextensions/google.colab/files.js\"></script> "
            ],
            "text/plain": [
              "<IPython.core.display.HTML object>"
            ]
          },
          "metadata": {}
        },
        {
          "output_type": "stream",
          "name": "stdout",
          "text": [
            "Saving Median Incomes.csv to Median Incomes.csv\n"
          ]
        }
      ]
>>>>>>> 8a416e602847a086291faa032f7e900c9fb337dd
    },
    {
      "cell_type": "code",
      "source": [
        "!curl https://raw.githubusercontent.com/MBouchaqour/homelessness_project/main/data/income/Median%20Incomes.csv -o median_income.csv"
      ],
      "metadata": {
<<<<<<< HEAD
        "id": "OJY0YyhL3UGr"
      },
      "id": "OJY0YyhL3UGr",
      "execution_count": null,
      "outputs": []
=======
        "colab": {
          "base_uri": "https://localhost:8080/"
        },
        "id": "OJY0YyhL3UGr",
        "outputId": "b9cdb729-f2a3-4346-9676-867e92a41fc4"
      },
      "id": "OJY0YyhL3UGr",
      "execution_count": 26,
      "outputs": [
        {
          "output_type": "stream",
          "name": "stdout",
          "text": [
            "  % Total    % Received % Xferd  Average Speed   Time    Time     Time  Current\n",
            "                                 Dload  Upload   Total   Spent    Left  Speed\n",
            "\r  0     0    0     0    0     0      0      0 --:--:-- --:--:-- --:--:--     0\r100  367k  100  367k    0     0  2960k      0 --:--:-- --:--:-- --:--:-- 2960k\n"
          ]
        }
      ]
>>>>>>> 8a416e602847a086291faa032f7e900c9fb337dd
    },
    {
      "cell_type": "code",
      "source": [
        "df_3=pd.read_csv(\"median_income.csv\")\n",
        "df_3.head(5)"
      ],
      "metadata": {
<<<<<<< HEAD
        "id": "P3d6sHTS0s5Q"
      },
      "id": "P3d6sHTS0s5Q",
      "execution_count": null,
      "outputs": []
=======
        "colab": {
          "base_uri": "https://localhost:8080/",
          "height": 206
        },
        "id": "P3d6sHTS0s5Q",
        "outputId": "17b1c195-7f22-42ae-9014-3f1bac8f42b5"
      },
      "id": "P3d6sHTS0s5Q",
      "execution_count": 28,
      "outputs": [
        {
          "output_type": "execute_result",
          "data": {
            "text/html": [
              "<div>\n",
              "<style scoped>\n",
              "    .dataframe tbody tr th:only-of-type {\n",
              "        vertical-align: middle;\n",
              "    }\n",
              "\n",
              "    .dataframe tbody tr th {\n",
              "        vertical-align: top;\n",
              "    }\n",
              "\n",
              "    .dataframe thead th {\n",
              "        text-align: right;\n",
              "    }\n",
              "</style>\n",
              "<table border=\"1\" class=\"dataframe\">\n",
              "  <thead>\n",
              "    <tr style=\"text-align: right;\">\n",
              "      <th></th>\n",
              "      <th>Location</th>\n",
              "      <th>Household Type</th>\n",
              "      <th>TimeFrame</th>\n",
              "      <th>DataFormat</th>\n",
              "      <th>Data</th>\n",
              "      <th>Fips</th>\n",
              "    </tr>\n",
              "  </thead>\n",
              "  <tbody>\n",
              "    <tr>\n",
              "      <th>0</th>\n",
              "      <td>Astoria</td>\n",
              "      <td>Families without Children</td>\n",
              "      <td>2019</td>\n",
              "      <td>Dollars</td>\n",
              "      <td>92755</td>\n",
              "      <td>401</td>\n",
              "    </tr>\n",
              "    <tr>\n",
              "      <th>1</th>\n",
              "      <td>Astoria</td>\n",
              "      <td>Families with Children</td>\n",
              "      <td>2019</td>\n",
              "      <td>Dollars</td>\n",
              "      <td>75972</td>\n",
              "      <td>401</td>\n",
              "    </tr>\n",
              "    <tr>\n",
              "      <th>2</th>\n",
              "      <td>Astoria</td>\n",
              "      <td>Families</td>\n",
              "      <td>2019</td>\n",
              "      <td>Dollars</td>\n",
              "      <td>88662</td>\n",
              "      <td>401</td>\n",
              "    </tr>\n",
              "    <tr>\n",
              "      <th>3</th>\n",
              "      <td>Astoria</td>\n",
              "      <td>All Households</td>\n",
              "      <td>2019</td>\n",
              "      <td>Dollars</td>\n",
              "      <td>79180</td>\n",
              "      <td>401</td>\n",
              "    </tr>\n",
              "    <tr>\n",
              "      <th>4</th>\n",
              "      <td>Astoria</td>\n",
              "      <td>Families without Children</td>\n",
              "      <td>2018</td>\n",
              "      <td>Dollars</td>\n",
              "      <td>79374.50784</td>\n",
              "      <td>401</td>\n",
              "    </tr>\n",
              "  </tbody>\n",
              "</table>\n",
              "</div>"
            ],
            "text/plain": [
              "  Location             Household Type  TimeFrame DataFormat         Data  Fips\n",
              "0  Astoria  Families without Children       2019    Dollars        92755   401\n",
              "1  Astoria     Families with Children       2019    Dollars        75972   401\n",
              "2  Astoria                   Families       2019    Dollars        88662   401\n",
              "3  Astoria             All Households       2019    Dollars        79180   401\n",
              "4  Astoria  Families without Children       2018    Dollars  79374.50784   401"
            ]
          },
          "metadata": {},
          "execution_count": 28
        }
      ]
>>>>>>> 8a416e602847a086291faa032f7e900c9fb337dd
    },
    {
      "cell_type": "code",
      "source": [
        "#filtring locations\n",
        "target_location=['Manhattan','Queens','Staten Island','Bronx','Brooklyn']\n",
        "filter_by_location=df_3['Location'].isin(target_location)\n",
        "df_3=df_3[filter_by_location]\n",
        "df_3.tail(5)"
      ],
      "metadata": {
<<<<<<< HEAD
        "id": "gNSADPl_BmuF"
      },
      "id": "gNSADPl_BmuF",
      "execution_count": null,
      "outputs": []
=======
        "colab": {
          "base_uri": "https://localhost:8080/",
          "height": 206
        },
        "id": "gNSADPl_BmuF",
        "outputId": "8922b7cb-ca4e-425e-de00-fe8c8f43f1f8"
      },
      "id": "gNSADPl_BmuF",
      "execution_count": 29,
      "outputs": [
        {
          "output_type": "execute_result",
          "data": {
            "text/html": [
              "<div>\n",
              "<style scoped>\n",
              "    .dataframe tbody tr th:only-of-type {\n",
              "        vertical-align: middle;\n",
              "    }\n",
              "\n",
              "    .dataframe tbody tr th {\n",
              "        vertical-align: top;\n",
              "    }\n",
              "\n",
              "    .dataframe thead th {\n",
              "        text-align: right;\n",
              "    }\n",
              "</style>\n",
              "<table border=\"1\" class=\"dataframe\">\n",
              "  <thead>\n",
              "    <tr style=\"text-align: right;\">\n",
              "      <th></th>\n",
              "      <th>Location</th>\n",
              "      <th>Household Type</th>\n",
              "      <th>TimeFrame</th>\n",
              "      <th>DataFormat</th>\n",
              "      <th>Data</th>\n",
              "      <th>Fips</th>\n",
              "    </tr>\n",
              "  </thead>\n",
              "  <tbody>\n",
              "    <tr>\n",
              "      <th>3115</th>\n",
              "      <td>Staten Island</td>\n",
              "      <td>Families with Children</td>\n",
              "      <td>2006</td>\n",
              "      <td>Dollars</td>\n",
              "      <td>98525.5503</td>\n",
              "      <td>36085</td>\n",
              "    </tr>\n",
              "    <tr>\n",
              "      <th>3116</th>\n",
              "      <td>Staten Island</td>\n",
              "      <td>Families without Children</td>\n",
              "      <td>2005</td>\n",
              "      <td>Dollars</td>\n",
              "      <td>93105.33984</td>\n",
              "      <td>36085</td>\n",
              "    </tr>\n",
              "    <tr>\n",
              "      <th>3117</th>\n",
              "      <td>Staten Island</td>\n",
              "      <td>Families with Children</td>\n",
              "      <td>2005</td>\n",
              "      <td>Dollars</td>\n",
              "      <td>94044.94946</td>\n",
              "      <td>36085</td>\n",
              "    </tr>\n",
              "    <tr>\n",
              "      <th>3118</th>\n",
              "      <td>Staten Island</td>\n",
              "      <td>Families</td>\n",
              "      <td>2005</td>\n",
              "      <td>Dollars</td>\n",
              "      <td>93644.69676</td>\n",
              "      <td>36085</td>\n",
              "    </tr>\n",
              "    <tr>\n",
              "      <th>3119</th>\n",
              "      <td>Staten Island</td>\n",
              "      <td>All Households</td>\n",
              "      <td>2005</td>\n",
              "      <td>Dollars</td>\n",
              "      <td>82705.33113</td>\n",
              "      <td>36085</td>\n",
              "    </tr>\n",
              "  </tbody>\n",
              "</table>\n",
              "</div>"
            ],
            "text/plain": [
              "           Location             Household Type  ...         Data   Fips\n",
              "3115  Staten Island     Families with Children  ...   98525.5503  36085\n",
              "3116  Staten Island  Families without Children  ...  93105.33984  36085\n",
              "3117  Staten Island     Families with Children  ...  94044.94946  36085\n",
              "3118  Staten Island                   Families  ...  93644.69676  36085\n",
              "3119  Staten Island             All Households  ...  82705.33113  36085\n",
              "\n",
              "[5 rows x 6 columns]"
            ]
          },
          "metadata": {},
          "execution_count": 29
        }
      ]
>>>>>>> 8a416e602847a086291faa032f7e900c9fb337dd
    },
    {
      "cell_type": "code",
      "source": [
        "print('Null values: ', df_3.isnull().sum().sort_values(ascending=False))\n",
        "print()\n",
        "print(\"Duplicate: \", df_3.duplicated().sum())\n",
        "print()\n",
        "print('Data type: ', df_3.dtypes)"
      ],
      "metadata": {
<<<<<<< HEAD
        "id": "qWobJUxIEeam"
      },
      "id": "qWobJUxIEeam",
      "execution_count": null,
      "outputs": []
=======
        "colab": {
          "base_uri": "https://localhost:8080/"
        },
        "id": "qWobJUxIEeam",
        "outputId": "4fc90a25-84a0-46af-e2be-c7f3311af3c2"
      },
      "id": "qWobJUxIEeam",
      "execution_count": 30,
      "outputs": [
        {
          "output_type": "stream",
          "name": "stdout",
          "text": [
            "Null values:  Fips              0\n",
            "Data              0\n",
            "DataFormat        0\n",
            "TimeFrame         0\n",
            "Household Type    0\n",
            "Location          0\n",
            "dtype: int64\n",
            "\n",
            "Duplicate:  0\n",
            "\n",
            "Data type:  Location          object\n",
            "Household Type    object\n",
            "TimeFrame          int64\n",
            "DataFormat        object\n",
            "Data              object\n",
            "Fips               int64\n",
            "dtype: object\n"
          ]
        }
      ]
>>>>>>> 8a416e602847a086291faa032f7e900c9fb337dd
    },
    {
      "cell_type": "code",
      "source": [
        "df_3['Data'] = df_3['Data'] .astype(float)\n",
        "print('Data type: ', df_3.dtypes)"
      ],
      "metadata": {
<<<<<<< HEAD
        "id": "XxQoKBZLEmWQ"
      },
      "id": "XxQoKBZLEmWQ",
      "execution_count": null,
      "outputs": []
=======
        "colab": {
          "base_uri": "https://localhost:8080/"
        },
        "id": "XxQoKBZLEmWQ",
        "outputId": "91bded80-4437-471c-ffd9-9beab39dba5a"
      },
      "id": "XxQoKBZLEmWQ",
      "execution_count": 31,
      "outputs": [
        {
          "output_type": "stream",
          "name": "stdout",
          "text": [
            "Data type:  Location           object\n",
            "Household Type     object\n",
            "TimeFrame           int64\n",
            "DataFormat         object\n",
            "Data              float64\n",
            "Fips                int64\n",
            "dtype: object\n"
          ]
        }
      ]
>>>>>>> 8a416e602847a086291faa032f7e900c9fb337dd
    },
    {
      "cell_type": "code",
      "source": [
        "pivot = df_3.pivot_table(\n",
        "    index=['Location'], \n",
        "    columns=['Household Type'],\n",
        "    values=['Data'], \n",
        "    aggfunc='median')\n",
        "pivot"
      ],
      "metadata": {
<<<<<<< HEAD
        "id": "xudNM4YrBmx_"
      },
      "id": "xudNM4YrBmx_",
      "execution_count": null,
      "outputs": []
=======
        "colab": {
          "base_uri": "https://localhost:8080/",
          "height": 269
        },
        "id": "xudNM4YrBmx_",
        "outputId": "d91d0273-e57d-4505-8f54-dcfadafb9268"
      },
      "id": "xudNM4YrBmx_",
      "execution_count": 32,
      "outputs": [
        {
          "output_type": "execute_result",
          "data": {
            "text/html": [
              "<div>\n",
              "<style scoped>\n",
              "    .dataframe tbody tr th:only-of-type {\n",
              "        vertical-align: middle;\n",
              "    }\n",
              "\n",
              "    .dataframe tbody tr th {\n",
              "        vertical-align: top;\n",
              "    }\n",
              "\n",
              "    .dataframe thead tr th {\n",
              "        text-align: left;\n",
              "    }\n",
              "\n",
              "    .dataframe thead tr:last-of-type th {\n",
              "        text-align: right;\n",
              "    }\n",
              "</style>\n",
              "<table border=\"1\" class=\"dataframe\">\n",
              "  <thead>\n",
              "    <tr>\n",
              "      <th></th>\n",
              "      <th colspan=\"4\" halign=\"left\">Data</th>\n",
              "    </tr>\n",
              "    <tr>\n",
              "      <th>Household Type</th>\n",
              "      <th>All Households</th>\n",
              "      <th>Families</th>\n",
              "      <th>Families with Children</th>\n",
              "      <th>Families without Children</th>\n",
              "    </tr>\n",
              "    <tr>\n",
              "      <th>Location</th>\n",
              "      <th></th>\n",
              "      <th></th>\n",
              "      <th></th>\n",
              "      <th></th>\n",
              "    </tr>\n",
              "  </thead>\n",
              "  <tbody>\n",
              "    <tr>\n",
              "      <th>Bronx</th>\n",
              "      <td>39002.68837</td>\n",
              "      <td>44671.15165</td>\n",
              "      <td>36887.61357</td>\n",
              "      <td>54712.39659</td>\n",
              "    </tr>\n",
              "    <tr>\n",
              "      <th>Brooklyn</th>\n",
              "      <td>51633.94562</td>\n",
              "      <td>58567.59248</td>\n",
              "      <td>51379.15766</td>\n",
              "      <td>64680.60293</td>\n",
              "    </tr>\n",
              "    <tr>\n",
              "      <th>Manhattan</th>\n",
              "      <td>81553.41788</td>\n",
              "      <td>97007.28613</td>\n",
              "      <td>97165.92003</td>\n",
              "      <td>96348.82336</td>\n",
              "    </tr>\n",
              "    <tr>\n",
              "      <th>Queens</th>\n",
              "      <td>65201.72829</td>\n",
              "      <td>72876.01114</td>\n",
              "      <td>66390.57124</td>\n",
              "      <td>78082.73345</td>\n",
              "    </tr>\n",
              "    <tr>\n",
              "      <th>Staten Island</th>\n",
              "      <td>82601.59695</td>\n",
              "      <td>96834.76592</td>\n",
              "      <td>94760.14820</td>\n",
              "      <td>99273.13690</td>\n",
              "    </tr>\n",
              "  </tbody>\n",
              "</table>\n",
              "</div>"
            ],
            "text/plain": [
              "                         Data  ...                          \n",
              "Household Type All Households  ... Families without Children\n",
              "Location                       ...                          \n",
              "Bronx             39002.68837  ...               54712.39659\n",
              "Brooklyn          51633.94562  ...               64680.60293\n",
              "Manhattan         81553.41788  ...               96348.82336\n",
              "Queens            65201.72829  ...               78082.73345\n",
              "Staten Island     82601.59695  ...               99273.13690\n",
              "\n",
              "[5 rows x 4 columns]"
            ]
          },
          "metadata": {},
          "execution_count": 32
        }
      ]
>>>>>>> 8a416e602847a086291faa032f7e900c9fb337dd
    },
    {
      "cell_type": "code",
      "source": [
        "#This code is for comparing the income with how much spending on rent our data is table_income\n",
        "table_income=pivot.reset_index()\n",
        "Picked_cols=[('Location',                          ''),(    'Data',    'Families with Children')]\n",
        "table_income=table_income[Picked_cols]\n",
        "new_cols=['Location','Families_With_Children']\n",
        "table_income.columns=new_cols\n",
        "table_income"
      ],
      "metadata": {
<<<<<<< HEAD
        "id": "sCddaC3wcCaU"
      },
      "id": "sCddaC3wcCaU",
      "execution_count": null,
      "outputs": []
=======
        "colab": {
          "base_uri": "https://localhost:8080/",
          "height": 206
        },
        "id": "sCddaC3wcCaU",
        "outputId": "1a2233a8-7ab5-4a29-a4ae-a2ae7138f2de"
      },
      "id": "sCddaC3wcCaU",
      "execution_count": 33,
      "outputs": [
        {
          "output_type": "execute_result",
          "data": {
            "text/html": [
              "<div>\n",
              "<style scoped>\n",
              "    .dataframe tbody tr th:only-of-type {\n",
              "        vertical-align: middle;\n",
              "    }\n",
              "\n",
              "    .dataframe tbody tr th {\n",
              "        vertical-align: top;\n",
              "    }\n",
              "\n",
              "    .dataframe thead th {\n",
              "        text-align: right;\n",
              "    }\n",
              "</style>\n",
              "<table border=\"1\" class=\"dataframe\">\n",
              "  <thead>\n",
              "    <tr style=\"text-align: right;\">\n",
              "      <th></th>\n",
              "      <th>Location</th>\n",
              "      <th>Families_With_Children</th>\n",
              "    </tr>\n",
              "  </thead>\n",
              "  <tbody>\n",
              "    <tr>\n",
              "      <th>0</th>\n",
              "      <td>Bronx</td>\n",
              "      <td>36887.61357</td>\n",
              "    </tr>\n",
              "    <tr>\n",
              "      <th>1</th>\n",
              "      <td>Brooklyn</td>\n",
              "      <td>51379.15766</td>\n",
              "    </tr>\n",
              "    <tr>\n",
              "      <th>2</th>\n",
              "      <td>Manhattan</td>\n",
              "      <td>97165.92003</td>\n",
              "    </tr>\n",
              "    <tr>\n",
              "      <th>3</th>\n",
              "      <td>Queens</td>\n",
              "      <td>66390.57124</td>\n",
              "    </tr>\n",
              "    <tr>\n",
              "      <th>4</th>\n",
              "      <td>Staten Island</td>\n",
              "      <td>94760.14820</td>\n",
              "    </tr>\n",
              "  </tbody>\n",
              "</table>\n",
              "</div>"
            ],
            "text/plain": [
              "        Location  Families_With_Children\n",
              "0          Bronx             36887.61357\n",
              "1       Brooklyn             51379.15766\n",
              "2      Manhattan             97165.92003\n",
              "3         Queens             66390.57124\n",
              "4  Staten Island             94760.14820"
            ]
          },
          "metadata": {},
          "execution_count": 33
        }
      ]
>>>>>>> 8a416e602847a086291faa032f7e900c9fb337dd
    },
    {
      "cell_type": "code",
      "source": [
        "pivot.plot()\n",
        "plt.show()"
      ],
      "metadata": {
<<<<<<< HEAD
        "id": "bC4XxB75Bm3M"
      },
      "id": "bC4XxB75Bm3M",
      "execution_count": null,
      "outputs": []
=======
        "colab": {
          "base_uri": "https://localhost:8080/",
          "height": 285
        },
        "id": "bC4XxB75Bm3M",
        "outputId": "dcdf7471-18e4-4626-d7b6-4d0716804395"
      },
      "id": "bC4XxB75Bm3M",
      "execution_count": 34,
      "outputs": [
        {
          "output_type": "display_data",
          "data": {
            "image/png": "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\n",
            "text/plain": [
              "<Figure size 432x288 with 1 Axes>"
            ]
          },
          "metadata": {
            "needs_background": "light"
          }
        }
      ]
>>>>>>> 8a416e602847a086291faa032f7e900c9fb337dd
    },
    {
      "cell_type": "markdown",
      "source": [
        "* We should consider that the lower income occurs in Bronx, with Families with Children in roughly $37,000. In the next dataset we will investigate children in the shelter."
      ],
      "metadata": {
        "id": "-3RnZ81XF1Nu"
      },
      "id": "-3RnZ81XF1Nu"
    },
    {
      "cell_type": "code",
      "source": [
        "# Investigating income based on year\n",
        "def get_location(loc, data=df_3):\n",
        "  cond=df_3['Location']==loc\n",
        "  gp=df_3[cond]\n",
        "  return gp"
      ],
      "metadata": {
        "id": "fpo_vl96mlP4"
      },
      "id": "fpo_vl96mlP4",
      "execution_count": 35,
      "outputs": []
    },
    {
      "cell_type": "code",
      "source": [
        "#choose the location\n",
        "data=get_location('Bronx')\n",
        "\n",
        "#See the pattern\n",
        "plt.scatter(data['TimeFrame'],data['Data'])\n",
        "plt.xlabel('Bronx')\n",
        "plt.ylabel('Median Income')\n",
        "plt.show()"
      ],
      "metadata": {
<<<<<<< HEAD
        "id": "nzgX1AklmqVx"
      },
      "id": "nzgX1AklmqVx",
      "execution_count": null,
      "outputs": []
=======
        "colab": {
          "base_uri": "https://localhost:8080/",
          "height": 285
        },
        "id": "nzgX1AklmqVx",
        "outputId": "09eed6a3-abf1-40b8-f549-081e6097dcd2"
      },
      "id": "nzgX1AklmqVx",
      "execution_count": 36,
      "outputs": [
        {
          "output_type": "display_data",
          "data": {
            "image/png": "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\n",
            "text/plain": [
              "<Figure size 432x288 with 1 Axes>"
            ]
          },
          "metadata": {
            "needs_background": "light"
          }
        }
      ]
>>>>>>> 8a416e602847a086291faa032f7e900c9fb337dd
    },
    {
      "cell_type": "markdown",
      "source": [
        "* Some more investigation regarding the income and how much goes for rent"
      ],
      "metadata": {
        "id": "e3l-uTqighTC"
      },
      "id": "e3l-uTqighTC"
    },
    {
      "cell_type": "code",
      "source": [
        "#Mergin the two dataframes table_income and table_per_income\n",
        "merged_income_percentage = pd.merge(table_income, table_per_income)\n",
        "merged_income_percentage['How much goes for rent']=merged_income_percentage['Families_With_Children'] * merged_income_percentage['AverageIncome%']\n",
        "merged_income_percentage"
      ],
      "metadata": {
<<<<<<< HEAD
        "id": "f09kfokzggpD"
      },
      "id": "f09kfokzggpD",
      "execution_count": null,
      "outputs": []
=======
        "colab": {
          "base_uri": "https://localhost:8080/",
          "height": 206
        },
        "id": "f09kfokzggpD",
        "outputId": "6582ef5d-4441-427b-bb7f-001c1dca967e"
      },
      "id": "f09kfokzggpD",
      "execution_count": 37,
      "outputs": [
        {
          "output_type": "execute_result",
          "data": {
            "text/html": [
              "<div>\n",
              "<style scoped>\n",
              "    .dataframe tbody tr th:only-of-type {\n",
              "        vertical-align: middle;\n",
              "    }\n",
              "\n",
              "    .dataframe tbody tr th {\n",
              "        vertical-align: top;\n",
              "    }\n",
              "\n",
              "    .dataframe thead th {\n",
              "        text-align: right;\n",
              "    }\n",
              "</style>\n",
              "<table border=\"1\" class=\"dataframe\">\n",
              "  <thead>\n",
              "    <tr style=\"text-align: right;\">\n",
              "      <th></th>\n",
              "      <th>Location</th>\n",
              "      <th>Families_With_Children</th>\n",
              "      <th>AverageIncome%</th>\n",
              "      <th>How much goes for rent</th>\n",
              "    </tr>\n",
              "  </thead>\n",
              "  <tbody>\n",
              "    <tr>\n",
              "      <th>0</th>\n",
              "      <td>Bronx</td>\n",
              "      <td>36887.61357</td>\n",
              "      <td>0.323333</td>\n",
              "      <td>11926.995054</td>\n",
              "    </tr>\n",
              "    <tr>\n",
              "      <th>1</th>\n",
              "      <td>Brooklyn</td>\n",
              "      <td>51379.15766</td>\n",
              "      <td>0.283333</td>\n",
              "      <td>14557.428004</td>\n",
              "    </tr>\n",
              "    <tr>\n",
              "      <th>2</th>\n",
              "      <td>Manhattan</td>\n",
              "      <td>97165.92003</td>\n",
              "      <td>0.217333</td>\n",
              "      <td>21117.393287</td>\n",
              "    </tr>\n",
              "    <tr>\n",
              "      <th>3</th>\n",
              "      <td>Queens</td>\n",
              "      <td>66390.57124</td>\n",
              "      <td>0.278667</td>\n",
              "      <td>18500.839186</td>\n",
              "    </tr>\n",
              "    <tr>\n",
              "      <th>4</th>\n",
              "      <td>Staten Island</td>\n",
              "      <td>94760.14820</td>\n",
              "      <td>0.285333</td>\n",
              "      <td>27038.228953</td>\n",
              "    </tr>\n",
              "  </tbody>\n",
              "</table>\n",
              "</div>"
            ],
            "text/plain": [
              "        Location  ...  How much goes for rent\n",
              "0          Bronx  ...            11926.995054\n",
              "1       Brooklyn  ...            14557.428004\n",
              "2      Manhattan  ...            21117.393287\n",
              "3         Queens  ...            18500.839186\n",
              "4  Staten Island  ...            27038.228953\n",
              "\n",
              "[5 rows x 4 columns]"
            ]
          },
          "metadata": {},
          "execution_count": 37
        }
      ]
>>>>>>> 8a416e602847a086291faa032f7e900c9fb337dd
    },
    {
      "cell_type": "code",
      "source": [
        "cond=merged_income_percentage['Location']=='Bronx'\n",
        "data=merged_income_percentage[cond]\n",
        "# barWidth = 0.25\n",
        "# fig = plt.subplots(figsize =(12, 8))\n",
        "data.pivot(index='Location', columns=['Families_With_Children','How much goes for rent'], values=['Families_With_Children','How much goes for rent']).plot(kind='bar')\n",
        "plt.title('The difference in median icome Vs Rent')\n",
        "plt.show()"
      ],
      "metadata": {
<<<<<<< HEAD
        "id": "kBNNa784HxTM"
      },
      "id": "kBNNa784HxTM",
      "execution_count": null,
      "outputs": []
=======
        "colab": {
          "base_uri": "https://localhost:8080/",
          "height": 323
        },
        "id": "kBNNa784HxTM",
        "outputId": "954541b2-94a8-421d-8320-0b825ff37a6a"
      },
      "id": "kBNNa784HxTM",
      "execution_count": 38,
      "outputs": [
        {
          "output_type": "display_data",
          "data": {
            "image/png": "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\n",
            "text/plain": [
              "<Figure size 432x288 with 1 Axes>"
            ]
          },
          "metadata": {
            "needs_background": "light"
          }
        }
      ]
>>>>>>> 8a416e602847a086291faa032f7e900c9fb337dd
    },
    {
      "cell_type": "markdown",
      "source": [
        "## Children in Shelter"
      ],
      "metadata": {
        "id": "CPausg7D-3MS"
      },
      "id": "CPausg7D-3MS"
    },
    {
      "cell_type": "code",
      "metadata": {
<<<<<<< HEAD
        "id": "2e2f803a"
=======
        "id": "2e2f803a",
        "colab": {
          "base_uri": "https://localhost:8080/",
          "height": 330
        },
        "outputId": "bc6c0f24-d1fe-47a5-d372-bf8d7c421e59"
>>>>>>> 8a416e602847a086291faa032f7e900c9fb337dd
      },
      "source": [
        "DHS_Daily_Report = pd.read_csv('https://raw.githubusercontent.com/MBouchaqour/homelessness_project/main/data/DHS_Daily_Report.csv')\n",
        "DHS_Daily_Report.head(5)"
      ],
      "id": "2e2f803a",
<<<<<<< HEAD
      "execution_count": null,
      "outputs": []
    },
    {
      "cell_type": "code",
      "source": [
        "# The period we deal with is started from 2013-08-21 and end at 2021-11-03\n",
        "check_date=list(pd.date_range('2013-08-21', '2021-11-03', freq='D'))\n",
        "check_date"
      ],
      "metadata": {
        "id": "3sC3mDO-Hju1"
      },
      "id": "3sC3mDO-Hju1",
      "execution_count": null,
      "outputs": []
    },
    {
      "cell_type": "code",
      "source": [
        "current_date= list(DHS_Daily_Report.index)\n"
      ],
      "metadata": {
        "id": "M6yFoC-EJH6-"
      },
      "id": "M6yFoC-EJH6-",
      "execution_count": null,
      "outputs": []
    },
    {
      "cell_type": "code",
      "source": [
        "DHS_Daily_Report.columns"
      ],
      "metadata": {
        "id": "fUUm2vm3Kh6y"
      },
      "id": "fUUm2vm3Kh6y",
      "execution_count": null,
      "outputs": []
    },
    {
      "cell_type": "code",
      "source": [
        "DHS_Daily_Report.loc['2013']"
      ],
      "metadata": {
        "id": "ypeOTv0DKlb0"
      },
      "id": "ypeOTv0DKlb0",
      "execution_count": null,
      "outputs": []
    },
    {
      "cell_type": "code",
      "source": [
        "diff=[item for item in check_date if item not in current_date ]\n",
        "def filter_years(year,data=diff):\n",
        "  new_list=[]\n",
        "  for n in data:\n",
        "    txt=str(n)\n",
        "    if txt.find(year)!=-1:\n",
        "      new_list.append(n)\n",
        "  return new_list"
      ],
      "metadata": {
        "id": "lBmsK9VyJM4d"
      },
      "id": "lBmsK9VyJM4d",
      "execution_count": null,
      "outputs": []
    },
    {
      "cell_type": "code",
      "source": [
        "filter_years('2013')"
      ],
      "metadata": {
        "id": "zxVRKwQsN4uN"
      },
      "id": "zxVRKwQsN4uN",
      "execution_count": null,
      "outputs": []
    },
    {
      "cell_type": "code",
      "source": [
        "data={\n",
        "       'Date of Census':filter_years('2013'),\n",
        "      'Total Adults in Shelter':DHS_Daily_Report.loc['2013']['Total Adults in Shelter'].median(), \n",
        "      'Total Children in Shelter':DHS_Daily_Report.loc['2013']['Total Children in Shelter'].median(),\n",
        "       'Total Individuals in Shelter':DHS_Daily_Report.loc['2013']['Total Individuals in Shelter'].median(), \n",
        "      'Single Adult Men in Shelter':DHS_Daily_Report.loc['2013']['Single Adult Men in Shelter'].median(),\n",
        "       'Single Adult Women in Shelter':DHS_Daily_Report.loc['2013']['Single Adult Women in Shelter'].median(), \n",
        "      'Total Single Adults in Shelter':DHS_Daily_Report.loc['2013']['Total Adults in Shelter'].median(),\n",
        "       'Families with Children in Shelter':DHS_Daily_Report.loc['2013']['Families with Children in Shelter'].median(),\n",
        "       'Adults in Families with Children in Shelter':DHS_Daily_Report.loc['2013']['Adults in Families with Children in Shelter'].median(),\n",
        "       'Children in Families with Children in Shelter':DHS_Daily_Report.loc['2013']['Children in Families with Children in Shelter'].median(),\n",
        "       'Total Individuals in Families with Children in Shelter ':DHS_Daily_Report.loc['2013']['Total Individuals in Families with Children in Shelter '].median(),\n",
        "       'Adult Families in Shelter':DHS_Daily_Report.loc['2013']['Adult Families in Shelter'].median(), \n",
        "      'Individuals in Adult Families in Shelter':DHS_Daily_Report.loc['2013']['Individuals in Adult Families in Shelter'].median()\n",
        "      \n",
        "}\n",
        "\n"
      ],
      "metadata": {
        "id": "or9XeUhoOlC7"
      },
      "id": "or9XeUhoOlC7",
      "execution_count": null,
      "outputs": []
    },
    {
      "cell_type": "code",
      "source": [
        ""
      ],
      "metadata": {
        "id": "NR3abOajOlFz"
      },
      "id": "NR3abOajOlFz",
      "execution_count": null,
      "outputs": []
    },
    {
      "cell_type": "code",
      "source": [
        ""
      ],
      "metadata": {
        "id": "5A2rBaVjOlIp"
      },
      "id": "5A2rBaVjOlIp",
      "execution_count": null,
      "outputs": []
    },
    {
      "cell_type": "code",
      "source": [
        ""
      ],
      "metadata": {
        "id": "JDU8pX00OlLq"
      },
      "id": "JDU8pX00OlLq",
      "execution_count": null,
      "outputs": []
    },
    {
      "cell_type": "code",
      "source": [
        ""
      ],
      "metadata": {
        "id": "Obs-yK07OlOw"
      },
      "id": "Obs-yK07OlOw",
      "execution_count": null,
      "outputs": []
    },
    {
      "cell_type": "code",
      "source": [
        ""
      ],
      "metadata": {
        "id": "smXUjv-eOlSB"
      },
      "id": "smXUjv-eOlSB",
      "execution_count": null,
      "outputs": []
    },
    {
      "cell_type": "code",
      "source": [
        ""
      ],
      "metadata": {
        "id": "eaE-V7sDOlUd"
      },
      "id": "eaE-V7sDOlUd",
      "execution_count": null,
      "outputs": []
    },
    {
      "cell_type": "code",
      "source": [
        ""
      ],
      "metadata": {
        "id": "L6uEenKuOlXc"
      },
      "id": "L6uEenKuOlXc",
      "execution_count": null,
      "outputs": []
    },
    {
      "cell_type": "code",
      "source": [
        ""
      ],
      "metadata": {
        "id": "ewqT6rfyOlaR"
      },
      "id": "ewqT6rfyOlaR",
      "execution_count": null,
      "outputs": []
    },
    {
      "cell_type": "code",
      "source": [
        ""
      ],
      "metadata": {
        "id": "VMx0kb_-OldN"
      },
      "id": "VMx0kb_-OldN",
      "execution_count": null,
      "outputs": []
    },
    {
      "cell_type": "code",
      "metadata": {
        "id": "ff0606f4"
=======
      "execution_count": 39,
      "outputs": [
        {
          "output_type": "execute_result",
          "data": {
            "text/html": [
              "<div>\n",
              "<style scoped>\n",
              "    .dataframe tbody tr th:only-of-type {\n",
              "        vertical-align: middle;\n",
              "    }\n",
              "\n",
              "    .dataframe tbody tr th {\n",
              "        vertical-align: top;\n",
              "    }\n",
              "\n",
              "    .dataframe thead th {\n",
              "        text-align: right;\n",
              "    }\n",
              "</style>\n",
              "<table border=\"1\" class=\"dataframe\">\n",
              "  <thead>\n",
              "    <tr style=\"text-align: right;\">\n",
              "      <th></th>\n",
              "      <th>Date of Census</th>\n",
              "      <th>Total Adults in Shelter</th>\n",
              "      <th>Total Children in Shelter</th>\n",
              "      <th>Total Individuals in Shelter</th>\n",
              "      <th>Single Adult Men in Shelter</th>\n",
              "      <th>Single Adult Women in Shelter</th>\n",
              "      <th>Total Single Adults in Shelter</th>\n",
              "      <th>Families with Children in Shelter</th>\n",
              "      <th>Adults in Families with Children in Shelter</th>\n",
              "      <th>Children in Families with Children in Shelter</th>\n",
              "      <th>Total Individuals in Families with Children in Shelter</th>\n",
              "      <th>Adult Families in Shelter</th>\n",
              "      <th>Individuals in Adult Families in Shelter</th>\n",
              "    </tr>\n",
              "  </thead>\n",
              "  <tbody>\n",
              "    <tr>\n",
              "      <th>0</th>\n",
              "      <td>09/28/2021</td>\n",
              "      <td>30803</td>\n",
              "      <td>14741</td>\n",
              "      <td>45544</td>\n",
              "      <td>12312</td>\n",
              "      <td>4080</td>\n",
              "      <td>16392</td>\n",
              "      <td>8478</td>\n",
              "      <td>11126</td>\n",
              "      <td>14741</td>\n",
              "      <td>25867</td>\n",
              "      <td>1569</td>\n",
              "      <td>3285</td>\n",
              "    </tr>\n",
              "    <tr>\n",
              "      <th>1</th>\n",
              "      <td>09/27/2021</td>\n",
              "      <td>30827</td>\n",
              "      <td>14789</td>\n",
              "      <td>45616</td>\n",
              "      <td>12272</td>\n",
              "      <td>4076</td>\n",
              "      <td>16348</td>\n",
              "      <td>8495</td>\n",
              "      <td>11161</td>\n",
              "      <td>14789</td>\n",
              "      <td>25950</td>\n",
              "      <td>1585</td>\n",
              "      <td>3318</td>\n",
              "    </tr>\n",
              "    <tr>\n",
              "      <th>2</th>\n",
              "      <td>09/26/2021</td>\n",
              "      <td>30764</td>\n",
              "      <td>14750</td>\n",
              "      <td>45514</td>\n",
              "      <td>12261</td>\n",
              "      <td>4079</td>\n",
              "      <td>16340</td>\n",
              "      <td>8471</td>\n",
              "      <td>11125</td>\n",
              "      <td>14750</td>\n",
              "      <td>25875</td>\n",
              "      <td>1575</td>\n",
              "      <td>3299</td>\n",
              "    </tr>\n",
              "    <tr>\n",
              "      <th>3</th>\n",
              "      <td>09/25/2021</td>\n",
              "      <td>30683</td>\n",
              "      <td>14760</td>\n",
              "      <td>45443</td>\n",
              "      <td>12180</td>\n",
              "      <td>4082</td>\n",
              "      <td>16262</td>\n",
              "      <td>8466</td>\n",
              "      <td>11125</td>\n",
              "      <td>14760</td>\n",
              "      <td>25885</td>\n",
              "      <td>1573</td>\n",
              "      <td>3296</td>\n",
              "    </tr>\n",
              "    <tr>\n",
              "      <th>4</th>\n",
              "      <td>09/24/2021</td>\n",
              "      <td>30599</td>\n",
              "      <td>14721</td>\n",
              "      <td>45320</td>\n",
              "      <td>12161</td>\n",
              "      <td>4073</td>\n",
              "      <td>16234</td>\n",
              "      <td>8436</td>\n",
              "      <td>11082</td>\n",
              "      <td>14721</td>\n",
              "      <td>25803</td>\n",
              "      <td>1568</td>\n",
              "      <td>3283</td>\n",
              "    </tr>\n",
              "  </tbody>\n",
              "</table>\n",
              "</div>"
            ],
            "text/plain": [
              "  Date of Census  ...  Individuals in Adult Families in Shelter\n",
              "0     09/28/2021  ...                                      3285\n",
              "1     09/27/2021  ...                                      3318\n",
              "2     09/26/2021  ...                                      3299\n",
              "3     09/25/2021  ...                                      3296\n",
              "4     09/24/2021  ...                                      3283\n",
              "\n",
              "[5 rows x 13 columns]"
            ]
          },
          "metadata": {},
          "execution_count": 39
        }
      ]
    },
    {
      "cell_type": "code",
      "metadata": {
        "id": "ff0606f4",
        "colab": {
          "base_uri": "https://localhost:8080/"
        },
        "outputId": "20df7d9d-6603-4749-b072-b3f6171a48ac"
>>>>>>> 8a416e602847a086291faa032f7e900c9fb337dd
      },
      "source": [
        "print(\"data shape: \", DHS_Daily_Report.shape)\n",
        "print(\"Date type: \", DHS_Daily_Report.dtypes)"
      ],
      "id": "ff0606f4",
<<<<<<< HEAD
      "execution_count": null,
      "outputs": []
=======
      "execution_count": 40,
      "outputs": [
        {
          "output_type": "stream",
          "name": "stdout",
          "text": [
            "data shape:  (2932, 13)\n",
            "Date type:  Date of Census                                             object\n",
            "Total Adults in Shelter                                     int64\n",
            "Total Children in Shelter                                   int64\n",
            "Total Individuals in Shelter                                int64\n",
            "Single Adult Men in Shelter                                 int64\n",
            "Single Adult Women in Shelter                               int64\n",
            "Total Single Adults in Shelter                              int64\n",
            "Families with Children in Shelter                           int64\n",
            "Adults in Families with Children in Shelter                 int64\n",
            "Children in Families with Children in Shelter               int64\n",
            "Total Individuals in Families with Children in Shelter      int64\n",
            "Adult Families in Shelter                                   int64\n",
            "Individuals in Adult Families in Shelter                    int64\n",
            "dtype: object\n"
          ]
        }
      ]
>>>>>>> 8a416e602847a086291faa032f7e900c9fb337dd
    },
    {
      "cell_type": "code",
      "metadata": {
<<<<<<< HEAD
        "id": "vc2E-VoxCMW3"
=======
        "id": "vc2E-VoxCMW3",
        "colab": {
          "base_uri": "https://localhost:8080/"
        },
        "outputId": "d1c9e928-1352-436a-a4ac-566c94de71d2"
>>>>>>> 8a416e602847a086291faa032f7e900c9fb337dd
      },
      "source": [
        "#changing the date from object to date\n",
        "DHS_Daily_Report['Date of Census']=pd.to_datetime(DHS_Daily_Report['Date of Census'])\n",
        "DHS_Daily_Report.dtypes"
      ],
      "id": "vc2E-VoxCMW3",
<<<<<<< HEAD
      "execution_count": null,
      "outputs": []
    },
    {
      "cell_type": "code",
      "source": [
        "DHS_Daily_Report.sort_values(by=['Date of Census'], inplace=True)\n",
        "DHS_Daily_Report.head(5)"
      ],
      "metadata": {
        "id": "7zhHcAwnECA-"
      },
      "id": "7zhHcAwnECA-",
      "execution_count": null,
      "outputs": []
    },
    {
      "cell_type": "code",
      "metadata": {
        "id": "ny0VhGyfHb6N"
=======
      "execution_count": 41,
      "outputs": [
        {
          "output_type": "execute_result",
          "data": {
            "text/plain": [
              "Date of Census                                             datetime64[ns]\n",
              "Total Adults in Shelter                                             int64\n",
              "Total Children in Shelter                                           int64\n",
              "Total Individuals in Shelter                                        int64\n",
              "Single Adult Men in Shelter                                         int64\n",
              "Single Adult Women in Shelter                                       int64\n",
              "Total Single Adults in Shelter                                      int64\n",
              "Families with Children in Shelter                                   int64\n",
              "Adults in Families with Children in Shelter                         int64\n",
              "Children in Families with Children in Shelter                       int64\n",
              "Total Individuals in Families with Children in Shelter              int64\n",
              "Adult Families in Shelter                                           int64\n",
              "Individuals in Adult Families in Shelter                            int64\n",
              "dtype: object"
            ]
          },
          "metadata": {},
          "execution_count": 41
        }
      ]
    },
    {
      "cell_type": "code",
      "metadata": {
        "id": "ny0VhGyfHb6N",
        "colab": {
          "base_uri": "https://localhost:8080/"
        },
        "outputId": "5f35bd45-2408-476e-db15-69b083b4b41c"
>>>>>>> 8a416e602847a086291faa032f7e900c9fb337dd
      },
      "source": [
        "DHS_Daily_Report.isnull().sum() # checking for missing data"
      ],
      "id": "ny0VhGyfHb6N",
      "execution_count": null,
      "outputs": []
    },
    {
      "cell_type": "code",
      "metadata": {
        "id": "SajeSbJ6Hb9B"
      },
      "source": [
        "# Cheking for duplicate data\n",
        "n_dupes=DHS_Daily_Report.duplicated().sum()\n",
        "print(\"Number of duplicate rows are %i.\" % n_dupes)"
      ],
      "id": "SajeSbJ6Hb9B",
      "execution_count": null,
      "outputs": []
    },
    {
      "cell_type": "code",
      "metadata": {
        "id": "LAVjM6sUHb_8"
      },
      "source": [
        "#check this one\n",
        "dupplicate=DHS_Daily_Report[DHS_Daily_Report.duplicated()]\n",
        "dupplicate"
      ],
      "id": "LAVjM6sUHb_8",
      "execution_count": null,
      "outputs": []
    },
    {
      "cell_type": "code",
      "source": [
        "cond=DHS_Daily_Report['Date of Census']==\"2021-10-21\"\n",
        "DHS_Daily_Report[cond]"
      ],
      "metadata": {
        "id": "JAGOkbA3pxmS"
      },
      "id": "JAGOkbA3pxmS",
      "execution_count": null,
      "outputs": []
    },
    {
      "cell_type": "code",
      "metadata": {
        "id": "O6JYx_7QHcDA"
      },
      "source": [
        "DHS_Daily_Report.drop_duplicates(inplace=True)\n",
        "n_dupes=DHS_Daily_Report.duplicated().sum()\n",
        "print(\"Number of duplicate rows are %i.\" % n_dupes)\n"
      ],
      "id": "O6JYx_7QHcDA",
      "execution_count": null,
      "outputs": []
    },
    {
      "cell_type": "code",
      "source": [
        "#getting the date period\n",
        "star_date=min(DHS_Daily_Report['Date of Census'])\n",
        "end_date=max(DHS_Daily_Report['Date of Census'])\n",
        "print(f\"The period we deal with is started from {star_date.date()} and end at {end_date.date()}\")"
      ],
      "metadata": {
        "id": "HuYrt5rLsQWv"
      },
      "id": "HuYrt5rLsQWv",
      "execution_count": null,
      "outputs": []
    },
    {
      "cell_type": "code",
      "source": [
        "#indexing the data by date and creating 3 columns\n",
        "DHS_Daily_Report=DHS_Daily_Report.set_index('Date of Census')\n",
        "DHS_Daily_Report['Year'] = DHS_Daily_Report.index.year\n",
        "DHS_Daily_Report['Month'] = DHS_Daily_Report.index.month_name()\n",
        "DHS_Daily_Report['Weekday_Name'] = DHS_Daily_Report.index.day_name()"
      ],
      "metadata": {
        "id": "sfbOUJFMsDhd"
      },
      "id": "sfbOUJFMsDhd",
      "execution_count": null,
      "outputs": []
    },
    {
      "cell_type": "code",
      "source": [
        "  #Target variables\n",
        "Childrens=['Total Children in Shelter','Families with Children in Shelter']\n",
        "Adults=['Total Adults in Shelter','Single Adult Men in Shelter']\n",
        "Individuals=['Total Individuals in Shelter','Individuals in Adult Families in Shelter']"
      ],
      "metadata": {
        "id": "d31rD08oyqiy"
      },
      "id": "d31rD08oyqiy",
      "execution_count": null,
      "outputs": []
    },
    {
      "cell_type": "code",
      "source": [
        "def slicing_Data(group, period, data=DHS_Daily_Report):\n",
        "  try:\n",
        "  #collecting the target group\n",
        "    Childrens=['Total Children in Shelter','Families with Children in Shelter']\n",
        "    Adults=['Total Adults in Shelter','Single Adult Men in Shelter']\n",
        "    Individuals=['Total Individuals in Shelter','Individuals in Adult Families in Shelter']\n",
        "    if group=='Childrens':\n",
        "      group=Childrens[:]\n",
        "    elif group=='Adults':\n",
        "      group=Adults[:]\n",
        "    elif group=='Individuals':\n",
        "      group=Individuals[:]\n",
        "    else:\n",
        "      return 'Type does not exist'\n",
        "    if period not in [\"Year\", \"Month\", \"Weekday_Name\"]:\n",
        "      return 'You picked a wrong Period'\n",
        "    group.append(period)\n",
        "    df_table=data[group]\n",
        "    return df_table\n",
        "  except:\n",
        "    print('An error occurs while we respond to your request')"
      ],
      "metadata": {
        "id": "w1sCX5acxOCe"
      },
      "id": "w1sCX5acxOCe",
      "execution_count": null,
      "outputs": []
    },
    {
      "cell_type": "code",
      "source": [
        "#slcing data by Year, Month, Weekday_Name /// Childrens/ Adults /// Individuals\n",
        "table=slicing_Data(\"Childrens\",\"Year\")\n",
        "table"
      ],
      "metadata": {
        "id": "j8-oalWZs5tt"
      },
      "id": "j8-oalWZs5tt",
      "execution_count": null,
      "outputs": []
    },
    {
      "cell_type": "code",
      "source": [
        "table.filter(\n",
        "    items=['Total Children in Shelter','Families with Children in Shelter']\n",
        ").plot()\n",
        "plt.show()"
      ],
      "metadata": {
        "id": "jhD9tBQ5ASXh"
      },
      "id": "jhD9tBQ5ASXh",
      "execution_count": null,
      "outputs": []
    },
    {
      "cell_type": "markdown",
      "source": [
        "* As we can see from the graph, there is a huge drop regarding the number of children in the Shelter. We can't really infer anything. It may be a good or bad sign to see that dropping occurs:\n",
        "As a good interpretation: We may say that childrens are out of shelter and they moved to somewhere else or to houses where they will have normal life.\n",
        "Bad interpretation: We can say that children moved to outddor/street and that occurs because of the bad situation in the shelter (probably not safe), they were encoraged by the weather (When it hot outside families/childrens step out of the shelter). "
      ],
      "metadata": {
        "id": "wGNsvCmow_6F"
      },
      "id": "wGNsvCmow_6F"
    },
    {
      "cell_type": "code",
      "source": [
        "# Activate this function after you create the table:\n",
        "#This function return a pivot table\n",
        "def pivote_table(group, period, data=table):\n",
        "  Childrens=['Total Children in Shelter','Families with Children in Shelter']\n",
        "  Adults=['Total Adults in Shelter','Single Adult Men in Shelter']\n",
        "  Individuals=['Total Individuals in Shelter','Individuals in Adult Families in Shelter']\n",
        "  if group=='Childrens':\n",
        "    group=Childrens[:]\n",
        "  elif group=='Adults':\n",
        "    group=Adults[:]\n",
        "  elif group=='Individuals':\n",
        "    group=Individuals[:]\n",
        "  else:\n",
        "    return 'Type does not exist'\n",
        "  pivot=table.pivot_table(index=period,values=group,aggfunc='sum', margins=True)\n",
        "  return pivot"
      ],
      "metadata": {
        "id": "WOc2Od_mb4CX"
      },
      "id": "WOc2Od_mb4CX",
      "execution_count": null,
      "outputs": []
    },
    {
      "cell_type": "code",
      "source": [
        "#making sure you pick the same period (Year/Month/Day) as the table above\n",
        "pivot =pivote_table(\"Childrens\",\"Year\")\n",
        "pivot\n"
      ],
      "metadata": {
        "id": "F2sa62aivI7A"
      },
      "id": "F2sa62aivI7A",
      "execution_count": null,
      "outputs": []
    },
    {
      "cell_type": "code",
      "source": [
        "#graphing the pivot table\n",
        "# new_pivot=pivot.reset_index()\n",
        "pivot.plot(kind='bar')\n",
        "plt.show()"
      ],
      "metadata": {
        "id": "axBgRLCW8cO0"
      },
      "id": "axBgRLCW8cO0",
      "execution_count": null,
      "outputs": []
    },
    {
      "cell_type": "markdown",
      "source": [
        "* This graph tells us that the number of children that enters to shelter increased in 2021. We will investigate this case further. "
      ],
      "metadata": {
        "id": "y3s-0_q7y9lN"
      },
      "id": "y3s-0_q7y9lN"
    },
    {
      "cell_type": "code",
      "source": [
        "#Intro to Time series\n",
        "#Checking the differences between entries children for each day/date\n",
        "\n",
        "new_table=table.iloc[:,0:2]\n",
        "new_table.columns=['Total', 'T_familes']\n",
        "new_table['Difference']=new_table.eval('Total - T_familes')\n",
        "new_table"
      ],
      "metadata": {
        "id": "rTgh63qiMUzQ"
      },
      "id": "rTgh63qiMUzQ",
      "execution_count": null,
      "outputs": []
    },
    {
      "cell_type": "code",
      "source": [
        "# date is ranged from 2013-08-21 and  2021-11-03\n",
        "ax1 = new_table.loc['2021-8':'2021-9', 'Difference']\n",
        "ax1.plot(linewidth=2.5)"
      ],
      "metadata": {
        "id": "v6S5C8b5EkZq"
      },
      "id": "v6S5C8b5EkZq",
      "execution_count": null,
      "outputs": []
    },
    {
      "cell_type": "markdown",
      "source": [
        "* The increas we see in the begening of 2021 is more detailed within the graph above. We've seen a huge drop again from Jan to July: This happened because families/childrens decided first to back to shelter then they started leaving shelters. From July to September we saw almost no change, then some increasing happaned again starting from Sept.  "
      ],
      "metadata": {
        "id": "LUX7rUjO0Rc_"
      },
      "id": "LUX7rUjO0Rc_"
    },
    {
      "cell_type": "code",
      "source": [
        "#Rolling over July to November\n",
        "#Change period you wanted to investigate further in above function \n",
        "ax = ax1.plot(alpha=0.30)\n",
        "ax1.rolling(5).mean().plot(ax=ax)\n",
        "ax.legend([\"2021\",\"Rolling Mean\"])"
      ],
      "metadata": {
        "id": "QyYwows9Fn0K"
      },
      "id": "QyYwows9Fn0K",
      "execution_count": null,
      "outputs": []
    },
    {
      "cell_type": "code",
      "source": [
        "#An overview of what is happening\n",
        "new_table.plot()\n",
        "plt.ylabel('Yearly children in Shelter');"
      ],
      "metadata": {
        "id": "RugI2INtTRBZ"
      },
      "id": "RugI2INtTRBZ",
      "execution_count": null,
      "outputs": []
    },
    {
      "cell_type": "code",
      "source": [
        "#QS stands for Quarter Start\n",
        "#MS Month Start\n",
        "#BA stands for Business year end\n",
        "# Q\tQuarter end\n",
        "\n",
        "#Resampling and checking the change in the graph\n",
        "Monthly = new_table.resample('BA').mean()\n",
        "Monthly.plot(style=[':', '--', '-'])\n",
        "plt.ylabel('Monthly children in Shelter');"
      ],
      "metadata": {
        "id": "-KLguG7vOBLr"
      },
      "id": "-KLguG7vOBLr",
      "execution_count": null,
      "outputs": []
    },
    {
      "cell_type": "code",
      "source": [
        "#Rooling data\n",
        "daily = new_table.resample('Q').sum()\n",
        "daily.rolling(1, center=True).sum().plot(style=[':', '--', '-'])\n",
        "plt.ylabel('mean hourly count');"
      ],
      "metadata": {
        "id": "ONrgr5lxGq0t"
      },
      "id": "ONrgr5lxGq0t",
      "execution_count": null,
      "outputs": []
    },
    {
      "cell_type": "code",
      "metadata": {
        "id": "O9xTa5gKOhW_"
      },
      "source": [
        "#More details in data\n",
        "#requesting data by date1:date2\n",
        "def data_time_base(given_date,col=DHS_Daily_Report.columns,data=DHS_Daily_Report):\n",
        "  if given_date.find(\":\")!=-1:\n",
        "    arrange_date=given_date.split(\":\")\n",
        "    if date_exist(arrange_date[0]) and date_exist(arrange_date[1]):\n",
        "      return data.loc[arrange_date[0]:arrange_date[1]][col]\n",
        "  \n",
        "  elif given_date in data.index:\n",
        "    return data.loc[given_date][col]\n",
        "  else:\n",
        "    return 'Wrong date or not exist in data'"
      ],
      "id": "O9xTa5gKOhW_",
      "execution_count": null,
      "outputs": []
    },
    {
      "cell_type": "code",
      "metadata": {
        "id": "lj5GJ7VyaZUN"
      },
      "source": [
        "#Check if the date exist in data\n",
        "def date_exist(given_date,data=DHS_Daily_Report.index):\n",
        "  if given_date in data:\n",
        "    return True\n",
        "  else:\n",
        "    return False"
      ],
      "id": "lj5GJ7VyaZUN",
      "execution_count": null,
      "outputs": []
    },
    {
      "cell_type": "code",
      "metadata": {
        "id": "Yiko22MTYWEc"
      },
      "source": [
        "#Picking up some specific period within the dataset\n",
        "reques_date=data_time_base('2021-7:2021-11','Total Children in Shelter')\n",
        "reques_date.plot()\n",
        "plt.show()"
      ],
      "id": "Yiko22MTYWEc",
      "execution_count": null,
      "outputs": []
    },
    {
      "cell_type": "markdown",
      "source": [
        "* Roughly speaking, in the year 2020, from July to november, we see a decreasing in number of children in shelters. In contrast, in other years, 2013 up to 2019 including the year 2021, we see the same pattern which is increasing in the numbers the children entering the shelters.  "
      ],
      "metadata": {
        "id": "O8kxFuFI8JH7"
      },
      "id": "O8kxFuFI8JH7"
    },
    {
      "cell_type": "code",
      "source": [
        "reques_date=data_time_base('2021-07: 2021-11','Total Children in Shelter')"
      ],
      "metadata": {
        "id": "QPInJXjSC2ES"
      },
      "id": "QPInJXjSC2ES",
      "execution_count": null,
      "outputs": []
    },
    {
      "cell_type": "code",
      "source": [
        "reques_date.plot()\n",
        "plt.show()"
      ],
      "metadata": {
        "id": "EPiwMGkIElpB"
      },
      "id": "EPiwMGkIElpB",
      "execution_count": null,
      "outputs": []
    },
    {
      "cell_type": "code",
      "metadata": {
        "id": "xv5wsDrloRvE"
      },
      "source": [
        "cols_plot =Childrens\n",
        "axes=DHS_Daily_Report[cols_plot].plot(marker='.', alpha=0.5, linestyle='None', figsize=(11, 9), subplots=True)\n",
        "# axes = data_time_base('2020-01:2020-02',cols_plot).plot(marker='.', alpha=0.5, linestyle='None', figsize=(11, 9), subplots=True)\n",
        "for ax in axes:\n",
        "    ax.set_ylabel('Children in shelter')"
      ],
      "id": "xv5wsDrloRvE",
      "execution_count": null,
      "outputs": []
    },
    {
      "cell_type": "code",
      "metadata": {
        "id": "-DbfpcdyOhZ1"
      },
      "source": [
        "# Some visualization\n",
        "ax=data_time_base('2017','Total Children in Shelter').plot()\n",
        "ax.set_ylabel('Variance number of children in the shelter');"
      ],
      "id": "-DbfpcdyOhZ1",
      "execution_count": null,
      "outputs": []
    },
    {
      "cell_type": "code",
      "metadata": {
        "id": "FclwYqL5yD8i"
      },
      "source": [
        "ax =data_time_base('2017-01:2017-02','Total Children in Shelter').plot(marker='o', linestyle='-')\n",
        "ax.set_ylabel('Variance number of children in the shelter');"
      ],
      "id": "FclwYqL5yD8i",
      "execution_count": null,
      "outputs": []
    },
    {
      "cell_type": "markdown",
      "source": [
        ""
      ],
      "metadata": {
        "id": "4d3wbAYp_VAq"
      },
      "id": "4d3wbAYp_VAq"
    },
    {
      "cell_type": "code",
      "metadata": {
        "id": "HPL5IXmBOhcX"
      },
      "source": [
        ""
      ],
      "id": "HPL5IXmBOhcX",
      "execution_count": null,
      "outputs": []
    },
    {
      "cell_type": "code",
      "metadata": {
        "id": "mC3M19naoR02"
      },
      "source": [
        ""
      ],
      "id": "mC3M19naoR02",
      "execution_count": null,
      "outputs": []
    },
    {
      "cell_type": "code",
      "metadata": {
        "id": "oMj9meZLoR4D"
      },
      "source": [
        ""
      ],
      "id": "oMj9meZLoR4D",
      "execution_count": null,
      "outputs": []
    },
    {
      "cell_type": "code",
      "metadata": {
        "id": "nSY58B1ToR7F"
      },
      "source": [
        ""
      ],
      "id": "nSY58B1ToR7F",
      "execution_count": null,
      "outputs": []
    },
    {
      "cell_type": "code",
      "metadata": {
        "id": "KX7u8UP7oR93"
      },
      "source": [
        ""
      ],
      "id": "KX7u8UP7oR93",
      "execution_count": null,
      "outputs": []
    },
    {
      "cell_type": "code",
      "metadata": {
        "id": "_lDLkA1ToSA3"
      },
      "source": [
        ""
      ],
      "id": "_lDLkA1ToSA3",
      "execution_count": null,
      "outputs": []
    },
    {
      "cell_type": "code",
      "metadata": {
        "id": "DXqaEpaAoSEb"
      },
      "source": [
        ""
      ],
      "id": "DXqaEpaAoSEb",
      "execution_count": null,
      "outputs": []
    },
    {
      "cell_type": "code",
      "metadata": {
        "id": "Jaa4LSlaoSIQ"
      },
      "source": [
        ""
      ],
      "id": "Jaa4LSlaoSIQ",
      "execution_count": null,
      "outputs": []
    },
    {
      "cell_type": "code",
      "metadata": {
        "id": "UdQGljbNJHLI"
      },
      "source": [
        ""
      ],
      "id": "UdQGljbNJHLI",
      "execution_count": null,
      "outputs": []
    },
    {
      "cell_type": "code",
      "metadata": {
        "id": "JzbG_OVSJHNg"
      },
      "source": [
        ""
      ],
      "id": "JzbG_OVSJHNg",
      "execution_count": null,
      "outputs": []
    },
    {
      "cell_type": "code",
      "metadata": {
        "id": "CR6fJM-qJHTh"
      },
      "source": [
        ""
      ],
      "id": "CR6fJM-qJHTh",
      "execution_count": null,
      "outputs": []
    },
    {
      "cell_type": "code",
      "metadata": {
        "id": "zv3WgGpaJHXP"
      },
      "source": [
        ""
      ],
      "id": "zv3WgGpaJHXP",
      "execution_count": null,
      "outputs": []
    },
    {
      "cell_type": "code",
      "metadata": {
        "id": "P6wCJ1ehHcI7"
      },
      "source": [
        ""
      ],
      "id": "P6wCJ1ehHcI7",
      "execution_count": null,
      "outputs": []
    },
    {
      "cell_type": "code",
      "metadata": {
        "id": "T0csnt2THcLm"
      },
      "source": [
        ""
      ],
      "id": "T0csnt2THcLm",
      "execution_count": null,
      "outputs": []
    },
    {
      "cell_type": "code",
      "metadata": {
        "id": "15SH5zfkHcRK"
      },
      "source": [
        ""
      ],
      "id": "15SH5zfkHcRK",
      "execution_count": null,
      "outputs": []
    },
    {
      "cell_type": "code",
      "metadata": {
        "id": "NhN3jwtMHcUP"
      },
      "source": [
        ""
      ],
      "id": "NhN3jwtMHcUP",
      "execution_count": null,
      "outputs": []
    },
    {
      "cell_type": "code",
      "metadata": {
        "id": "yWF8USBvHcXM"
      },
      "source": [
        ""
      ],
      "id": "yWF8USBvHcXM",
      "execution_count": null,
      "outputs": []
    },
    {
      "cell_type": "code",
      "metadata": {
        "id": "W-kec3O-HcaX"
      },
      "source": [
        ""
      ],
      "id": "W-kec3O-HcaX",
      "execution_count": null,
      "outputs": []
    },
    {
      "cell_type": "code",
      "metadata": {
        "id": "waPr20YTHcdd"
      },
      "source": [
        ""
      ],
      "id": "waPr20YTHcdd",
      "execution_count": null,
      "outputs": []
    },
    {
      "cell_type": "code",
      "metadata": {
        "id": "ccb5nmeXHcgU"
      },
      "source": [
        ""
      ],
      "id": "ccb5nmeXHcgU",
      "execution_count": null,
      "outputs": []
    },
    {
      "cell_type": "code",
      "metadata": {
        "id": "Zk0-ExpGHcjf"
      },
      "source": [
        ""
      ],
      "id": "Zk0-ExpGHcjf",
      "execution_count": null,
      "outputs": []
    },
    {
      "cell_type": "code",
      "metadata": {
        "id": "JkxekHdtHcmO"
      },
      "source": [
        ""
      ],
      "id": "JkxekHdtHcmO",
      "execution_count": null,
      "outputs": []
    },
    {
      "cell_type": "code",
      "metadata": {
        "id": "JCTC8-XYD1Q5"
      },
      "source": [
        ""
      ],
      "id": "JCTC8-XYD1Q5",
      "execution_count": null,
      "outputs": []
    },
    {
      "cell_type": "code",
      "metadata": {
        "id": "dhCs_k0YD1Tn"
      },
      "source": [
        ""
      ],
      "id": "dhCs_k0YD1Tn",
      "execution_count": null,
      "outputs": []
    },
    {
      "cell_type": "code",
      "metadata": {
        "id": "Y_LqFk8_D1WZ"
      },
      "source": [
        ""
      ],
      "id": "Y_LqFk8_D1WZ",
      "execution_count": null,
      "outputs": []
    },
    {
      "cell_type": "code",
      "metadata": {
        "id": "TZq7dUmzCMlS"
      },
      "source": [
        ""
      ],
      "id": "TZq7dUmzCMlS",
      "execution_count": null,
      "outputs": []
    },
    {
      "cell_type": "code",
      "metadata": {
        "id": "w5HngxkSCMoG"
      },
      "source": [
        ""
      ],
      "id": "w5HngxkSCMoG",
      "execution_count": null,
      "outputs": []
    }
  ]
}